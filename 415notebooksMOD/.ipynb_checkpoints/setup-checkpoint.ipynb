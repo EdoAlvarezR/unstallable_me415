{
 "cells": [
  {
   "cell_type": "code",
   "execution_count": 1,
   "metadata": {},
   "outputs": [
    {
     "name": "stderr",
     "output_type": "stream",
     "text": [
      "\u001b[1m\u001b[34mINFO: Nothing to be done\n",
      "\u001b[0m\u001b[1m\u001b[34mINFO: METADATA is out-of-date — you may not have the latest version of IJulia\n",
      "\u001b[0m\u001b[1m\u001b[34mINFO: Use `Pkg.update()` to get the latest versions of your packages\n",
      "\u001b[0m\u001b[1m\u001b[34mINFO: Cloning cache of Interact from https://github.com/JuliaGizmos/Interact.jl.git\n",
      "\u001b[0m\u001b[1m\u001b[34mINFO: Installing Interact v0.5.0\n",
      "\u001b[0m\u001b[1m\u001b[34mINFO: Building Interact\n",
      "\u001b[0m\u001b[1m\u001b[34mINFO: Enabling widgetsnbextension\n",
      "\u001b[0mTraceback (most recent call last):\n",
      "  File \"/home/user/miniconda2/bin/jupyter-nbextension\", line 6, in <module>\n",
      "    sys.exit(notebook.nbextensions.main())\n",
      "  File \"/home/user/miniconda2/lib/python2.7/site-packages/jupyter_core/application.py\", line 267, in launch_instance\n",
      "    return super(JupyterApp, cls).launch_instance(argv=argv, **kwargs)\n",
      "  File \"/home/user/miniconda2/lib/python2.7/site-packages/traitlets/config/application.py\", line 658, in launch_instance\n",
      "    app.start()\n",
      "  File \"/home/user/miniconda2/lib/python2.7/site-packages/notebook/nbextensions.py\", line 900, in start\n",
      "    super(NBExtensionApp, self).start()\n",
      "  File \"/home/user/miniconda2/lib/python2.7/site-packages/jupyter_core/application.py\", line 256, in start\n",
      "    self.subapp.start()\n",
      "  File \"/home/user/miniconda2/lib/python2.7/site-packages/notebook/nbextensions.py\", line 808, in start\n",
      "    self.toggle_nbextension_python(self.extra_args[0])\n",
      "  File \"/home/user/miniconda2/lib/python2.7/site-packages/notebook/nbextensions.py\", line 784, in toggle_nbextension_python\n",
      "    logger=self.log)\n",
      "  File \"/home/user/miniconda2/lib/python2.7/site-packages/notebook/nbextensions.py\", line 445, in enable_nbextension_python\n",
      "    logger=logger)\n",
      "  File \"/home/user/miniconda2/lib/python2.7/site-packages/notebook/nbextensions.py\", line 360, in _set_nbextension_state_python\n",
      "    m, nbexts = _get_nbextension_metadata(module)\n",
      "  File \"/home/user/miniconda2/lib/python2.7/site-packages/notebook/nbextensions.py\", line 1034, in _get_nbextension_metadata\n",
      "    m = import_item(module)\n",
      "  File \"/home/user/miniconda2/lib/python2.7/site-packages/traitlets/utils/importstring.py\", line 42, in import_item\n",
      "    return __import__(parts[0])\n",
      "ImportError: No module named widgetsnbextension\n",
      "\u001b[1m\u001b[31mWARNING: Could not enable widgetsnbextension\u001b[0m\n",
      "Traceback (most recent call last):\n",
      "  File \"<string>\", line 1, in <module>\n",
      "ImportError: No module named ipywidgets\n",
      "\u001b[1m\u001b[31mWARNING: Could not determine ipywidgets version.\u001b[0m\n",
      "\u001b[1m\u001b[34mINFO: Package database updated\n",
      "\u001b[0m\u001b[1m\u001b[34mINFO: METADATA is out-of-date — you may not have the latest version of Interact\n",
      "\u001b[0m\u001b[1m\u001b[34mINFO: Use `Pkg.update()` to get the latest versions of your packages\n",
      "\u001b[0m"
     ]
    }
   ],
   "source": [
    "Pkg.add(\"IJulia\")\n",
    "Pkg.add(\"Interact\")"
   ]
  }
 ],
 "metadata": {
  "kernelspec": {
   "display_name": "Julia 0.5.2",
   "language": "julia",
   "name": "julia-0.5"
  },
  "language_info": {
   "file_extension": ".jl",
   "mimetype": "application/julia",
   "name": "julia",
   "version": "0.5.2"
  }
 },
 "nbformat": 4,
 "nbformat_minor": 2
}
