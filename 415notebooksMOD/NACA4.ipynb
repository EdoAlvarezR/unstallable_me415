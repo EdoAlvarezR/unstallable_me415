{
 "cells": [
  {
   "cell_type": "code",
   "execution_count": 1,
   "metadata": {},
   "outputs": [
    {
     "data": {
      "text/html": [
       "<div id=\"interact-js-shim\">\n",
       "    <script charset=\"utf-8\">\n",
       "(function (IPython, $, _, MathJax) {\n",
       "    $.event.special.destroyed = {\n",
       "\tremove: function(o) {\n",
       "\t    if (o.handler) {\n",
       "\t\to.handler.apply(this, arguments)\n",
       "\t    }\n",
       "\t}\n",
       "    }\n",
       "\n",
       "    var OutputArea = IPython.version >= \"4.0.0\" ? require(\"notebook/js/outputarea\").OutputArea : IPython.OutputArea;\n",
       "\n",
       "    var redrawValue = function (container, type, val) {\n",
       "\tvar selector = $(\"<div/>\");\n",
       "\tvar oa = new OutputArea(_.extend(selector, {\n",
       "\t    selector: selector,\n",
       "\t    prompt_area: true,\n",
       "\t    events: IPython.events,\n",
       "\t    keyboard_manager: IPython.keyboard_manager\n",
       "\t})); // Hack to work with IPython 2.1.0\n",
       "\n",
       "\tswitch (type) {\n",
       "\tcase \"image/png\":\n",
       "            var _src = 'data:' + type + ';base64,' + val;\n",
       "\t    $(container).find(\"img\").attr('src', _src);\n",
       "\t    break;\n",
       "\tcase \"text/latex\":\n",
       "\t\tif (MathJax){\n",
       "\t\t\tvar math = MathJax.Hub.getAllJax(container)[0];\n",
       "\t\t\tMathJax.Hub.Queue([\"Text\", math, val.replace(/^\\${1,2}|\\${1,2}$/g, '')]);\n",
       "\t\t\tbreak;\n",
       "\t\t}\n",
       "\tdefault:\n",
       "\t    var toinsert = OutputArea.append_map[type].apply(\n",
       "\t\toa, [val, {}, selector]\n",
       "\t    );\n",
       "\t    $(container).empty().append(toinsert.contents());\n",
       "\t    selector.remove();\n",
       "\t}\n",
       "    }\n",
       "\n",
       "\n",
       "    $(document).ready(function() {\n",
       "\tfunction initComm(evt, data) {\n",
       "\t    var comm_manager = data.kernel.comm_manager;\n",
       "        //_.extend(comm_manager.targets, require(\"widgets/js/widget\"))\n",
       "\t    comm_manager.register_target(\"Signal\", function (comm) {\n",
       "            comm.on_msg(function (msg) {\n",
       "                var val = msg.content.data.value;\n",
       "                $(\".signal-\" + comm.comm_id).each(function() {\n",
       "                var type = $(this).data(\"type\");\n",
       "                if (typeof(val[type]) !== \"undefined\" && val[type] !== null) {\n",
       "                    redrawValue(this, type, val[type], type);\n",
       "                }\n",
       "                });\n",
       "                delete val;\n",
       "                delete msg.content.data.value;\n",
       "            });\n",
       "\t    });\n",
       "\n",
       "\t    // coordingate with Comm and redraw Signals\n",
       "\t    // XXX: Test using Reactive here to improve performance\n",
       "\t    $([IPython.events]).on(\n",
       "\t\t'output_appended.OutputArea', function (event, type, value, md, toinsert) {\n",
       "\t\t    if (md && md.reactive) {\n",
       "                // console.log(md.comm_id);\n",
       "                toinsert.addClass(\"signal-\" + md.comm_id);\n",
       "                toinsert.data(\"type\", type);\n",
       "                // Signal back indicating the mimetype required\n",
       "                var comm_manager = IPython.notebook.kernel.comm_manager;\n",
       "                var comm = comm_manager.comms[md.comm_id];\n",
       "                comm.then(function (c) {\n",
       "                    c.send({action: \"subscribe_mime\",\n",
       "                       mime: type});\n",
       "                    toinsert.bind(\"destroyed\", function() {\n",
       "                        c.send({action: \"unsubscribe_mime\",\n",
       "                               mime: type});\n",
       "                    });\n",
       "                })\n",
       "\t\t    }\n",
       "\t    });\n",
       "\t}\n",
       "\n",
       "\ttry {\n",
       "\t    // try to initialize right away. otherwise, wait on the status_started event.\n",
       "\t    initComm(undefined, IPython.notebook);\n",
       "\t} catch (e) {\n",
       "\t    $([IPython.events]).on('kernel_created.Kernel kernel_created.Session', initComm);\n",
       "\t}\n",
       "    });\n",
       "})(IPython, jQuery, _, MathJax);\n",
       "</script>\n",
       "    <script>\n",
       "        window.interactLoadedFlag = true\n",
       "       $(\"#interact-js-shim\").bind(\"destroyed\", function () {\n",
       "           if (window.interactLoadedFlag) {\n",
       "               console.warn(\"JavaScript required by Interact will be removed if you remove this cell or run using Interact more than once.\")\n",
       "           }\n",
       "       })\n",
       "       $([IPython.events]).on(\"kernel_starting.Kernel kernel_restarting.Kernel\", function () { window.interactLoadedFlag = false })\n",
       "   </script>\n",
       "</div>"
      ]
     },
     "metadata": {},
     "output_type": "display_data"
    }
   ],
   "source": [
    "using PyPlot\n",
    "using Interact"
   ]
  },
  {
   "cell_type": "code",
   "execution_count": 2,
   "metadata": {},
   "outputs": [
    {
     "data": {
      "text/plain": [
       "naca4 (generic function with 1 method)"
      ]
     },
     "execution_count": 2,
     "metadata": {},
     "output_type": "execute_result"
    }
   ],
   "source": [
    "function naca4(m, p, tc, n)\n",
    "\n",
    "    # normalize inputs\n",
    "    tc = tc/100.0\n",
    "    m = m/100.0\n",
    "    p = p/10.0\n",
    "    \n",
    "    # x discretization\n",
    "    x = linspace(0, 1, n)\n",
    "    \n",
    "    # thickness\n",
    "    tau = 5*tc*(0.2969*sqrt.(x) - 0.1260*x - 0.3516*x.^2 + 0.2843*x.^3 - 0.1015*x.^4)\n",
    "\n",
    "    # camber\n",
    "    yc = zeros(x)\n",
    "    if p != 0\n",
    "        idx = x .<= p\n",
    "        yc[idx] = m/p^2*(2*p*x[idx] - x[idx].^2)\n",
    "        idx = x .> p\n",
    "        yc[idx] = m/(1-p)^2*(1-2*p + 2*p*x[idx] - x[idx].^2)\n",
    "    end\n",
    "\n",
    "    # upper and lower surface\n",
    "    yu = yc + tau\n",
    "    yl = yc - tau\n",
    "    \n",
    "    return x, yu, yl\n",
    "end"
   ]
  },
  {
   "cell_type": "code",
   "execution_count": 3,
   "metadata": {},
   "outputs": [
    {
     "data": {
      "application/vnd.jupyter.widget-view+json": {
       "model_id": "8d6781e5-5713-40f0-8165-9a88b580b2c5",
       "version_major": 2,
       "version_minor": 0
      }
     },
     "metadata": {},
     "output_type": "display_data"
    },
    {
     "data": {
      "text/html": [],
      "text/plain": [
       "Interact.Options{:SelectionSlider,Any}(1: \"input\" = 4 Any ,\"m\",4,\"4\",5,Interact.OptionDict(DataStructures.OrderedDict{Any,Any}(\"0\"=>0,\"1\"=>1,\"2\"=>2,\"3\"=>3,\"4\"=>4,\"5\"=>5,\"6\"=>6,\"7\"=>7,\"8\"=>8,\"9\"=>9…),Dict{Any,Any}(Pair{Any,Any}(0,\"0\"),Pair{Any,Any}(4,\"4\"),Pair{Any,Any}(7,\"7\"),Pair{Any,Any}(9,\"9\"),Pair{Any,Any}(2,\"2\"),Pair{Any,Any}(3,\"3\"),Pair{Any,Any}(5,\"5\"),Pair{Any,Any}(8,\"8\"),Pair{Any,Any}(6,\"6\"),Pair{Any,Any}(1,\"1\")…)),Any[],Any[],true,\"horizontal\")"
      ]
     },
     "metadata": {},
     "output_type": "display_data"
    },
    {
     "data": {
      "application/vnd.jupyter.widget-view+json": {
       "model_id": "e37fac49-a94b-4126-bb60-0f864ba8b15d",
       "version_major": 2,
       "version_minor": 0
      }
     },
     "metadata": {},
     "output_type": "display_data"
    },
    {
     "data": {
      "text/html": [],
      "text/plain": [
       "Interact.Options{:SelectionSlider,Any}(3: \"input-2\" = 4 Any ,\"p\",4,\"4\",5,Interact.OptionDict(DataStructures.OrderedDict{Any,Any}(\"0\"=>0,\"1\"=>1,\"2\"=>2,\"3\"=>3,\"4\"=>4,\"5\"=>5,\"6\"=>6,\"7\"=>7,\"8\"=>8,\"9\"=>9…),Dict{Any,Any}(Pair{Any,Any}(0,\"0\"),Pair{Any,Any}(4,\"4\"),Pair{Any,Any}(7,\"7\"),Pair{Any,Any}(9,\"9\"),Pair{Any,Any}(2,\"2\"),Pair{Any,Any}(3,\"3\"),Pair{Any,Any}(5,\"5\"),Pair{Any,Any}(8,\"8\"),Pair{Any,Any}(6,\"6\"),Pair{Any,Any}(1,\"1\")…)),Any[],Any[],true,\"horizontal\")"
      ]
     },
     "metadata": {},
     "output_type": "display_data"
    },
    {
     "data": {
      "application/vnd.jupyter.widget-view+json": {
       "model_id": "ed36df4f-9341-404d-9581-2a0deea1b58d",
       "version_major": 2,
       "version_minor": 0
      }
     },
     "metadata": {},
     "output_type": "display_data"
    },
    {
     "data": {
      "text/html": [],
      "text/plain": [
       "Interact.Options{:SelectionSlider,Any}(5: \"input-3\" = 12 Any ,\"tc\",12,\"12\",13,Interact.OptionDict(DataStructures.OrderedDict{Any,Any}(\"0\"=>0,\"1\"=>1,\"2\"=>2,\"3\"=>3,\"4\"=>4,\"5\"=>5,\"6\"=>6,\"7\"=>7,\"8\"=>8,\"9\"=>9…),Dict{Any,Any}(Pair{Any,Any}(18,\"18\"),Pair{Any,Any}(2,\"2\"),Pair{Any,Any}(16,\"16\"),Pair{Any,Any}(11,\"11\"),Pair{Any,Any}(21,\"21\"),Pair{Any,Any}(0,\"0\"),Pair{Any,Any}(7,\"7\"),Pair{Any,Any}(9,\"9\"),Pair{Any,Any}(10,\"10\"),Pair{Any,Any}(25,\"25\")…)),Any[],Any[],true,\"horizontal\")"
      ]
     },
     "metadata": {},
     "output_type": "display_data"
    },
    {
     "data": {
      "image/png": "[encoded data removed]",
      "text/plain": [
       "PyPlot.Figure(PyObject <matplotlib.figure.Figure object at 0x7f1108d73b90>)"
      ]
     },
     "execution_count": 3,
     "metadata": {
      "comm_id": "afc39d07-1b8c-4885-b4e4-22ec89c3e3e2",
      "reactive": true
     },
     "output_type": "execute_result"
    }
   ],
   "source": [
    "n = 200\n",
    "f = figure()\n",
    "\n",
    "@manipulate for m=0:1:9, p=0:1:9, tc=0:1:25; withfig(f) do\n",
    "        x, yu, yl = naca4(m, p, tc, n)\n",
    "        plot(x, yu, \"k\")\n",
    "        plot(x, yl, \"k\")\n",
    "        \n",
    "        xlim([-0.05, 1.05])\n",
    "        ylim([-0.4, 0.4])\n",
    "        axis(\"off\")\n",
    "    end\n",
    "end\n"
   ]
  },
  {
   "cell_type": "code",
   "execution_count": null,
   "metadata": {
    "collapsed": true
   },
   "outputs": [],
   "source": []
  }
 ],
 "metadata": {
  "kernelspec": {
   "display_name": "Julia 0.5.2",
   "language": "julia",
   "name": "julia-0.5"
  },
  "language_info": {
   "file_extension": ".jl",
   "mimetype": "application/julia",
   "name": "julia",
   "version": "0.5.2"
  },
  "widgets": {
   "application/vnd.jupyter.widget-state+json": {
    "state": {
     "000805be-5767-47b1-ad00-fcb31f5853c5": {
      "model_module": "@jupyter-widgets/controls",
      "model_module_version": "1.0.0",
      "model_name": "SelectionSliderModel",
      "state": {
       "_options_labels": [
        "0",
        "1",
        "2",
        "3",
        "4",
        "5",
        "6",
        "7",
        "8",
        "9"
       ],
       "description": "m",
       "icons": [],
       "index": 2,
       "model_name": "SelectionSliderModel",
       "msg_throttle": 5,
       "selected_label": "4",
       "tooltips": [],
       "value": "4",
       "visible": true
      }
     },
     "031a3c06-00e5-45d3-9562-c15a566a9d47": {
      "model_module": "@jupyter-widgets/controls",
      "model_module_version": "1.0.0",
      "model_name": "SelectionSliderModel",
      "state": {
       "_options_labels": [
        "0",
        "1",
        "2",
        "3",
        "4",
        "5",
        "6",
        "7",
        "8",
        "9",
        "10",
        "11",
        "12",
        "13",
        "14",
        "15",
        "16",
        "17",
        "18",
        "19",
        "20",
        "21",
        "22",
        "23",
        "24",
        "25",
        "26",
        "27",
        "28",
        "29",
        "30"
       ],
       "description": "tc",
       "icons": [],
       "index": 15,
       "model_name": "SelectionSliderModel",
       "msg_throttle": 5,
       "selected_label": "30",
       "tooltips": [],
       "value": "30",
       "visible": true
      }
     },
     "1030a430-73eb-40c9-b618-319c5b40d125": {
      "model_module": "@jupyter-widgets/controls",
      "model_module_version": "1.0.0",
      "model_name": "SelectionSliderModel",
      "state": {
       "_options_labels": [
        "0",
        "1",
        "2",
        "3",
        "4",
        "5",
        "6",
        "7",
        "8",
        "9"
       ],
       "description": "m",
       "icons": [],
       "index": 4,
       "model_name": "SelectionSliderModel",
       "msg_throttle": 5,
       "selected_label": "4",
       "tooltips": [],
       "value": "4",
       "visible": true
      }
     },
     "127830f6-e933-491f-96f5-1c3f1e65d244": {
      "model_module": "@jupyter-widgets/controls",
      "model_module_version": "1.0.0",
      "model_name": "SelectionSliderModel",
      "state": {
       "_options_labels": [
        "0",
        "1",
        "2",
        "3",
        "4",
        "5",
        "6",
        "7",
        "8",
        "9"
       ],
       "description": "m",
       "icons": [],
       "index": 4,
       "model_name": "SelectionSliderModel",
       "msg_throttle": 5,
       "selected_label": "4",
       "tooltips": [],
       "value": "4",
       "visible": true
      }
     },
     "212fb523-adbe-4ff7-a3bc-82384ffb977f": {
      "model_module": "@jupyter-widgets/controls",
      "model_module_version": "1.0.0",
      "model_name": "SelectionSliderModel",
      "state": {
       "_options_labels": [
        "0",
        "1",
        "2",
        "3",
        "4",
        "5",
        "6",
        "7",
        "8",
        "9",
        "10",
        "11",
        "12",
        "13",
        "14",
        "15",
        "16",
        "17",
        "18",
        "19",
        "20",
        "21",
        "22",
        "23",
        "24",
        "25",
        "26",
        "27",
        "28",
        "29",
        "30"
       ],
       "description": "tc",
       "icons": [],
       "index": 30,
       "model_name": "SelectionSliderModel",
       "msg_throttle": 5,
       "selected_label": "30",
       "tooltips": [],
       "value": "30",
       "visible": true
      }
     },
     "475122ac-6877-4238-96e0-19aabce66fe1": {
      "model_module": "@jupyter-widgets/controls",
      "model_module_version": "1.0.0",
      "model_name": "SelectionSliderModel",
      "state": {
       "_options_labels": [
        "0",
        "1",
        "2",
        "3",
        "4",
        "5",
        "6",
        "7",
        "8",
        "9"
       ],
       "description": "p",
       "icons": [],
       "index": 0,
       "model_name": "SelectionSliderModel",
       "msg_throttle": 5,
       "selected_label": "0",
       "tooltips": [],
       "value": "0",
       "visible": true
      }
     },
     "4977434d-d30e-44b8-917c-9056c73ba708": {
      "model_module": "@jupyter-widgets/controls",
      "model_module_version": "1.0.0",
      "model_name": "SelectionSliderModel",
      "state": {
       "_options_labels": [
        "0",
        "1",
        "2",
        "3",
        "4",
        "5",
        "6",
        "7",
        "8",
        "9"
       ],
       "description": "p",
       "icons": [],
       "index": 4,
       "model_name": "SelectionSliderModel",
       "msg_throttle": 5,
       "selected_label": "4",
       "tooltips": [],
       "value": "4",
       "visible": true
      }
     },
     "789b18c0-9b90-48d1-8f86-795cb954d915": {
      "model_module": "@jupyter-widgets/controls",
      "model_module_version": "1.0.0",
      "model_name": "SelectionSliderModel",
      "state": {
       "_options_labels": [
        "0",
        "1",
        "2",
        "3",
        "4",
        "5",
        "6",
        "7",
        "8",
        "9",
        "10",
        "11",
        "12",
        "13",
        "14",
        "15",
        "16",
        "17",
        "18",
        "19",
        "20",
        "21",
        "22",
        "23",
        "24",
        "25",
        "26",
        "27",
        "28",
        "29",
        "30"
       ],
       "description": "tc",
       "icons": [],
       "index": 15,
       "model_name": "SelectionSliderModel",
       "msg_throttle": 5,
       "selected_label": "15",
       "tooltips": [],
       "value": "15",
       "visible": true
      }
     },
     "a3c878a0-6d8c-4fe1-8e24-8cc608a23258": {
      "model_module": "@jupyter-widgets/controls",
      "model_module_version": "1.0.0",
      "model_name": "SelectionSliderModel",
      "state": {
       "_options_labels": [
        "0",
        "1",
        "2",
        "3",
        "4",
        "5",
        "6",
        "7",
        "8",
        "9",
        "10",
        "11",
        "12",
        "13",
        "14",
        "15",
        "16",
        "17",
        "18",
        "19",
        "20",
        "21",
        "22",
        "23",
        "24",
        "25"
       ],
       "description": "tc",
       "icons": [],
       "index": 12,
       "model_name": "SelectionSliderModel",
       "msg_throttle": 5,
       "selected_label": "12",
       "tooltips": [],
       "value": "12",
       "visible": true
      }
     },
     "b57e4454-cf8f-4a89-8776-ef5a7ebed7ee": {
      "model_module": "@jupyter-widgets/controls",
      "model_module_version": "1.0.0",
      "model_name": "SelectionSliderModel",
      "state": {
       "_options_labels": [
        "0",
        "1",
        "2",
        "3",
        "4",
        "5",
        "6",
        "7",
        "8",
        "9",
        "10",
        "11",
        "12",
        "13",
        "14",
        "15",
        "16",
        "17",
        "18",
        "19",
        "20",
        "21",
        "22",
        "23",
        "24",
        "25",
        "26",
        "27",
        "28",
        "29",
        "30"
       ],
       "description": "tc",
       "icons": [],
       "index": 15,
       "model_name": "SelectionSliderModel",
       "msg_throttle": 5,
       "selected_label": "15",
       "tooltips": [],
       "value": "15",
       "visible": true
      }
     },
     "c4d916ef-16dd-45aa-8562-57161a1f0235": {
      "model_module": "@jupyter-widgets/controls",
      "model_module_version": "1.0.0",
      "model_name": "SelectionSliderModel",
      "state": {
       "_options_labels": [
        "0",
        "1",
        "2",
        "3",
        "4",
        "5",
        "6",
        "7",
        "8",
        "9"
       ],
       "description": "m",
       "icons": [],
       "index": 3,
       "model_name": "SelectionSliderModel",
       "msg_throttle": 5,
       "selected_label": "4",
       "tooltips": [],
       "value": "4",
       "visible": true
      }
     },
     "cb30dfaa-8f6e-47d7-b3cd-6962f367fbeb": {
      "model_module": "@jupyter-widgets/controls",
      "model_module_version": "1.0.0",
      "model_name": "SelectionSliderModel",
      "state": {
       "_options_labels": [
        "0",
        "1",
        "2",
        "3",
        "4",
        "5",
        "6",
        "7",
        "8",
        "9"
       ],
       "description": "p",
       "icons": [],
       "index": 0,
       "model_name": "SelectionSliderModel",
       "msg_throttle": 5,
       "selected_label": "4",
       "tooltips": [],
       "value": "4",
       "visible": true
      }
     },
     "cbd1bea9-bf7d-4b3a-9e57-fbec92a438ae": {
      "model_module": "@jupyter-widgets/controls",
      "model_module_version": "1.0.0",
      "model_name": "SelectionSliderModel",
      "state": {
       "_options_labels": [
        "0",
        "1",
        "2",
        "3",
        "4",
        "5",
        "6",
        "7",
        "8",
        "9"
       ],
       "description": "m",
       "icons": [],
       "index": 0,
       "model_name": "SelectionSliderModel",
       "msg_throttle": 5,
       "selected_label": "4",
       "tooltips": [],
       "value": "4",
       "visible": true
      }
     },
     "d5b5f6f7-e567-4a9e-9c53-26c9375e9123": {
      "model_module": "@jupyter-widgets/controls",
      "model_module_version": "1.0.0",
      "model_name": "SelectionSliderModel",
      "state": {
       "_options_labels": [
        "0",
        "1",
        "2",
        "3",
        "4",
        "5",
        "6",
        "7",
        "8",
        "9",
        "10",
        "11",
        "12",
        "13",
        "14",
        "15",
        "16",
        "17",
        "18",
        "19",
        "20",
        "21",
        "22",
        "23",
        "24",
        "25",
        "26",
        "27",
        "28",
        "29",
        "30",
        "31",
        "32",
        "33",
        "34",
        "35",
        "36",
        "37",
        "38",
        "39",
        "40",
        "41",
        "42",
        "43",
        "44",
        "45",
        "46",
        "47",
        "48",
        "49",
        "50"
       ],
       "description": "tc",
       "icons": [],
       "index": 12,
       "model_name": "SelectionSliderModel",
       "msg_throttle": 5,
       "selected_label": "10",
       "tooltips": [],
       "value": "10",
       "visible": true
      }
     },
     "d7d6488a-2eff-4690-a724-11f093db8786": {
      "model_module": "@jupyter-widgets/controls",
      "model_module_version": "1.0.0",
      "model_name": "SelectionSliderModel",
      "state": {
       "_options_labels": [
        "0",
        "1",
        "2",
        "3",
        "4",
        "5",
        "6",
        "7",
        "8",
        "9"
       ],
       "description": "m",
       "icons": [],
       "index": 3,
       "model_name": "SelectionSliderModel",
       "msg_throttle": 5,
       "selected_label": "4",
       "tooltips": [],
       "value": "4",
       "visible": true
      }
     },
     "e8b87cea-8bcd-457c-b171-456cac618af3": {
      "model_module": "@jupyter-widgets/controls",
      "model_module_version": "1.0.0",
      "model_name": "SelectionSliderModel",
      "state": {
       "_options_labels": [
        "0",
        "1",
        "2",
        "3",
        "4",
        "5",
        "6",
        "7",
        "8",
        "9"
       ],
       "description": "p",
       "icons": [],
       "index": 4,
       "model_name": "SelectionSliderModel",
       "msg_throttle": 5,
       "selected_label": "4",
       "tooltips": [],
       "value": "4",
       "visible": true
      }
     },
     "ec991aa5-cebc-496a-ab96-e861ffb13fa0": {
      "model_module": "@jupyter-widgets/controls",
      "model_module_version": "1.0.0",
      "model_name": "SelectionSliderModel",
      "state": {
       "_options_labels": [
        "0",
        "1",
        "2",
        "3",
        "4",
        "5",
        "6",
        "7",
        "8",
        "9"
       ],
       "description": "m",
       "icons": [],
       "index": 4,
       "model_name": "SelectionSliderModel",
       "msg_throttle": 5,
       "selected_label": "4",
       "tooltips": [],
       "value": "4",
       "visible": true
      }
     },
     "ef21fea7-1587-4b6d-8866-f432da977b6e": {
      "model_module": "@jupyter-widgets/controls",
      "model_module_version": "1.0.0",
      "model_name": "SelectionSliderModel",
      "state": {
       "_options_labels": [
        "0",
        "1",
        "2",
        "3",
        "4",
        "5",
        "6",
        "7",
        "8",
        "9"
       ],
       "description": "p",
       "icons": [],
       "index": 4,
       "model_name": "SelectionSliderModel",
       "msg_throttle": 5,
       "selected_label": "4",
       "tooltips": [],
       "value": "4",
       "visible": true
      }
     },
     "f295ac21-2174-4ef2-b8d3-ebc58d784327": {
      "model_module": "@jupyter-widgets/controls",
      "model_module_version": "1.0.0",
      "model_name": "SelectionSliderModel",
      "state": {
       "_options_labels": [
        "0",
        "1",
        "2",
        "3",
        "4",
        "5",
        "6",
        "7",
        "8",
        "9"
       ],
       "description": "p",
       "icons": [],
       "index": 5,
       "model_name": "SelectionSliderModel",
       "msg_throttle": 5,
       "selected_label": "4",
       "tooltips": [],
       "value": "4",
       "visible": true
      }
     },
     "fe063cfa-29bd-434e-8e82-f8d00f55ac79": {
      "model_module": "@jupyter-widgets/controls",
      "model_module_version": "1.0.0",
      "model_name": "SelectionSliderModel",
      "state": {
       "_options_labels": [
        "0",
        "1",
        "2",
        "3",
        "4",
        "5",
        "6",
        "7",
        "8",
        "9"
       ],
       "description": "p",
       "icons": [],
       "index": 4,
       "model_name": "SelectionSliderModel",
       "msg_throttle": 5,
       "selected_label": "4",
       "tooltips": [],
       "value": "4",
       "visible": true
      }
     },
     "fe2ca215-0a74-4018-8789-6117c44f9449": {
      "model_module": "@jupyter-widgets/controls",
      "model_module_version": "1.0.0",
      "model_name": "SelectionSliderModel",
      "state": {
       "_options_labels": [
        "0",
        "1",
        "2",
        "3",
        "4",
        "5",
        "6",
        "7",
        "8",
        "9",
        "10",
        "11",
        "12",
        "13",
        "14",
        "15",
        "16",
        "17",
        "18",
        "19",
        "20",
        "21",
        "22",
        "23",
        "24",
        "25",
        "26",
        "27",
        "28",
        "29",
        "30",
        "31",
        "32",
        "33",
        "34",
        "35",
        "36",
        "37",
        "38",
        "39",
        "40",
        "41",
        "42",
        "43",
        "44",
        "45",
        "46",
        "47",
        "48",
        "49",
        "50"
       ],
       "description": "tc",
       "icons": [],
       "index": 12,
       "model_name": "SelectionSliderModel",
       "msg_throttle": 5,
       "selected_label": "25",
       "tooltips": [],
       "value": "25",
       "visible": true
      }
     }
    },
    "version_major": 2,
    "version_minor": 0
   }
  }
 },
 "nbformat": 4,
 "nbformat_minor": 2
}
