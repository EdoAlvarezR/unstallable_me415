{
 "cells": [
  {
   "cell_type": "code",
   "execution_count": 1,
   "metadata": {},
   "outputs": [
    {
     "data": {
      "text/html": [
       "<div id=\"interact-js-shim\">\n",
       "    <script charset=\"utf-8\">\n",
       "(function (IPython, $, _, MathJax) {\n",
       "    $.event.special.destroyed = {\n",
       "\tremove: function(o) {\n",
       "\t    if (o.handler) {\n",
       "\t\to.handler.apply(this, arguments)\n",
       "\t    }\n",
       "\t}\n",
       "    }\n",
       "\n",
       "    var OutputArea = IPython.version >= \"4.0.0\" ? require(\"notebook/js/outputarea\").OutputArea : IPython.OutputArea;\n",
       "\n",
       "    var redrawValue = function (container, type, val) {\n",
       "\tvar selector = $(\"<div/>\");\n",
       "\tvar oa = new OutputArea(_.extend(selector, {\n",
       "\t    selector: selector,\n",
       "\t    prompt_area: true,\n",
       "\t    events: IPython.events,\n",
       "\t    keyboard_manager: IPython.keyboard_manager\n",
       "\t})); // Hack to work with IPython 2.1.0\n",
       "\n",
       "\tswitch (type) {\n",
       "\tcase \"image/png\":\n",
       "            var _src = 'data:' + type + ';base64,' + val;\n",
       "\t    $(container).find(\"img\").attr('src', _src);\n",
       "\t    break;\n",
       "\tcase \"text/latex\":\n",
       "\t\tif (MathJax){\n",
       "\t\t\tvar math = MathJax.Hub.getAllJax(container)[0];\n",
       "\t\t\tMathJax.Hub.Queue([\"Text\", math, val.replace(/^\\${1,2}|\\${1,2}$/g, '')]);\n",
       "\t\t\tbreak;\n",
       "\t\t}\n",
       "\tdefault:\n",
       "\t    var toinsert = OutputArea.append_map[type].apply(\n",
       "\t\toa, [val, {}, selector]\n",
       "\t    );\n",
       "\t    $(container).empty().append(toinsert.contents());\n",
       "\t    selector.remove();\n",
       "\t}\n",
       "    }\n",
       "\n",
       "\n",
       "    $(document).ready(function() {\n",
       "\tfunction initComm(evt, data) {\n",
       "\t    var comm_manager = data.kernel.comm_manager;\n",
       "        //_.extend(comm_manager.targets, require(\"widgets/js/widget\"))\n",
       "\t    comm_manager.register_target(\"Signal\", function (comm) {\n",
       "            comm.on_msg(function (msg) {\n",
       "                var val = msg.content.data.value;\n",
       "                $(\".signal-\" + comm.comm_id).each(function() {\n",
       "                var type = $(this).data(\"type\");\n",
       "                if (typeof(val[type]) !== \"undefined\" && val[type] !== null) {\n",
       "                    redrawValue(this, type, val[type], type);\n",
       "                }\n",
       "                });\n",
       "                delete val;\n",
       "                delete msg.content.data.value;\n",
       "            });\n",
       "\t    });\n",
       "\n",
       "\t    // coordingate with Comm and redraw Signals\n",
       "\t    // XXX: Test using Reactive here to improve performance\n",
       "\t    $([IPython.events]).on(\n",
       "\t\t'output_appended.OutputArea', function (event, type, value, md, toinsert) {\n",
       "\t\t    if (md && md.reactive) {\n",
       "                // console.log(md.comm_id);\n",
       "                toinsert.addClass(\"signal-\" + md.comm_id);\n",
       "                toinsert.data(\"type\", type);\n",
       "                // Signal back indicating the mimetype required\n",
       "                var comm_manager = IPython.notebook.kernel.comm_manager;\n",
       "                var comm = comm_manager.comms[md.comm_id];\n",
       "                comm.then(function (c) {\n",
       "                    c.send({action: \"subscribe_mime\",\n",
       "                       mime: type});\n",
       "                    toinsert.bind(\"destroyed\", function() {\n",
       "                        c.send({action: \"unsubscribe_mime\",\n",
       "                               mime: type});\n",
       "                    });\n",
       "                })\n",
       "\t\t    }\n",
       "\t    });\n",
       "\t}\n",
       "\n",
       "\ttry {\n",
       "\t    // try to initialize right away. otherwise, wait on the status_started event.\n",
       "\t    initComm(undefined, IPython.notebook);\n",
       "\t} catch (e) {\n",
       "\t    $([IPython.events]).on('kernel_created.Kernel kernel_created.Session', initComm);\n",
       "\t}\n",
       "    });\n",
       "})(IPython, jQuery, _, MathJax);\n",
       "</script>\n",
       "    <script>\n",
       "        window.interactLoadedFlag = true\n",
       "       $(\"#interact-js-shim\").bind(\"destroyed\", function () {\n",
       "           if (window.interactLoadedFlag) {\n",
       "               console.warn(\"JavaScript required by Interact will be removed if you remove this cell or run using Interact more than once.\")\n",
       "           }\n",
       "       })\n",
       "       $([IPython.events]).on(\"kernel_starting.Kernel kernel_restarting.Kernel\", function () { window.interactLoadedFlag = false })\n",
       "   </script>\n",
       "</div>"
      ]
     },
     "metadata": {},
     "output_type": "display_data"
    }
   ],
   "source": [
    "using PyPlot\n",
    "using Interact\n",
    "\n",
    "include(\"simplevlm.jl\");"
   ]
  },
  {
   "cell_type": "markdown",
   "metadata": {},
   "source": [
    "# Simple Interactive Version"
   ]
  },
  {
   "cell_type": "code",
   "execution_count": 2,
   "metadata": {},
   "outputs": [
    {
     "data": {
      "application/vnd.jupyter.widget-view+json": {
       "model_id": "3fda284d-dd6c-41e5-ae58-6ba73b082c64",
       "version_major": 2,
       "version_minor": 0
      }
     },
     "metadata": {},
     "output_type": "display_data"
    },
    {
     "data": {
      "text/html": [],
      "text/plain": [
       "Interact.Options{:SelectionSlider,Any}(1: \"input\" = 8.0 Any ,\"AR\",8.0,\"8.0\",15,Interact.OptionDict(DataStructures.OrderedDict{Any,Any}(\"1.0\"=>1.0,\"1.5\"=>1.5,\"2.0\"=>2.0,\"2.5\"=>2.5,\"3.0\"=>3.0,\"3.5\"=>3.5,\"4.0\"=>4.0,\"4.5\"=>4.5,\"5.0\"=>5.0,\"5.5\"=>5.5…),Dict{Any,Any}(Pair{Any,Any}(5.5,\"5.5\"),Pair{Any,Any}(6.5,\"6.5\"),Pair{Any,Any}(2.0,\"2.0\"),Pair{Any,Any}(1.5,\"1.5\"),Pair{Any,Any}(10.5,\"10.5\"),Pair{Any,Any}(4.5,\"4.5\"),Pair{Any,Any}(11.0,\"11.0\"),Pair{Any,Any}(7.0,\"7.0\"),Pair{Any,Any}(8.5,\"8.5\"),Pair{Any,Any}(9.0,\"9.0\")…)),Any[],Any[],true,\"horizontal\")"
      ]
     },
     "metadata": {},
     "output_type": "display_data"
    },
    {
     "data": {
      "application/vnd.jupyter.widget-view+json": {
       "model_id": "92c8af88-0129-4e10-817f-b69485c55a9e",
       "version_major": 2,
       "version_minor": 0
      }
     },
     "metadata": {},
     "output_type": "display_data"
    },
    {
     "data": {
      "text/html": [],
      "text/plain": [
       "Interact.Options{:SelectionSlider,Any}(3: \"input-2\" = 0.55 Any ,\"λ\",0.55,\"0.55\",10,Interact.OptionDict(DataStructures.OrderedDict{Any,Any}(\"0.1\"=>0.1,\"0.15\"=>0.15,\"0.2\"=>0.2,\"0.25\"=>0.25,\"0.3\"=>0.3,\"0.35\"=>0.35,\"0.4\"=>0.4,\"0.45\"=>0.45,\"0.5\"=>0.5,\"0.55\"=>0.55…),Dict{Any,Any}(Pair{Any,Any}(1.0,\"1.0\"),Pair{Any,Any}(0.95,\"0.95\"),Pair{Any,Any}(0.3,\"0.3\"),Pair{Any,Any}(0.45,\"0.45\"),Pair{Any,Any}(0.25,\"0.25\"),Pair{Any,Any}(0.35,\"0.35\"),Pair{Any,Any}(0.7,\"0.7\"),Pair{Any,Any}(0.85,\"0.85\"),Pair{Any,Any}(0.15,\"0.15\"),Pair{Any,Any}(0.2,\"0.2\")…)),Any[],Any[],true,\"horizontal\")"
      ]
     },
     "metadata": {},
     "output_type": "display_data"
    },
    {
     "data": {
      "application/vnd.jupyter.widget-view+json": {
       "model_id": "66e6678c-1d09-4807-b3d0-5dc99560b9df",
       "version_major": 2,
       "version_minor": 0
      }
     },
     "metadata": {},
     "output_type": "display_data"
    },
    {
     "data": {
      "text/html": [],
      "text/plain": [
       "Interact.Options{:SelectionSlider,Any}(5: \"input-3\" = 25.0 Any ,\"Λ\",25.0,\"25.0\",11,Interact.OptionDict(DataStructures.OrderedDict{Any,Any}(\"0.0\"=>0.0,\"2.5\"=>2.5,\"5.0\"=>5.0,\"7.5\"=>7.5,\"10.0\"=>10.0,\"12.5\"=>12.5,\"15.0\"=>15.0,\"17.5\"=>17.5,\"20.0\"=>20.0,\"22.5\"=>22.5…),Dict{Any,Any}(Pair{Any,Any}(50.0,\"50.0\"),Pair{Any,Any}(40.0,\"40.0\"),Pair{Any,Any}(42.5,\"42.5\"),Pair{Any,Any}(37.5,\"37.5\"),Pair{Any,Any}(0.0,\"0.0\"),Pair{Any,Any}(25.0,\"25.0\"),Pair{Any,Any}(10.0,\"10.0\"),Pair{Any,Any}(35.0,\"35.0\"),Pair{Any,Any}(27.5,\"27.5\"),Pair{Any,Any}(47.5,\"47.5\")…)),Any[],Any[],true,\"horizontal\")"
      ]
     },
     "metadata": {},
     "output_type": "display_data"
    },
    {
     "data": {
      "application/vnd.jupyter.widget-view+json": {
       "model_id": "493be1bf-a6c9-49ff-8fd7-ec678bcb25d5",
       "version_major": 2,
       "version_minor": 0
      }
     },
     "metadata": {},
     "output_type": "display_data"
    },
    {
     "data": {
      "text/html": [],
      "text/plain": [
       "Interact.Options{:SelectionSlider,Any}(7: \"input-4\" = 0.0 Any ,\"θ1\",0.0,\"0.0\",21,Interact.OptionDict(DataStructures.OrderedDict{Any,Any}(\"-10.0\"=>-10.0,\"-9.5\"=>-9.5,\"-9.0\"=>-9.0,\"-8.5\"=>-8.5,\"-8.0\"=>-8.0,\"-7.5\"=>-7.5,\"-7.0\"=>-7.0,\"-6.5\"=>-6.5,\"-6.0\"=>-6.0,\"-5.5\"=>-5.5…),Dict{Any,Any}(Pair{Any,Any}(1.0,\"1.0\"),Pair{Any,Any}(5.5,\"5.5\"),Pair{Any,Any}(6.5,\"6.5\"),Pair{Any,Any}(2.0,\"2.0\"),Pair{Any,Any}(-1.0,\"-1.0\"),Pair{Any,Any}(1.5,\"1.5\"),Pair{Any,Any}(-8.5,\"-8.5\"),Pair{Any,Any}(-7.0,\"-7.0\"),Pair{Any,Any}(4.5,\"4.5\"),Pair{Any,Any}(0.0,\"0.0\")…)),Any[],Any[],true,\"horizontal\")"
      ]
     },
     "metadata": {},
     "output_type": "display_data"
    },
    {
     "data": {
      "application/vnd.jupyter.widget-view+json": {
       "model_id": "bf237bd1-fc97-44e0-83f0-1cdaf2344e0d",
       "version_major": 2,
       "version_minor": 0
      }
     },
     "metadata": {},
     "output_type": "display_data"
    },
    {
     "data": {
      "text/html": [],
      "text/plain": [
       "Interact.Options{:SelectionSlider,Any}(9: \"input-5\" = 0.0 Any ,\"θ2\",0.0,\"0.0\",21,Interact.OptionDict(DataStructures.OrderedDict{Any,Any}(\"-10.0\"=>-10.0,\"-9.5\"=>-9.5,\"-9.0\"=>-9.0,\"-8.5\"=>-8.5,\"-8.0\"=>-8.0,\"-7.5\"=>-7.5,\"-7.0\"=>-7.0,\"-6.5\"=>-6.5,\"-6.0\"=>-6.0,\"-5.5\"=>-5.5…),Dict{Any,Any}(Pair{Any,Any}(1.0,\"1.0\"),Pair{Any,Any}(5.5,\"5.5\"),Pair{Any,Any}(6.5,\"6.5\"),Pair{Any,Any}(2.0,\"2.0\"),Pair{Any,Any}(-1.0,\"-1.0\"),Pair{Any,Any}(1.5,\"1.5\"),Pair{Any,Any}(-8.5,\"-8.5\"),Pair{Any,Any}(-7.0,\"-7.0\"),Pair{Any,Any}(4.5,\"4.5\"),Pair{Any,Any}(0.0,\"0.0\")…)),Any[],Any[],true,\"horizontal\")"
      ]
     },
     "metadata": {},
     "output_type": "display_data"
    },
    {
     "data": {
      "application/vnd.jupyter.widget-view+json": {
       "model_id": "67ed8cb9-7577-47d0-9b21-03319441ebd4",
       "version_major": 2,
       "version_minor": 0
      }
     },
     "metadata": {},
     "output_type": "display_data"
    },
    {
     "data": {
      "text/html": [],
      "text/plain": [
       "Interact.Options{:SelectionSlider,Any}(11: \"input-6\" = 0.0 Any ,\"θ3\",0.0,\"0.0\",21,Interact.OptionDict(DataStructures.OrderedDict{Any,Any}(\"-10.0\"=>-10.0,\"-9.5\"=>-9.5,\"-9.0\"=>-9.0,\"-8.5\"=>-8.5,\"-8.0\"=>-8.0,\"-7.5\"=>-7.5,\"-7.0\"=>-7.0,\"-6.5\"=>-6.5,\"-6.0\"=>-6.0,\"-5.5\"=>-5.5…),Dict{Any,Any}(Pair{Any,Any}(1.0,\"1.0\"),Pair{Any,Any}(5.5,\"5.5\"),Pair{Any,Any}(6.5,\"6.5\"),Pair{Any,Any}(2.0,\"2.0\"),Pair{Any,Any}(-1.0,\"-1.0\"),Pair{Any,Any}(1.5,\"1.5\"),Pair{Any,Any}(-8.5,\"-8.5\"),Pair{Any,Any}(-7.0,\"-7.0\"),Pair{Any,Any}(4.5,\"4.5\"),Pair{Any,Any}(0.0,\"0.0\")…)),Any[],Any[],true,\"horizontal\")"
      ]
     },
     "metadata": {},
     "output_type": "display_data"
    },
    {
     "data": {
      "application/vnd.jupyter.widget-view+json": {
       "model_id": "aed18b01-4f37-4f77-89c7-e1b14905ab2d",
       "version_major": 2,
       "version_minor": 0
      }
     },
     "metadata": {},
     "output_type": "display_data"
    },
    {
     "data": {
      "text/html": [],
      "text/plain": [
       "Interact.Options{:SelectionSlider,Any}(13: \"input-7\" = 10.0 Any ,\"α\",10.0,\"10.0\",21,Interact.OptionDict(DataStructures.OrderedDict{Any,Any}(\"0.0\"=>0.0,\"0.5\"=>0.5,\"1.0\"=>1.0,\"1.5\"=>1.5,\"2.0\"=>2.0,\"2.5\"=>2.5,\"3.0\"=>3.0,\"3.5\"=>3.5,\"4.0\"=>4.0,\"4.5\"=>4.5…),Dict{Any,Any}(Pair{Any,Any}(18.0,\"18.0\"),Pair{Any,Any}(5.5,\"5.5\"),Pair{Any,Any}(6.5,\"6.5\"),Pair{Any,Any}(18.5,\"18.5\"),Pair{Any,Any}(2.0,\"2.0\"),Pair{Any,Any}(1.5,\"1.5\"),Pair{Any,Any}(16.0,\"16.0\"),Pair{Any,Any}(10.5,\"10.5\"),Pair{Any,Any}(4.5,\"4.5\"),Pair{Any,Any}(11.0,\"11.0\")…)),Any[],Any[],true,\"horizontal\")"
      ]
     },
     "metadata": {},
     "output_type": "display_data"
    },
    {
     "data": {
      "image/png": "[encoded data removed]",
      "text/plain": [
       "PyPlot.Figure(PyObject <matplotlib.figure.Figure object at 0x7f6ef65825d0>)"
      ]
     },
     "execution_count": 2,
     "metadata": {
      "comm_id": "81966dba-86fe-4fef-9399-680313b7b0f9",
      "reactive": true
     },
     "output_type": "execute_result"
    }
   ],
   "source": [
    "f = figure(figsize=(8, 3))\n",
    "clmax = 0.0\n",
    "\n",
    "@manipulate for AR=1:0.5:15, λ=0.1:0.05:1, Λ=0:2.5:50, θ1=-10:0.5:10, θ2=-10:0.5:10, θ3=-10:0.5:10, α=0:0.5:20; withfig(f) do        \n",
    "        nondimrun(AR, λ, Λ, [θ1; θ2; θ3], α, clmax)\n",
    "    end\n",
    "end\n",
    "        "
   ]
  },
  {
   "cell_type": "markdown",
   "metadata": {},
   "source": [
    "# Simple (but more general geometry) Non-Interactive Version\n",
    "![wing parameters](wing.svg)"
   ]
  },
  {
   "cell_type": "code",
   "execution_count": 48,
   "metadata": {},
   "outputs": [
    {
     "data": {
      "image/png": "[encoded data removed]",
      "text/plain": [
       "PyPlot.Figure(PyObject <matplotlib.figure.Figure object at 0x7f6ec94e1310>)"
      ]
     },
     "metadata": {},
     "output_type": "display_data"
    },
    {
     "name": "stderr",
     "output_type": "stream",
     "text": [
      "WARNING: Method definition ellpt_L(Any, Any) in module Main at In[47]:1 overwritten at In[48]:1.\n"
     ]
    },
    {
     "data": {
      "text/plain": [
       "1-element Array{Any,1}:\n",
       " PyObject <matplotlib.lines.Line2D object at 0x7f6ec97b69d0>"
      ]
     },
     "execution_count": 48,
     "metadata": {},
     "output_type": "execute_result"
    }
   ],
   "source": [
    "ellpt_L(y_over_b, lmax) = lmax*sqrt(1-(2*y_over_b).^2)\n",
    "\n",
    "# ----- inputs ------\n",
    "chord = [0.5, 0.5, 0.5]\n",
    "θ = [0.0, 0.0, -1.4]         # Twist\n",
    "Λ = [0.0, 0.0]             # Sweep\n",
    "χ = 0.01                      # Ratio of section lengths\n",
    "b = 2.5\n",
    "α = 4.2\n",
    "clmax = 0.318\n",
    "# --------------------\n",
    "f = figure(figsize=(8, 3))\n",
    "\n",
    "dimrun(b, χ, chord, θ, Λ, α, clmax)\n",
    "\n",
    "x = [xi for xi in 0:0.01:0.5]\n",
    "plot(x, ellpt_L(x, clmax), \"--k\", label=\"Elliptical distribution\")"
   ]
  },
  {
   "cell_type": "code",
   "execution_count": 5,
   "metadata": {
    "scrolled": false
   },
   "outputs": [
    {
     "data": {
      "application/vnd.jupyter.widget-view+json": {
       "model_id": "8b033bcc-49d4-4d03-b58e-3a8d7b91ba37",
       "version_major": 2,
       "version_minor": 0
      }
     },
     "metadata": {},
     "output_type": "display_data"
    },
    {
     "data": {
      "text/html": [],
      "text/plain": [
       "Interact.Options{:SelectionSlider,Any}(42: \"input-20\" = 1.0 Any ,\"chord1\",1.0,\"1.0\",20,Interact.OptionDict(DataStructures.OrderedDict{Any,Any}(\"0.05\"=>0.05,\"0.1\"=>0.1,\"0.15\"=>0.15,\"0.2\"=>0.2,\"0.25\"=>0.25,\"0.3\"=>0.3,\"0.35\"=>0.35,\"0.4\"=>0.4,\"0.45\"=>0.45,\"0.5\"=>0.5…),Dict{Any,Any}(Pair{Any,Any}(1.0,\"1.0\"),Pair{Any,Any}(0.95,\"0.95\"),Pair{Any,Any}(0.3,\"0.3\"),Pair{Any,Any}(1.2,\"1.2\"),Pair{Any,Any}(1.55,\"1.55\"),Pair{Any,Any}(2.0,\"2.0\"),Pair{Any,Any}(1.5,\"1.5\"),Pair{Any,Any}(1.45,\"1.45\"),Pair{Any,Any}(0.45,\"0.45\"),Pair{Any,Any}(0.25,\"0.25\")…)),Any[],Any[],true,\"horizontal\")"
      ]
     },
     "metadata": {},
     "output_type": "display_data"
    },
    {
     "data": {
      "application/vnd.jupyter.widget-view+json": {
       "model_id": "d0452576-b269-434f-a857-940e5093fef0",
       "version_major": 2,
       "version_minor": 0
      }
     },
     "metadata": {},
     "output_type": "display_data"
    },
    {
     "data": {
      "text/html": [],
      "text/plain": [
       "Interact.Options{:SelectionSlider,Any}(44: \"input-21\" = 1.0 Any ,\"chord2\",1.0,\"1.0\",20,Interact.OptionDict(DataStructures.OrderedDict{Any,Any}(\"0.05\"=>0.05,\"0.1\"=>0.1,\"0.15\"=>0.15,\"0.2\"=>0.2,\"0.25\"=>0.25,\"0.3\"=>0.3,\"0.35\"=>0.35,\"0.4\"=>0.4,\"0.45\"=>0.45,\"0.5\"=>0.5…),Dict{Any,Any}(Pair{Any,Any}(1.0,\"1.0\"),Pair{Any,Any}(0.95,\"0.95\"),Pair{Any,Any}(0.3,\"0.3\"),Pair{Any,Any}(1.2,\"1.2\"),Pair{Any,Any}(1.55,\"1.55\"),Pair{Any,Any}(2.0,\"2.0\"),Pair{Any,Any}(1.5,\"1.5\"),Pair{Any,Any}(1.45,\"1.45\"),Pair{Any,Any}(0.45,\"0.45\"),Pair{Any,Any}(0.25,\"0.25\")…)),Any[],Any[],true,\"horizontal\")"
      ]
     },
     "metadata": {},
     "output_type": "display_data"
    },
    {
     "data": {
      "application/vnd.jupyter.widget-view+json": {
       "model_id": "92f1e82d-cc9a-49f2-ae63-822be1a0d3a5",
       "version_major": 2,
       "version_minor": 0
      }
     },
     "metadata": {},
     "output_type": "display_data"
    },
    {
     "data": {
      "text/html": [],
      "text/plain": [
       "Interact.Options{:SelectionSlider,Any}(46: \"input-22\" = 1.0 Any ,\"chord3\",1.0,\"1.0\",20,Interact.OptionDict(DataStructures.OrderedDict{Any,Any}(\"0.05\"=>0.05,\"0.1\"=>0.1,\"0.15\"=>0.15,\"0.2\"=>0.2,\"0.25\"=>0.25,\"0.3\"=>0.3,\"0.35\"=>0.35,\"0.4\"=>0.4,\"0.45\"=>0.45,\"0.5\"=>0.5…),Dict{Any,Any}(Pair{Any,Any}(1.0,\"1.0\"),Pair{Any,Any}(0.95,\"0.95\"),Pair{Any,Any}(0.3,\"0.3\"),Pair{Any,Any}(1.2,\"1.2\"),Pair{Any,Any}(1.55,\"1.55\"),Pair{Any,Any}(2.0,\"2.0\"),Pair{Any,Any}(1.5,\"1.5\"),Pair{Any,Any}(1.45,\"1.45\"),Pair{Any,Any}(0.45,\"0.45\"),Pair{Any,Any}(0.25,\"0.25\")…)),Any[],Any[],true,\"horizontal\")"
      ]
     },
     "metadata": {},
     "output_type": "display_data"
    },
    {
     "data": {
      "application/vnd.jupyter.widget-view+json": {
       "model_id": "759ba833-b2a5-484d-afd0-00d4c57b38ae",
       "version_major": 2,
       "version_minor": 0
      }
     },
     "metadata": {},
     "output_type": "display_data"
    },
    {
     "data": {
      "text/html": [],
      "text/plain": [
       "Interact.Options{:SelectionSlider,Any}(48: \"input-23\" = 0 Any ,\"θ1\",0,\"0\",11,Interact.OptionDict(DataStructures.OrderedDict{Any,Any}(\"-10\"=>-10,\"-9\"=>-9,\"-8\"=>-8,\"-7\"=>-7,\"-6\"=>-6,\"-5\"=>-5,\"-4\"=>-4,\"-3\"=>-3,\"-2\"=>-2,\"-1\"=>-1…),Dict{Any,Any}(Pair{Any,Any}(2,\"2\"),Pair{Any,Any}(-1,\"-1\"),Pair{Any,Any}(-7,\"-7\"),Pair{Any,Any}(0,\"0\"),Pair{Any,Any}(7,\"7\"),Pair{Any,Any}(9,\"9\"),Pair{Any,Any}(-4,\"-4\"),Pair{Any,Any}(-3,\"-3\"),Pair{Any,Any}(10,\"10\"),Pair{Any,Any}(-9,\"-9\")…)),Any[],Any[],true,\"horizontal\")"
      ]
     },
     "metadata": {},
     "output_type": "display_data"
    },
    {
     "data": {
      "application/vnd.jupyter.widget-view+json": {
       "model_id": "9f7f3ec4-2e2b-492b-aa81-11c5503bac6b",
       "version_major": 2,
       "version_minor": 0
      }
     },
     "metadata": {},
     "output_type": "display_data"
    },
    {
     "data": {
      "text/html": [],
      "text/plain": [
       "Interact.Options{:SelectionSlider,Any}(50: \"input-24\" = 0 Any ,\"θ2\",0,\"0\",11,Interact.OptionDict(DataStructures.OrderedDict{Any,Any}(\"-10\"=>-10,\"-9\"=>-9,\"-8\"=>-8,\"-7\"=>-7,\"-6\"=>-6,\"-5\"=>-5,\"-4\"=>-4,\"-3\"=>-3,\"-2\"=>-2,\"-1\"=>-1…),Dict{Any,Any}(Pair{Any,Any}(2,\"2\"),Pair{Any,Any}(-1,\"-1\"),Pair{Any,Any}(-7,\"-7\"),Pair{Any,Any}(0,\"0\"),Pair{Any,Any}(7,\"7\"),Pair{Any,Any}(9,\"9\"),Pair{Any,Any}(-4,\"-4\"),Pair{Any,Any}(-3,\"-3\"),Pair{Any,Any}(10,\"10\"),Pair{Any,Any}(-9,\"-9\")…)),Any[],Any[],true,\"horizontal\")"
      ]
     },
     "metadata": {},
     "output_type": "display_data"
    },
    {
     "data": {
      "application/vnd.jupyter.widget-view+json": {
       "model_id": "88690922-2385-45be-85bc-0a81739060af",
       "version_major": 2,
       "version_minor": 0
      }
     },
     "metadata": {},
     "output_type": "display_data"
    },
    {
     "data": {
      "text/html": [],
      "text/plain": [
       "Interact.Options{:SelectionSlider,Any}(52: \"input-25\" = 0 Any ,\"θ3\",0,\"0\",11,Interact.OptionDict(DataStructures.OrderedDict{Any,Any}(\"-10\"=>-10,\"-9\"=>-9,\"-8\"=>-8,\"-7\"=>-7,\"-6\"=>-6,\"-5\"=>-5,\"-4\"=>-4,\"-3\"=>-3,\"-2\"=>-2,\"-1\"=>-1…),Dict{Any,Any}(Pair{Any,Any}(2,\"2\"),Pair{Any,Any}(-1,\"-1\"),Pair{Any,Any}(-7,\"-7\"),Pair{Any,Any}(0,\"0\"),Pair{Any,Any}(7,\"7\"),Pair{Any,Any}(9,\"9\"),Pair{Any,Any}(-4,\"-4\"),Pair{Any,Any}(-3,\"-3\"),Pair{Any,Any}(10,\"10\"),Pair{Any,Any}(-9,\"-9\")…)),Any[],Any[],true,\"horizontal\")"
      ]
     },
     "metadata": {},
     "output_type": "display_data"
    },
    {
     "data": {
      "application/vnd.jupyter.widget-view+json": {
       "model_id": "4bc9b048-c73d-4201-be0b-6c63da709f9d",
       "version_major": 2,
       "version_minor": 0
      }
     },
     "metadata": {},
     "output_type": "display_data"
    },
    {
     "data": {
      "text/html": [],
      "text/plain": [
       "Interact.Options{:SelectionSlider,Any}(54: \"input-26\" = 0 Any ,\"Λ1\",0,\"0\",6,Interact.OptionDict(DataStructures.OrderedDict{Any,Any}(\"-50\"=>-50,\"-40\"=>-40,\"-30\"=>-30,\"-20\"=>-20,\"-10\"=>-10,\"0\"=>0,\"10\"=>10,\"20\"=>20,\"30\"=>30,\"40\"=>40…),Dict{Any,Any}(Pair{Any,Any}(50,\"50\"),Pair{Any,Any}(40,\"40\"),Pair{Any,Any}(0,\"0\"),Pair{Any,Any}(-20,\"-20\"),Pair{Any,Any}(10,\"10\"),Pair{Any,Any}(-10,\"-10\"),Pair{Any,Any}(-40,\"-40\"),Pair{Any,Any}(20,\"20\"),Pair{Any,Any}(-50,\"-50\"),Pair{Any,Any}(-30,\"-30\")…)),Any[],Any[],true,\"horizontal\")"
      ]
     },
     "metadata": {},
     "output_type": "display_data"
    },
    {
     "data": {
      "application/vnd.jupyter.widget-view+json": {
       "model_id": "a6563b03-3a79-4d7d-be96-f9d782bb4b30",
       "version_major": 2,
       "version_minor": 0
      }
     },
     "metadata": {},
     "output_type": "display_data"
    },
    {
     "data": {
      "text/html": [],
      "text/plain": [
       "Interact.Options{:SelectionSlider,Any}(56: \"input-27\" = 0 Any ,\"Λ2\",0,\"0\",6,Interact.OptionDict(DataStructures.OrderedDict{Any,Any}(\"-50\"=>-50,\"-40\"=>-40,\"-30\"=>-30,\"-20\"=>-20,\"-10\"=>-10,\"0\"=>0,\"10\"=>10,\"20\"=>20,\"30\"=>30,\"40\"=>40…),Dict{Any,Any}(Pair{Any,Any}(50,\"50\"),Pair{Any,Any}(40,\"40\"),Pair{Any,Any}(0,\"0\"),Pair{Any,Any}(-20,\"-20\"),Pair{Any,Any}(10,\"10\"),Pair{Any,Any}(-10,\"-10\"),Pair{Any,Any}(-40,\"-40\"),Pair{Any,Any}(20,\"20\"),Pair{Any,Any}(-50,\"-50\"),Pair{Any,Any}(-30,\"-30\")…)),Any[],Any[],true,\"horizontal\")"
      ]
     },
     "metadata": {},
     "output_type": "display_data"
    },
    {
     "data": {
      "application/vnd.jupyter.widget-view+json": {
       "model_id": "94b19207-8b3d-4b70-b55a-32315e684c69",
       "version_major": 2,
       "version_minor": 0
      }
     },
     "metadata": {},
     "output_type": "display_data"
    },
    {
     "data": {
      "text/html": [],
      "text/plain": [
       "Interact.Options{:SelectionSlider,Any}(58: \"input-28\" = 0.5 Any ,\"χ\",0.5,\"0.5\",6,Interact.OptionDict(DataStructures.OrderedDict{Any,Any}(\"0.0\"=>0.0,\"0.1\"=>0.1,\"0.2\"=>0.2,\"0.3\"=>0.3,\"0.4\"=>0.4,\"0.5\"=>0.5,\"0.6\"=>0.6,\"0.7\"=>0.7,\"0.8\"=>0.8,\"0.9\"=>0.9…),Dict{Any,Any}(Pair{Any,Any}(0.6,\"0.6\"),Pair{Any,Any}(0.3,\"0.3\"),Pair{Any,Any}(0.7,\"0.7\"),Pair{Any,Any}(0.0,\"0.0\"),Pair{Any,Any}(0.2,\"0.2\"),Pair{Any,Any}(0.9,\"0.9\"),Pair{Any,Any}(0.8,\"0.8\"),Pair{Any,Any}(0.5,\"0.5\"),Pair{Any,Any}(0.1,\"0.1\"),Pair{Any,Any}(0.4,\"0.4\")…)),Any[],Any[],true,\"horizontal\")"
      ]
     },
     "metadata": {},
     "output_type": "display_data"
    },
    {
     "data": {
      "application/vnd.jupyter.widget-view+json": {
       "model_id": "be130982-5dea-4bff-8892-dbcbf8d59dd8",
       "version_major": 2,
       "version_minor": 0
      }
     },
     "metadata": {},
     "output_type": "display_data"
    },
    {
     "data": {
      "text/html": [],
      "text/plain": [
       "Interact.Options{:SelectionSlider,Any}(60: \"input-29\" = 5.5 Any ,\"b\",5.5,\"5.5\",10,Interact.OptionDict(DataStructures.OrderedDict{Any,Any}(\"1.0\"=>1.0,\"1.5\"=>1.5,\"2.0\"=>2.0,\"2.5\"=>2.5,\"3.0\"=>3.0,\"3.5\"=>3.5,\"4.0\"=>4.0,\"4.5\"=>4.5,\"5.0\"=>5.0,\"5.5\"=>5.5…),Dict{Any,Any}(Pair{Any,Any}(5.5,\"5.5\"),Pair{Any,Any}(6.5,\"6.5\"),Pair{Any,Any}(2.0,\"2.0\"),Pair{Any,Any}(1.5,\"1.5\"),Pair{Any,Any}(4.5,\"4.5\"),Pair{Any,Any}(7.0,\"7.0\"),Pair{Any,Any}(8.5,\"8.5\"),Pair{Any,Any}(9.0,\"9.0\"),Pair{Any,Any}(10.0,\"10.0\"),Pair{Any,Any}(3.5,\"3.5\")…)),Any[],Any[],true,\"horizontal\")"
      ]
     },
     "metadata": {},
     "output_type": "display_data"
    },
    {
     "data": {
      "application/vnd.jupyter.widget-view+json": {
       "model_id": "2dc61f67-68c3-41d6-be4e-c28e03ddc6b8",
       "version_major": 2,
       "version_minor": 0
      }
     },
     "metadata": {},
     "output_type": "display_data"
    },
    {
     "data": {
      "text/html": [],
      "text/plain": [
       "Interact.Options{:SelectionSlider,Any}(62: \"input-30\" = 10 Any ,\"α\",10,\"10\",6,Interact.OptionDict(DataStructures.OrderedDict{Any,Any}(\"0\"=>0,\"2\"=>2,\"4\"=>4,\"6\"=>6,\"8\"=>8,\"10\"=>10,\"12\"=>12,\"14\"=>14,\"16\"=>16,\"18\"=>18…),Dict{Any,Any}(Pair{Any,Any}(2,\"2\"),Pair{Any,Any}(16,\"16\"),Pair{Any,Any}(0,\"0\"),Pair{Any,Any}(10,\"10\"),Pair{Any,Any}(8,\"8\"),Pair{Any,Any}(6,\"6\"),Pair{Any,Any}(4,\"4\"),Pair{Any,Any}(20,\"20\"),Pair{Any,Any}(14,\"14\"),Pair{Any,Any}(12,\"12\")…)),Any[],Any[],true,\"horizontal\")"
      ]
     },
     "metadata": {},
     "output_type": "display_data"
    },
    {
     "data": {
      "application/vnd.jupyter.widget-view+json": {
       "model_id": "efcbbb21-5c3e-4762-9980-f122aa5c8668",
       "version_major": 2,
       "version_minor": 0
      }
     },
     "metadata": {},
     "output_type": "display_data"
    },
    {
     "data": {
      "text/html": [],
      "text/plain": [
       "Interact.Options{:SelectionSlider,Any}(64: \"input-31\" = 1.0 Any ,\"clmax\",1.0,\"1.0\",6,Interact.OptionDict(DataStructures.OrderedDict{Any,Any}(\"0.5\"=>0.5,\"0.6\"=>0.6,\"0.7\"=>0.7,\"0.8\"=>0.8,\"0.9\"=>0.9,\"1.0\"=>1.0,\"1.1\"=>1.1,\"1.2\"=>1.2,\"1.3\"=>1.3,\"1.4\"=>1.4…),Dict{Any,Any}(Pair{Any,Any}(0.6,\"0.6\"),Pair{Any,Any}(1.2,\"1.2\"),Pair{Any,Any}(1.5,\"1.5\"),Pair{Any,Any}(0.7,\"0.7\"),Pair{Any,Any}(1.4,\"1.4\"),Pair{Any,Any}(0.9,\"0.9\"),Pair{Any,Any}(0.8,\"0.8\"),Pair{Any,Any}(0.5,\"0.5\"),Pair{Any,Any}(1.1,\"1.1\"),Pair{Any,Any}(1.3,\"1.3\")…)),Any[],Any[],true,\"horizontal\")"
      ]
     },
     "metadata": {},
     "output_type": "display_data"
    },
    {
     "data": {
      "image/png": "[encoded data removed]",
      "text/plain": [
       "PyPlot.Figure(PyObject <matplotlib.figure.Figure object at 0x7f6ecd758250>)"
      ]
     },
     "execution_count": 5,
     "metadata": {
      "comm_id": "36ea2482-6c99-4f3e-b216-ac3fcdcb248d",
      "reactive": true
     },
     "output_type": "execute_result"
    }
   ],
   "source": [
    "\n",
    "f = figure(figsize=(8, 3))\n",
    "\n",
    "chord_range = 0.05:0.05:2\n",
    "twist_range = -10:1:10\n",
    "sweep_range = -50:10:50\n",
    "@manipulate for chord1=chord_range, chord2=chord_range, chord3=chord_range,\n",
    "                θ1=twist_range, θ2=twist_range, θ3=twist_range,\n",
    "                Λ1=sweep_range, Λ2=sweep_range, \n",
    "                χ=0:0.1:1, b=1:0.5:10, α=0:2:20, clmax = 0.5:0.1:1.5\n",
    "                ; withfig(f) do\n",
    "        chord, θ = [chord1, chord2, chord3], [θ1,θ2,θ3]\n",
    "        Λ = [Λ1, Λ2]\n",
    "        dimrun(b, χ, chord, θ, Λ, α, clmax)\n",
    "        \n",
    "        x = [xi for xi in 0:0.01:0.5]\n",
    "        plot(x, ellpt(x, clmax), \"--k\", label=\"Elliptical distribution\")\n",
    "        legend(loc=\"best\")\n",
    "    end\n",
    "end\n",
    "\n"
   ]
  }
 ],
 "metadata": {
  "kernelspec": {
   "display_name": "Julia 0.5.2",
   "language": "julia",
   "name": "julia-0.5"
  },
  "language_info": {
   "file_extension": ".jl",
   "mimetype": "application/julia",
   "name": "julia",
   "version": "0.5.2"
  }
 },
 "nbformat": 4,
 "nbformat_minor": 2
}
