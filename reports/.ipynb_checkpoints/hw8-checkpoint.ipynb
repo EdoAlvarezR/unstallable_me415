{
 "cells": [
  {
   "cell_type": "markdown",
   "metadata": {},
   "source": [
    "# Homework 8 - Control\n",
    "\n",
    "Jenna Newcomb <br />\n",
    "Dagan Pielstick <br />\n",
    "Austin Schenk <br />\n",
    "Eduardo Alvarez <br />\n",
    "Kevin Moore <br />\n",
    "Nov 15 2017 <br />\n",
    "\n",
    "\n",
    "1) Detailed Description of Control Strategy\n",
    "\n",
    "We are starting with the simplest strategy possible: proportional control on rudder based on heading angle error and a bang bang high medium low throttle controller based on altitude limits.  We hope that our aircraft will have adequate roll stability and will be fairly level flying to only need this level of controller.  Based on our current design this should be the case, but as will be expressed in Eduardo's version of this report, his autopsy shows that we are still in the works.\n",
    "\n",
    "This controller uses a simple index and array of hard coded latitude and logitude coordinates to choose which point to aim for.  When a minimum distance between the waypoint and aircraft is reached, the coordinate index is incremented and the error becomes relative to the new waypoint.  The flow diagram below shows the high level workings of our current controller.\n",
    "\n",
    "<img src=\"img/ControlStrategy.jpg\" alt=\"Pic here\" style=\"width:700px\">\n",
    "\n",
    "\n",
    "2)\tIn the early stages of development, a simple python simulation was created to test the basic controls. This simply simulated the GPS values based off the heading angle, which was changed based off the deflection of the rudder. This simulation was build to using the same syntax as the sample code given. This gave a quick simulation that could be tested, while the plane was being redesigned after our test flights last week. We setup a simple time-averaged proportional controller correcting the heading angle. The final result from the python simulator is shown in \\Cref{fig:PS}. From this working prototype, ran the simulation in Gazebo. Our first attempts used the built in flying wing. Rudder control for a flying wing is inherently unstable and crashed quickly everything. While the finial design was not quite ready, we pulled preliminary control derivatives to get a plane the flies under rudder control.To obtain the control derivatives, the control surfaces were put onto the xflr5 aircraft.  Flaps were added to the foils and stability analyses computed the control derivatives.  These values were used in the gazebo simulation. We are still working on getting our Gazebo simulation to fly.\n",
    "<img src=\"img/PySim.png\" alt=\"Pic here\" style=\"width:700px\">\n",
    "\n"
   ]
  },
  {
   "cell_type": "code",
   "execution_count": null,
   "metadata": {
    "collapsed": true
   },
   "outputs": [],
   "source": []
  },
  {
   "cell_type": "code",
   "execution_count": null,
   "metadata": {
    "collapsed": true
   },
   "outputs": [],
   "source": []
  }
 ],
 "metadata": {
  "kernelspec": {
   "display_name": "Julia 0.6.0",
   "language": "julia",
   "name": "julia-0.6"
  },
  "language_info": {
   "file_extension": ".jl",
   "mimetype": "application/julia",
   "name": "julia",
   "version": "0.6.0"
  }
 },
 "nbformat": 4,
 "nbformat_minor": 2
}
