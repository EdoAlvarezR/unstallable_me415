{
 "cells": [
  {
   "cell_type": "markdown",
   "metadata": {},
   "source": [
    "# Homework 8 - Control\n",
    "\n",
    "Jenna Newcomb <br />\n",
    "Dagan Pielstick <br />\n",
    "Austin Schenk <br />\n",
    "Eduardo Alvarez <br />\n",
    "Kevin Moore <br />\n",
    "Nov 15 2017 <br />\n",
    "\n",
    "\n",
    "1) Detailed Description of Control Strategy\n",
    "\n",
    "We are starting with the simplest strategy possible: proportional control on rudder based on heading angle error and a bang bang high medium low throttle controller based on altitude limits.  We hope that our aircraft will have adequate roll stability and will be fairly level flying to only need this level of controller.  Based on our current design this should be the case, but as will be expressed in Eduardo's version of this report, his autopsy shows that we are still in the works.\n",
    "\n",
    "This controller uses a simple index and array of hard coded latitude and logitude coordinates to choose which point to aim for.  When a minimum distance between the waypoint and aircraft is reached, the coordinate index is incremented and the error becomes relative to the new waypoint.  The flow diagram below shows the high level workings of our current controller.\n",
    "\n",
    "<img src=\"img/ControlStrategy.jpg\" alt=\"Pic here\" style=\"width:700px\">\n",
    "\n",
    "\n",
    "2)To obtain the control derivatives, the control surfaces were put onto the xflr5 aircraft.  Flaps were added to the foils and stability analyses computed the control derivatives.  These values were used in the gazebo simulation.\n"
   ]
  },
  {
   "cell_type": "code",
   "execution_count": null,
   "metadata": {
    "collapsed": true
   },
   "outputs": [],
   "source": []
  },
  {
   "cell_type": "code",
   "execution_count": null,
   "metadata": {
    "collapsed": true
   },
   "outputs": [],
   "source": []
  }
 ],
 "metadata": {
  "kernelspec": {
   "display_name": "Julia 0.6.0",
   "language": "julia",
   "name": "julia-0.6"
  },
  "language_info": {
   "file_extension": ".jl",
   "mimetype": "application/julia",
   "name": "julia",
   "version": "0.6.0"
  }
 },
 "nbformat": 4,
 "nbformat_minor": 2
}
