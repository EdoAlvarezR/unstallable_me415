{
 "cells": [
  {
   "cell_type": "markdown",
   "metadata": {},
   "source": [
    "# Homework 8 - Control\n",
    "\n",
    "Jenna Newcomb <br />\n",
    "Dagan Pielstick <br />\n",
    "Austin Schenk <br />\n",
    "Eduardo Alvarez <br />\n",
    "Kevin Moore <br />\n",
    "Nov 15 2017 <br />\n",
    "\n",
    "\n",
    "1) Detailed Description of Control Strategy\n",
    "\n",
    "We are starting with the simplest strategy possible: proportional control on rudder based on heading angle error and a bang-bang high, medium, low throttle controller based on altitude limits.  We hope that our aircraft will have adequate roll stability and will be fairly level flying to only need this simple of a controller.  Based on our current design this should be the case, but as will be expressed in Eduardo's version of this report, his autopsy shows that we are still in the works.\n",
    "\n",
    "This controller uses a simple index and array of hard coded latitude and logitude coordinates to choose which point to aim for.  When a minimum distance between the waypoint and aircraft is reached, the coordinate index is incremented and the error becomes relative to the new waypoint.  When it switches, it sometimes has the issue of choosing the larger of the two possible angles out of the arctan(i.e. choosing to turn fully around to the left rather than a slight turn to the right). The flow diagram below shows the high level workings of our current controller.\n",
    "\n",
    "<img src=\"img/ControlStrategy.jpg\" alt=\"Pic here\" style=\"width:600px\">\n",
    "\n",
    "\n",
    "\n",
    "2)\tDetailed Description of Testing Strategy\n",
    "\n",
    "In the early stages of development, we created a simple python simulation to test the basic controls. This simulated the GPS values based off the heading angle, which was changed based on the deflection of the rudder. Our simulation was built using the same syntax as the sample code given. This gave a quick simulation that could be tested while the plane was being redesigned after our test flights last week. We setup a simple time-averaged proportional controller correcting the heading angle. The final result from the python simulator is shown in the figure below. \n",
    "<img src=\"img/PySim.png\" alt=\"Pic here\" style=\"width:700px\">\n",
    "From this working prototype, we ran the simulation in Gazebo. Our first attempts used the built in flying wing. Rudder control for the flying wing was inherently unstable and crashed quickly. While the finial design was not quite ready, we pulled preliminary control derivatives to get a plane the flies under rudder control. To obtain the control derivatives, control surfaces were put onto the xflr5 aircraft.  Flaps were added to the foils and stability analyses computed the control derivatives.  These values were used in the gazebo simulation, but gave an unstable aircraft. We are still working on getting our Gazebo simulation to fly.\n",
    "\n",
    "3) My Contributions\n",
    "\n",
    "After spending 7 hours building and flying the airplane last week, I spent an additional 2 hours building and flying after I submitted last week's report.  (That was 5 hours over last week's recommended time).  This week I have assisted Eduardo in the autopsy (~1 hr), assisted Jenna, Ausin, and Eduardo in the wing redesign (~1 hr), and assisted Dagan with the autopilot prototype (~0.5 hrs).    \n"
   ]
  },
  {
   "cell_type": "code",
   "execution_count": null,
   "metadata": {
    "collapsed": true
   },
   "outputs": [],
   "source": []
  },
  {
   "cell_type": "code",
   "execution_count": null,
   "metadata": {
    "collapsed": true
   },
   "outputs": [],
   "source": []
  }
 ],
 "metadata": {
  "kernelspec": {
   "display_name": "Julia 0.6.0",
   "language": "julia",
   "name": "julia-0.6"
  },
  "language_info": {
   "file_extension": ".jl",
   "mimetype": "application/julia",
   "name": "julia",
   "version": "0.6.0"
  }
 },
 "nbformat": 4,
 "nbformat_minor": 2
}
