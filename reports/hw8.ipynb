{
 "cells": [
  {
   "cell_type": "markdown",
   "metadata": {},
   "source": [
    "Jenna Newcomb <br />\n",
    "Dagan Pielstick <br />\n",
    "Austin Schenk <br />\n",
    "Kevin Moore <br />\n",
    "\n",
    "November 15 2017\n",
    "\n",
    "Controls\n",
    "\n",
    "1. AQ\n",
    "\n",
    "2. To obtain the control derivatives, the control surfaces were put onto the xflr5 aircraft.  Flaps were added to the foils and stability analyses computed the control derivatives.  These values were used in the gazebo simulation.\n",
    "\n"
   ]
  },
  {
   "cell_type": "code",
   "execution_count": null,
   "metadata": {
    "collapsed": true
   },
   "outputs": [],
   "source": []
  },
  {
   "cell_type": "code",
   "execution_count": null,
   "metadata": {
    "collapsed": true
   },
   "outputs": [],
   "source": []
  }
 ],
 "metadata": {
  "kernelspec": {
   "display_name": "Julia 0.5.1",
   "language": "julia",
   "name": "julia-0.5"
  }
 },
 "nbformat": 4,
 "nbformat_minor": 2
}
