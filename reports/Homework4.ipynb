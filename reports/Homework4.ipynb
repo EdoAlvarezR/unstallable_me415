{
 "cells": [
  {
   "cell_type": "markdown",
   "metadata": {},
   "source": [
    "# Homework 4 - Stability"
   ]
  },
  {
   "cell_type": "markdown",
   "metadata": {},
   "source": [
    "## Subgroup 1: Layout and Sizing"
   ]
  },
  {
   "cell_type": "markdown",
   "metadata": {},
   "source": [
    "Austin Schenk <br />"
   ]
  },
  {
   "cell_type": "markdown",
   "metadata": {},
   "source": [
    "### Part 1: Tail sizing"
   ]
  },
  {
   "cell_type": "markdown",
   "metadata": {},
   "source": [
    "The preliminary dimensions of plane were based on general proportions that we saw from looking at actual canard aircraft. As for the location and type of tail we used, we determined this based on simplicity and the fact that we are building a canard. Having a single vertical tail in the middle seemed more simple (structurally and for controls) than winglets did and since we are running two propellers and by placing the vertical tail in the middle it is located outside our propeller wakes (which would decrease its effectiveness) . As for a horizontal tail this role is filled by our canard wing in the front. Then once we had the basic dimensions we performed more specific sizing of the vertical tail and horizontal canard using the statistical tail sizing equations discussed in class."
    "By changing the projected surface area of the tail and keeping the other values we arrived at an initial Vv value of 0.03 that fell right in the middle of the recommended range of 0.02-0.04. Through iterations this value did change as the center of gravity was moved in order to arrive at a stable design. As for the canard (or “horizontal tail”) we used the value that we had originally found when trying to optimize our lift in the past homework. However, when we began to run our stability analysis we ran into instability issues and had to make our canard wing much larger. Through iteration, we ended up with a Vh value of 0.615 which is right in the recommended 0.5-0.7 range. In retrospect, it would have been better to give the canard an approximate size based on statistical tail sizing rather than based on our lift analysis from the last homework."
    "\n",
    "As can be seen in comparing the two images below our tail sizes both changed significantly as we iterated."

   ]
  },
  {
   "cell_type": "markdown",
   "metadata": {},
   "source": [
    "### Part 2: Initial mass properties"
   ]
  },
  {
   "cell_type": "markdown",
   "metadata": {},
   "source": [
   "For this step we opted to layout the whole aircraft directly in Xflr5. Initially we determined the mass locations based on intuition and basic design choices. The fact that we were designing a pusher led to putting the motor and propeller in the rear of the plane. As for the rest of point masses in the plane, we put the parts like the servo next to the control surface they would be moving and then tried to get most of the other mass near the center of the plane. Originally we had the design set up for one motor, but through analyzing our total mass and the motors we will be given we decided that for our first plane iteration we want to use two motors. This design change along with subsequent iterations caused our center of gravity to move around a lot; however, through iteration we eventually arrived at a stable design. As can be seen in the image below our center of gravity moved toward the rear of the plane in our final design."
   
   ]
  },
  {
   "cell_type": "markdown",
   "metadata": {},
   "source": [
    "### Part 3: Mass properties after stabilization"
   ]
  },
  {
   "cell_type": "markdown",
   "metadata": {},
   "source": [
   "With much difficulty and many iterations, we did finally arrive at a stable aircraft design. Below are the desired mass and inertial properties."
  
   ]
  },
  {
   "cell_type": "markdown",
   "metadata": {},
   "source": [
    "## Subgroup 2: More Detailed Aerodynamic Analysis"
   ]
  },
  {
   "cell_type": "markdown",
   "metadata": {},
   "source": [
    "Dagan Pielstick <br />\n",
    "Kevin Moore <br />"
   ]
  },
  {
   "cell_type": "markdown",
   "metadata": {},
   "source": [
    "### Part 1: Detailed drag analysis"
   ]
  },
  {
   "cell_type": "markdown",
   "metadata": {},
   "source": [
    "Write here"
   ]
  },
  {
   "cell_type": "markdown",
   "metadata": {},
   "source": [
    "### Part 2: Design study"
   ]
  },
  {
   "cell_type": "markdown",
   "metadata": {},
   "source": [
    "Write here"
   ]
  },
  {
   "cell_type": "markdown",
   "metadata": {},
   "source": [
    "### Part 3: Tail incidence"
   ]
  },
  {
   "cell_type": "markdown",
   "metadata": {},
   "source": [
    "Write here"
   ]
  },
  {
   "cell_type": "markdown",
   "metadata": {},
   "source": [
    "## Subgroup 3: Stability"
   ]
  },
  {
   "cell_type": "markdown",
   "metadata": {},
   "source": [
    "Jenna Newcomb <br />\n",
    "Eduardo Alvarez <br />"
   ]
  },
  {
   "cell_type": "markdown",
   "metadata": {},
   "source": [
    "### Part 1: Static margin and neutral point"
   ]
  },
  {
   "cell_type": "markdown",
   "metadata": {},
   "source": [
    "For the neutral point of our aircraft, the neutral point was found through Xflr5.  The center of gravity was itertivetaivly  until the pitching moment was independent of the angle of attack.  See the below graph.  The neutral point was found to be 61.5 mm. \n",
    "<img src=\"img/neutralpoint.png\" alt=\"Pic here\" style=\"width:700px\">\n",
    "\n",
    "The desired static margin was 15%. This value was chosen because small UAVs typically have static margins between 10 and 20%.  Multiplying the static margin by the mean aerodynamic chord resulting in a center of gravity that was 22.1271 mm in front of the neutral point thus a distance of 49.3 mm from the leading edge.  This value was already pretty close to the aircraft's center of gravity.  However, to match this value the placement of the electronics was moved by 10 mm."
   ]
  },
  {
   "cell_type": "markdown",
   "metadata": {},
   "source": [
    "### Part 2: Dynamic stability"
   ]
  },
  {
   "cell_type": "markdown",
   "metadata": {},
   "source": [
    "See the below images for the eigenvalue plots. The top plot is a view of the lateral stability. The mode to the very left is the roll damping mode.  The mode closest to the origin is the spiral mode.  Lastly, the two symmetric modes situated above and below the orgin are the ductch roll modes.  In the bottom graph, the longitudinal stability is shown.  The two modes closest to the orgin are the phugoid modes.  The other two modes on the left are the short period modes.\n",
    "<img src=\"img/longitudinaleigenvalues.png\" alt=\"Pic here\" style=\"width:700px\">\n",
    "<img src=\"img/lateraleigenvalues.png\" alt=\"Pic here\" style=\"width:700px\">\n",
    "\n",
    "Analyzing the plots, the lateral stability appears quite stable.  However, longitudinally there is room for improvement in the stability shown by the short period nodes.  These nodes could be more negative meaning more damping and thus more stable.\n",
    "\n",
    "Using xfoil the following stability derivatives were taken:\n",
    "$C_{L,alpha}$= 3.6396\n",
    "$C_{m,alpha}$= -0.80944\n",
    "$C_{n,beta}$= 0.023339\n",
    "$C_{roll,beta}$=-0.43538\n",
    "\n",
    "According the notes taken in class these values are accurate for a stable aircraft.  The derivative of lift with respect to alpha should be positive which matches the analysis.  The derivative of the pitching moment with respect to alpha should be negative, again matching the xfoil analysis.  The derivative of n with respect to the slide slip angle should be positive.  Lastly, the derivative of roll with respect to the slide slip angle should be negative.  Thus the results of the stability derivates demonstrate the vehicle is laterally and longitudinally stable.\n"
   ]
  },
  {
   "cell_type": "markdown",
   "metadata": {},
   "source": [
    "### Part 3: Redesign"
   ]
  },
  {
   "cell_type": "markdown",
   "metadata": {},
   "source": []
  }
 ],
 "metadata": {
  "kernelspec": {
   "display_name": "Julia 0.5.1",
   "language": "julia",
   "name": "julia-0.5"
  },
  "language_info": {
   "file_extension": ".jl",
   "mimetype": "application/julia",
   "name": "julia",
   "version": "0.5.1"
  }
 },
 "nbformat": 4,
 "nbformat_minor": 2
}
