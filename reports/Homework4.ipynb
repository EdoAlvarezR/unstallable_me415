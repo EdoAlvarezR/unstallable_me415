{
 "cells": [
  {
   "cell_type": "markdown",
   "metadata": {},
   "source": [
    "# Homework 4 - Stability"
   ]
  },
  {
   "cell_type": "markdown",
   "metadata": {},
   "source": [
    "## Subgroup 1: Layout and Sizing"
   ]
  },
  {
   "cell_type": "markdown",
   "metadata": {},
   "source": [
    "Austin Schenk <br />"
   ]
  },
  {
   "cell_type": "markdown",
   "metadata": {},
   "source": [
    "### Part 1: Tail sizing"
   ]
  },
  {
   "cell_type": "markdown",
   "metadata": {},
   "source": [
    "The preliminary dimensions of plane were based on general proportions that we saw from looking at actual canard aircraft. As for the location and type of tail we used, we determined this based on simplicity and the fact that we are building a canard. Having a single vertical tail in the middle seemed more simple (structurally and for controls) than winglets did and since we are running two propellers and by placing the vertical tail in the middle it is located outside our propeller wakes (which would decrease its effectiveness) . As for a horizontal tail this role is filled by our canard wing in the front. Then once we had the basic dimensions we performed more specific sizing of the vertical tail and horizontal canard using the statistical tail sizing equations discussed in class.\"\n",
    "    \"By changing the projected surface area of the tail and keeping the other values we arrived at an initial Vv value of 0.03 that fell right in the middle of the recommended range of 0.02-0.04. Through iterations this value did change as the center of gravity was moved in order to arrive at a stable design. As for the canard (or “horizontal tail”) we used the value that we had originally found when trying to optimize our lift in the past homework. However, when we began to run our stability analysis we ran into instability issues and had to make our canard wing much larger. Through iteration, we ended up with a Vh value of 0.615 which is right in the recommended 0.5-0.7 range. In retrospect, it would have been better to give the canard an approximate size based on statistical tail sizing rather than based on our lift analysis from the last homework.\n",
    "    \n",
    "As can be seen in comparing the two images below our tail sizes both changed significantly as we iterated.\n",
    "\n",
    "<img src=\"img/Original_design.png\" alt=\"Pic here\" style=\"width:700px\">\n",
    "\n",
    "\n",
    "<img src=\"img/Final_design.png\" alt=\"Pic here\" style=\"width:700px\">"
   ]
  },
  {
   "cell_type": "markdown",
   "metadata": {},
   "source": [
    "### Part 2: Initial mass properties"
   ]
  },
  {
   "cell_type": "markdown",
   "metadata": {},
   "source": [
    "For this step we opted to layout the whole aircraft directly in Xflr5. Initially we determined the mass locations based on intuition and basic design choices. The fact that we were designing a pusher led to putting the motor and propeller in the rear of the plane. As for the rest of point masses in the plane, we put the parts like the servo next to the control surface they would be moving and then tried to get most of the other mass near the center of the plane. Originally we had the design set up for one motor, but through analyzing our total mass and the motors we will be given we decided that for our first plane iteration we want to use two motors. This design change along with subsequent iterations caused our center of gravity to move around a lot; however, through iteration we eventually arrived at a stable design. As can be seen in the image below our center of gravity moved toward the rear of the plane in our final design.\n",
    "\n",
    "<img src=\"img/Mass_layout.png\" alt=\"Pic here\" style=\"width:700px\">"
   ]
  },
  {
   "cell_type": "markdown",
   "metadata": {},
   "source": [
    "### Part 3: Mass properties after stabilization"
   ]
  },
  {
   "cell_type": "markdown",
   "metadata": {},
   "source": [
    "With much difficulty and many iterations, we did finally arrive at a stable aircraft design. Below are the desired mass and inertial properties.\n",
    "\n",
    "<img src=\"img/Inertial_Values.png\" alt=\"Pic here\" style=\"width:500px\">"
   ]
  },
  {
   "cell_type": "markdown",
   "metadata": {},
   "source": [
    "## Subgroup 2: More Detailed Aerodynamic Analysis"
   ]
  },
  {
   "cell_type": "markdown",
   "metadata": {},
   "source": [
    "Dagan Pielstick <br />\n",
    "Kevin Moore <br />"
   ]
  },
  {
   "cell_type": "markdown",
   "metadata": {},
   "source": [
    "### Part 1: Detailed drag analysis"
   ]
  },
  {
   "cell_type": "markdown",
   "metadata": {},
   "source": [
    "Though we had high hopes to use FLOWVLM for the entire project, when it came to computing stability derivatives and including strip theory, we decided to switch to xflr5.  We modeled the aircraft design from homework 3, including Austin's tail design and masses (electronics, battery, motor, and prop) for the moment calculations.  The figure below shows the lift to drag versus flight speed for all three aircraft analyzed in this section.  The Eppler 211 and NACA 0012 were run using the built in xfoil analysis for a wide range of Reynolds numbers from 10,000 to 1,000,000.  The NACA 0012 was only used on the vertical fin.\n",
    "\n",
    "<img src=\"img/LtoDragTotalPlot.jpg\" alt=\"Pic here\" style=\"width:750px\">\n",
    "Figure 1. Lift to drag ratio of current design is suprisingly similar to conceptual lift to drag ratio. Circles show maximum points.\n",
    "\n",
    "The aircraft from HW 3 was optimized for the highest lift to drag ratio including the canard effects.  The lift to drag ratio was indeed much higher than in HW 2.  However, as can be seen in the table below, the lift coefficient was much lower which would afford much more room to climb with the main wing. Interestingly, the HW 3 design had a higher flight speed which was likely due to a decrease in induced drag which resulted in a higher flight velocity and in turn greater lift for the same drag.  The general trends of both curves were quite similar as expected.\n",
    "\n",
    "Table 1. Current design has optimal CL closer to HW 3 design, but general Lift to Drag and flight speed closer to conceptual HW 2 results.\n",
    "<img src=\"img/Part2Table.png\" alt=\"Pic here\" style=\"width:400px\">\n",
    "\n",
    "\n",
    "\n",
    "\n",
    "\n",
    "\n",
    "\n",
    "\n",
    "\n"
   ]
  },
  {
   "cell_type": "markdown",
   "metadata": {},
   "source": [
    "### Part 2: Design study"
   ]
  },
  {
   "cell_type": "markdown",
   "metadata": {},
   "source": [
    "Because we had optimized the aircraft twist distribution to account for the canard on wing interaction, we were fairly confident with out design.  However, after we cut out our wing and found out the difficulty of matching tapered sections, we decided to to update the design to include a constant taper ratio and make the half span a single section.  Even though the root and tip section twists were re-optimized using FLOWVLM for minimum system induced drag, the change did increase the drag.  The design in HW 3 also neglected to add dihedral, which we decided to include for roll stability. Finally, we found that the canard was stalling and needed a lower CL, so we increased both the span and the chord, which also created more drag from the interference on the main wing and added wetted area.  A summary of the changes can be seen below.\n",
    "\n",
    "Table 2. Only minor changes were needed to get the plane within a level of adequate performance.\n",
    "<img src=\"img/changesTable.jpg\" alt=\"Pic here\" style=\"width:400px\">\n",
    "\n",
    "As can be seen in figure 1. and table 1. the performance of the design was decreased by the changes described above, however, each of the changes were needed to comply with real world constraints not previously included in the FLOWVLM optimization.  Drawings of the changes can be seen in the drawings below.  The lofting feature we were using had significant difficulty in modeling the taper ratio, however the table shows the correct chord dimensions and locations. Units in millimeters and degrees.\n",
    "\n",
    "<img src=\"img/wd1.PNG\" alt=\"Pic here\" style=\"width:700px\">\n",
    "<img src=\"img/wd2.PNG\" alt=\"Pic here\" style=\"width:700px\">\n",
    "\n",
    "\n",
    "\n"
   ]
  },
  {
   "cell_type": "markdown",
   "metadata": {},
   "source": [
    "### Part 3: Canard incidence"
   ]
  },
  {
   "cell_type": "markdown",
   "metadata": {},
   "source": [
    "Our design angle of attack is approximately 0 degrees due to the Eppler 211 cambered airfoil we have chosen.  This operating point approximately corresponds with the velocity for the maximum lift to drag ratio for the airfraft. We found that two factors were important in generating a moment coefficient that crossed the origin and had a negative slope: center of gravity position and canard lift.  We found that by moving the electronics forward, the slope of the Cm vs Alpha plot became more negative, and the canard lift made it somewhat less negative but more so changed to y intercept.  We originally wanted the canard to be close to 0 degrees incidence angle due to the use of the same Eppler 211 cambered airfoil as on the wing, but we found that approximately 0.8 degrees of incidence angle was required.  The plot of the Moment Coefficient can be seen below.\n",
    "\n",
    "<img src=\"img/Cmalpha.jpg\" alt=\"Pic here\" style=\"width:600px\">\n",
    "\n",
    "We wanted to make sure that the canard still would stall before the main wing and would afford adequate angle of attack for the main wing for climbing.  We did this by increasing the canard incidence, which is equivalent to increasing the camber with a control surface and noting the new 0 moment angle of attack.  We found that by increaseing the canard incidence angle to 2 degrees, the moment was zero at 8 degrees system angle of attack, and the canard would stall (local cl values required were above the airfoil data). From this analysis, we feel confident that this design is not only stall proof, but also affords ample angle of attack for climb and a stall speed of 7 m/s.\n",
    "\n",
    "\n",
    "\n",
    "\n",
    "\n",
    "\n"
   ]
  },
  {
   "cell_type": "markdown",
   "metadata": {},
   "source": [
    "## Subgroup 3: Stability"
   ]
  },
  {
   "cell_type": "markdown",
   "metadata": {},
   "source": [
    "Jenna Newcomb <br />\n",
    "Eduardo Alvarez <br />"
   ]
  },
  {
   "cell_type": "markdown",
   "metadata": {},
   "source": [
    "### Part 1: Static margin and neutral point"
   ]
  },
  {
   "cell_type": "markdown",
   "metadata": {},
   "source": [
    "For the neutral point of our aircraft, the neutral point was found through Xflr5.  The center of gravity was iteratively until the pitching moment was independent of the angle of attack.  See the below graph.  The neutral point was found to be 61.5 mm.\n",
    "<img src=\"img/neutralpoint.png\" alt=\"Pic here\" style=\"width:700px\">\n",
    "\n",
    "The desired static margin was 15%. This value was chosen because small UAVs typically have static margins between 10 and 20%.  Multiplying the static margin by the mean aerodynamic chord resulting in a center of gravity that was 22.1271 mm in front of the neutral point thus a distance of 49.3 mm from the leading edge.  This value was already pretty close to the aircraft's center of gravity.  However, to match this value the placement of the electronics was moved by 10 mm."
   ]
  },
  {
   "cell_type": "markdown",
   "metadata": {},
   "source": [
    "### Part 2: Dynamic stability"
   ]
  },
  {
   "cell_type": "markdown",
   "metadata": {},
   "source": [
    "See the below images for the eigenvalue plots. The top plot is a view of the lateral stability. The mode to the very left is the roll damping mode.  The mode closest to the origin is the spiral mode.  Lastly, the two symmetric modes situated above and below the origin are the dutch roll modes.  In the bottom graph, the longitudinal stability is shown.  The two modes closest to the origin are the phugoid modes.  The other two modes on the left are the short period modes.\n",
    "\n",
    "<img src=\"img/longitudinaleigenvalues.png\" alt=\"Pic here\" style=\"width:700px\">\n",
    "<img src=\"img/lateraleigenvalues.png\" alt=\"Pic here\" style=\"width:700px\">\n",
    "Analyzing the plots, the lateral stability appears quite stable.  However, longitudinally there is room for improvement in the stability shown by the short period nodes.  These nodes could be more negative meaning more damping and thus more stable.\n",
    "\n",
    "Using xflr5 the following stability derivatives were taken:\n",
    "\n",
    "$C_{L,alpha}$= 3.6396\n",
    "\n",
    "$C_{m,alpha}$= -0.80944\n",
    "\n",
    "$C_{n,beta}$= 0.023339\n",
    "\n",
    "$C_{roll,beta}$=-0.43538\n",
    "\n",
    "According the notes taken in class these values are accurate for a stable aircraft.  The derivative of lift with respect to alpha should be positive which matches the analysis.  The derivative of the pitching moment with respect to alpha should be negative, again matching the xfoil analysis.  The derivative of n with respect to the slide slip angle should be positive.  Lastly, the derivative of roll with respect to the slide slip angle should be negative.  Thus the results of the stability derivatives demonstrate the vehicle is laterally and longitudinally stable.\n"
   ]
  },
  {
   "cell_type": "markdown",
   "metadata": {},
   "source": [
    "### Part 3: Redesign"
   ]
  },
  {
   "cell_type": "markdown",
   "metadata": {},
   "source": [
    "Originally, following the tutorial video's instructions the vehicle was redesigned to attain a positive moment for a negative angle of attack.  This gave the plane natural stability.  The  canard was redesigned with a longer chord and span.  This gave the plane more lift.  In addition, we moved the center of gravity back by moving movable components backwards.  Additionally, we added a dihedral to the wing.  When the aircraft still did not attain a positive moment, we realized there must be some other error.  Upon examination of the masses of the vehicle, it was discovered that the body's mass was way too large.  Recalculating the mass of the body with the correct density reduced the mass by a third.  After, the prerequisite stability requirements were met. Since in the beginning there was a great deal of alteration of the canard, masses, and the vertical wing, it was decided to analyze the plane again with a greater dihedral because the effects were not know.  We increased the dihedral angle to 10 degrees.  The following results were obtained:\n",
    "\n",
    "<img src=\"img/cmalpha.png\" alt=\"Pic here\" style=\"width:700px\">\n",
    "As shown, the pitching moments did not change much with an increase in the dihedral angle.\n",
    "\n",
    "<img src=\"img/lateral.png\" alt=\"Pic here\" style=\"width:700px\">\n",
    "<img src=\"img/longitudinal.png\" alt=\"Pic here\" style=\"width:700px\">\n",
    "As shown, the eigenvalue modes were almost the same as well.  However, the longitudinal stability showed that the short period modes were not as stable.  They were less negative than the previous design. Furthermore, the stability derivatives are as shown:\n",
    "\n",
    "$C_{L,alpha}$= 3.7084\n",
    "\n",
    "$C_{m,alpha}$= -0.83205\n",
    "\n",
    "$C_{n,beta}$= 0.02499\n",
    "\n",
    "$C_{roll,beta}$=-0.50821\n",
    "\n",
    "The signs of these derivatives are still correct, signifying a stable aircraft. They are close to the original values.  From the results, it is demonstrated that the stability slightly deteriorated. Thus, an increase in the dihedral angle will not be implemented."
   ]
  },
  {
   "cell_type": "code",
   "execution_count": null,
   "metadata": {
    "collapsed": true
   },
   "outputs": [],
   "source": []
  }
 ],
 "metadata": {
  "kernelspec": {
   "display_name": "Julia 0.5.1",
   "language": "julia",
   "name": "julia-0.5"
  },
  "language_info": {
   "file_extension": ".jl",
   "mimetype": "application/julia",
   "name": "julia",
   "version": "0.6.0"
  }
 },
 "nbformat": 4,
 "nbformat_minor": 2
}
