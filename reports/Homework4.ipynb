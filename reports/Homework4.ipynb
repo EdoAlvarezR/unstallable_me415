{
 "cells": [
  {
   "cell_type": "markdown",
   "metadata": {},
   "source": [
    "# Homework 4 - Stability"
   ]
  },
  {
   "cell_type": "markdown",
   "metadata": {},
   "source": [
    "## Subgroup 1: Layout and Sizing"
   ]
  },
  {
   "cell_type": "markdown",
   "metadata": {},
   "source": [
    "Austin Schenk <br />"
   ]
  },
  {
   "cell_type": "markdown",
   "metadata": {},
   "source": [
    "### Part 1: Tail sizing"
   ]
  },
  {
   "cell_type": "markdown",
   "metadata": {},
   "source": [
    "Write here"
   ]
  },
  {
   "cell_type": "markdown",
   "metadata": {},
   "source": [
    "### Part 2: Initial mass properties"
   ]
  },
  {
   "cell_type": "markdown",
   "metadata": {},
   "source": [
    "Write here"
   ]
  },
  {
   "cell_type": "markdown",
   "metadata": {},
   "source": [
    "### Part 3: Mass properties after stabilization"
   ]
  },
  {
   "cell_type": "markdown",
   "metadata": {},
   "source": [
    "Write here"
   ]
  },
  {
   "cell_type": "markdown",
   "metadata": {},
   "source": [
    "## Subgroup 2: More Detailed Aerodynamic Analysis"
   ]
  },
  {
   "cell_type": "markdown",
   "metadata": {},
   "source": [
    "Dagan Pielstick <br />\n",
    "Kevin Moore <br />"
   ]
  },
  {
   "cell_type": "markdown",
   "metadata": {},
   "source": [
    "### Part 1: Detailed drag analysis"
   ]
  },
  {
   "cell_type": "markdown",
   "metadata": {},
   "source": [
    "Though we had high hopes to use FLOWVLM for the entire project, when it came to computing stability derivatives and including strip theory, we decided to switch to xflr5.  We modeled the aircraft design from homework 3, including Austin's tail design and included all the masses needed (electronics, battery, motor, and prop) for the moment calculations.  The figure below shows the lift to drag versus flight speed for all three aircraft analyzed in this section.  We will focus on the aircraft from HW 2 and 3 here.\n",
    "\n",
    "<img src=\"img/LtoDragTotalPlot.jpg\" alt=\"Pic here\" style=\"width:700px\">\n",
    "Figure 1. Lift to drag ratio of current design is suprisingly similar to conceptual lift to drag ratio.\n",
    "\n",
    "The aircraft from HW 3 was optimized for the highest lift to drag ratio including the canard effects.  The lift to drag ratio was indeed much higher than in HW 2.  However, as can be seen in the table below, the lift coefficient was much lower which would afford much more room to climb with the main wing. Interestingly the HW 3 design had a higher flight speed which was likely due to a decrease in induced drag which resulted in a higher flight velocity and in turn greater lift for the same drag.  The general trends of both curves were quite similar as expected.\n",
    "\n",
    "Table 1. Current design has optimal CL closer to HW 3 design, but general Lift to Drag and flight speed closer to conceptual HW 2 results.\n",
    "<img src=\"img/Part2Table.png\" alt=\"Pic here\" style=\"width:400px\">\n",
    "\n",
    "\n",
    "\n",
    "\n",
    "\n",
    "\n",
    "\n",
    "\n",
    "\n"
   ]
  },
  {
   "cell_type": "markdown",
   "metadata": {},
   "source": [
    "### Part 2: Design study"
   ]
  },
  {
   "cell_type": "markdown",
   "metadata": {},
   "source": [
    "Because we had optimized the aircraft twist distribution to account for the canard on wing interaction, we were fairly confident with out design.  However, after we cut out our wing and found out the difficulty of matching tapered sections, we decided to to update the design to include a constant taper ratio and make the half span a single section.  Even though the root and tip section twists were re-optimized using FLOWVLM for minimum system induced drag, the change did increase the drag.  The design in HW 3 also neglected to add dihedral, which we decided to include for roll stability. Finally, we found that the canard was stalling and needed a lower CL, so we increased both the span and the chord, which also created more drag from the interference on the main wing and added wetted area.  A summary of the changes can be seen below.\n",
    "\n",
    "Table 2. Only minor changes were needed to get the plane within a level of adequate performance.\n",
    "<img src=\"img/changesTable.jpg\" alt=\"Pic here\" style=\"width:400px\">\n",
    "\n",
    "\n",
    "As can be seen in figure 1. and table 1. the performance of the design was decreased by the changes described above, however, each of the changes were needed to comply with real world constraints not previously included in the FLOWVLM optimization.  \n",
    "\n",
    "\n",
    "\n",
    "\n",
    "\n",
    "\n"
   ]
  },
  {
   "cell_type": "markdown",
   "metadata": {},
   "source": [
    "### Part 3: Tail incidence"
   ]
  },
  {
   "cell_type": "markdown",
   "metadata": {},
   "source": [
    "Our design angle of attack is approximately 0 degrees due to the Eppler 211 cambered airfoil we have chosen.  This operating point approximately corresponds with the velocity for the maximum lift to drag ratio for the airfraft. We found that two factors were important in generating a moment coefficient that crossed the origin and had a negative slope: center of gravity position and canard lift.  We found that by moving the electronics forward, the slope of the Cm vs Alpha plot became more negative, and the canard lift made it somewhat less negative but more so changed to y intercept.  We originally wanted the canard to be close to 0 degrees incidence angle due to the use of the same Eppler 211 cambered airfoil as on the wing, but we found that approximately 0.8 degrees of incidence angle was required.  The plot of the Moment Coefficient can be seen below.\n",
    "\n",
    "<img src=\"img/Cmalpha.jpg\" alt=\"Pic here\" style=\"width:800px\">\n",
    "\n",
    "We wanted to make sure that the canard still would stall before the main wing and would afford adequate angle of attack for the main wing for climbing.  We did this by increasing the canard incidence, which is equivalent to increasing the camber with a control surface and noting the new 0 moment angle of attack.  We found that by increaseing the canard incidence angle to 2 degrees, the moment was zero at 8 degrees system angle of attack, and the canard would stall (local cl values required were above the airfoil data). From this analysis, we feel confident that this design is not only stall proof, but also affords ample angle of attack for climb and a stall speed of 7 m/s.\n",
    "\n",
    "\n",
    "\n",
    "\n",
    "\n",
    "\n"
   ]
  },
  {
   "cell_type": "markdown",
   "metadata": {},
   "source": [
    "## Subgroup 3: Stability"
   ]
  },
  {
   "cell_type": "markdown",
   "metadata": {},
   "source": [
    "Jenna Newcomb <br />\n",
    "Eduardo Alvarez <br />"
   ]
  },
  {
   "cell_type": "markdown",
   "metadata": {},
   "source": [
    "### Part 1: Static margin and neutral point"
   ]
  },
  {
   "cell_type": "markdown",
   "metadata": {},
   "source": [
    "For the neutral point of our aircraft, the neutral point was found through Xflr5.  The center of gravity was itertivetaivly  until the pitching moment was independent of the angle of attack.  See the below graph.  The neutral point was found to be 61.5 mm. \n",
    "<img src=\"img/neutralpoint.png\" alt=\"Pic here\" style=\"width:700px\">\n",
    "\n",
    "The desired static margin was 15%. This value was chosen because small UAVs typically have static margins between 10 and 20%.  Multiplying the static margin by the mean aerodynamic chord resulting in a center of gravity that was 22.1271 mm in front of the neutral point thus a distance of 49.3 mm from the leading edge.  This value was already pretty close to the aircraft's center of gravity.  However, to match this value the placement of the electronics was moved by 10 mm."
   ]
  },
  {
   "cell_type": "markdown",
   "metadata": {},
   "source": [
    "### Part 2: Dynamic stability"
   ]
  },
  {
   "cell_type": "markdown",
   "metadata": {},
   "source": [
    "See the below images for the eigenvalue plots. The top plot is a view of the lateral stability. The mode to the very left is the roll damping mode.  The mode closest to the origin is the spiral mode.  Lastly, the two symmetric modes situated above and below the orgin are the ductch roll modes.  In the bottom graph, the longitudinal stability is shown.  The two modes closest to the orgin are the phugoid modes.  The other two modes on the left are the short period modes.\n",
    "<img src=\"img/longitudinaleigenvalues.png\" alt=\"Pic here\" style=\"width:700px\">\n",
    "<img src=\"img/lateraleigenvalues.png\" alt=\"Pic here\" style=\"width:700px\">\n",
    "\n",
    "Analyzing the plots, the lateral stability appears quite stable.  However, longitudinally there is room for improvement in the stability shown by the short period nodes.  These nodes could be more negative meaning more damping and thus more stable.\n",
    "\n",
    "Using xfoil the following stability derivatives were taken:\n",
    "$C_{L,alpha}$= 3.6396\n",
    "$C_{m,alpha}$= -0.80944\n",
    "$C_{n,beta}$= 0.023339\n",
    "$C_{roll,beta}$=-0.43538\n",
    "\n",
    "According the notes taken in class these values are accurate for a stable aircraft.  The derivative of lift with respect to alpha should be positive which matches the analysis.  The derivative of the pitching moment with respect to alpha should be negative, again matching the xfoil analysis.  The derivative of n with respect to the slide slip angle should be positive.  Lastly, the derivative of roll with respect to the slide slip angle should be negative.  Thus the results of the stability derivates demonstrate the vehicle is laterally and longitudinally stable.\n"
   ]
  },
  {
   "cell_type": "markdown",
   "metadata": {},
   "source": [
    "### Part 3: Redesign"
   ]
  },
  {
   "cell_type": "markdown",
   "metadata": {},
   "source": []
  }
 ],
 "metadata": {
  "kernelspec": {
   "display_name": "Julia 0.6.0",
   "language": "julia",
   "name": "julia-0.6"
  },
  "language_info": {
   "file_extension": ".jl",
   "mimetype": "application/julia",
   "name": "julia",
   "version": "0.6.0"
  }
 },
 "nbformat": 4,
 "nbformat_minor": 2
}
