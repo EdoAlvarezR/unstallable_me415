{
 "cells": [
  {
   "cell_type": "markdown",
   "metadata": {},
   "source": [
    "# Homework 4 - Stability"
   ]
  },
  {
   "cell_type": "markdown",
   "metadata": {},
   "source": [
    "## Subgroup 1: Layout and Sizing"
   ]
  },
  {
   "cell_type": "markdown",
   "metadata": {},
   "source": [
    "Austin Schenk <br />"
   ]
  },
  {
   "cell_type": "markdown",
   "metadata": {},
   "source": [
    "### Part 1: Tail sizing"
   ]
  },
  {
   "cell_type": "markdown",
   "metadata": {},
   "source": [
    "Write here"
   ]
  },
  {
   "cell_type": "markdown",
   "metadata": {},
   "source": [
    "### Part 2: Initial mass properties"
   ]
  },
  {
   "cell_type": "markdown",
   "metadata": {},
   "source": [
    "Write here"
   ]
  },
  {
   "cell_type": "markdown",
   "metadata": {},
   "source": [
    "### Part 3: Mass properties after stabilization"
   ]
  },
  {
   "cell_type": "markdown",
   "metadata": {},
   "source": [
    "Write here"
   ]
  },
  {
   "cell_type": "markdown",
   "metadata": {},
   "source": [
    "## Subgroup 2: More Detailed Aerodynamic Analysis"
   ]
  },
  {
   "cell_type": "markdown",
   "metadata": {},
   "source": [
    "Dagan Pielstick <br />\n",
    "Kevin Moore <br />"
   ]
  },
  {
   "cell_type": "markdown",
   "metadata": {},
   "source": [
    "### Part 1: Detailed drag analysis"
   ]
  },
  {
   "cell_type": "markdown",
   "metadata": {},
   "source": [
    "Write here"
   ]
  },
  {
   "cell_type": "markdown",
   "metadata": {},
   "source": [
    "### Part 2: Design study"
   ]
  },
  {
   "cell_type": "markdown",
   "metadata": {},
   "source": [
    "Write here"
   ]
  },
  {
   "cell_type": "markdown",
   "metadata": {},
   "source": [
    "### Part 3: Tail incidence"
   ]
  },
  {
   "cell_type": "markdown",
   "metadata": {},
   "source": [
    "Write here"
   ]
  },
  {
   "cell_type": "markdown",
   "metadata": {},
   "source": [
    "## Subgroup 3: Stability"
   ]
  },
  {
   "cell_type": "markdown",
   "metadata": {},
   "source": [
    "Jenna Newcomb <br />\n",
    "Eduardo Alvarez <br />"
   ]
  },
  {
   "cell_type": "markdown",
   "metadata": {},
   "source": [
    "### Part 1: Static margin and neutral point"
   ]
  },
  {
   "cell_type": "markdown",
   "metadata": {},
   "source": [
    "For the neutral point of our aircraft, the neutral point was found through Xflr5.  The center of gravity was itertivetaivly  until the pitching moment was independent of the angle of attack.  See the below graph.  The neutral point was found to be 61.5 mm. \n",
    "<img src=\"img/neutralpoint.png\" alt=\"Pic here\" style=\"width:700px\">\n",
    "\n",
    "The desired static margin was 15%. This value was chosen because small UAVs typically have static margins between 10 and 20%.  Multiplying the static margin by the mean aerodynamic chord resulting in a center of gravity that was 22.1271 mm in front of the neutral point thus a distance of 49.3 mm from the leading edge.  This value was already pretty close to the aircraft's center of gravity.  However, to match this value the placement of the electronics was moved by 10 mm."
   ]
  },
  {
   "cell_type": "markdown",
   "metadata": {},
   "source": [
    "### Part 2: Dynamic stability"
   ]
  },
  {
   "cell_type": "markdown",
   "metadata": {},
   "source": [
    "See the below images for the eigenvalue plots. The top plot is a view of the lateral stability. The mode to the very left is the roll damping mode.  The mode closest to the origin is the spiral mode.  Lastly, the two symmetric modes situated above and below the orgin are the directional nodes.  In the bottom graph, the longitudinal stability is shown.  The two modes closest to the orgin are the phugoid modes.  The other two modes on the left are the short period modes.\n",
    "<img src=\"img/longitudinaleigenvalues.png\" alt=\"Pic here\" style=\"width:700px\">\n",
    "<img src=\"img/lateraleigenvalues.png\" alt=\"Pic here\" style=\"width:700px\">\n"
   ]
  },
  {
   "cell_type": "markdown",
   "metadata": {},
   "source": [
    "### Part 3: Redesign"
   ]
  },
  {
   "cell_type": "markdown",
   "metadata": {},
   "source": [
    "Write here"
   ]
  }
 ],
 "metadata": {
  "kernelspec": {
   "display_name": "Julia 0.5.1",
   "language": "julia",
   "name": "julia-0.5"
  },
  "language_info": {
   "file_extension": ".jl",
   "mimetype": "application/julia",
   "name": "julia",
   "version": "0.5.1"
  }
 },
 "nbformat": 4,
 "nbformat_minor": 2
}
