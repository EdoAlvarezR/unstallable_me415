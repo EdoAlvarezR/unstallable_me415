{
 "cells": [
  {
   "cell_type": "markdown",
   "metadata": {},
   "source": [
    "Jenna Newcomb\n",
    "Dagan Pielstick\n",
    "Eduardo Alvarez\n",
    "Kevin Moore\n",
    "\n",
    "October 4 2017\n",
    "\n",
    "Wing Design\n",
    "\n",
    "1) When we decided to choose a canard configuration, we knew that there would be significant interactions between the leading forward stabilizer and the trailing main wing.  We thought that the simple example VLM calculation and GUI provided by Dr. Ning would only be partially suitable for our main wing design.  Following the logic of Ilan Kroo in his \"Fundamental Comparison of Canards and Conventional Configurations\", we would have needed to design the main wing and canard such that the combination of lift was elliptical.  This would have required a significant amount of manual iteration with the provided GUI, so we decided to use the open source FLOWVLM code (https://github.com/byuflowlab/FLOWVLM) in conjunction with SNOPT (https://github.com/byuflowlab/Snopt.jl) as the engine for gradient based optimization.  \n",
    "\n",
    "Becuase this is still in the fundamental design stages, we used our previous analyses and assumptions to set the chords for both the canard and wing.  After getting the model into the required format and plotting it, we decided to add sweep and taper on the main wing for aesthetic purposes.  An image of the starting design can be seen below.  The fuselage was not included in the induced drag or lift calculations.\n",
    "\n",
    "<img src=\"img/unstallable00.png\" alt=\"Pic here\" style=\"width:700px\">\n",
    "\n",
    "The optimization was set up as the following problem:\n",
    "\n",
    "    Objective:        minimize total drag\n",
    "    Constraints:      Canard lift within 20% of main wing lift\n",
    "                      Lift is greater than weight\n",
    "    Design Variables: Canard twist\n",
    "                      Main wing root twist\n",
    "                      Main wing center twist\n",
    "                      Main wing tip twist\n",
    "\n",
    "To get the optimization to converge, we needed to decrease the canard chord and span to decrease its lift.  The wing was broken into two sections to better enable compensation for the canard effects.  Decreasing the canard span also decreased the main wing center section span.  After running the optimization several times, we found that for a given canard initial twist, the optimizer would not change the canard very much, but would converge with a modified main wing twist distribution.  From a fundamental standpoint of drag at the Trefftz plane as described by Kroo, this makes sense due to the only factor contributing to induced drag is the downwash at the plane.  For a given canard lift distribution, there is a wing lift distrubution that minimizes the induced drag.  Our final run on the optimization resulted with the following, including a 3D visualization of the lift distribution on the wing and canard as well as a visualization of the streamlines for a sweep of angles:\n",
    "\n",
    "    Flight speed:    11 m/s\n",
    "    Canard twist:    4.24 deg\n",
    "    Wing root twist: 7.72 deg\n",
    "    Wing mid twist:  6.06 deg\n",
    "    Wing tip twist:  5.36 deg\n",
    "    \n",
    "    CL cruise:       0.3\n",
    "    L/D cruise:      16.35\n",
    "    cl max cruise:   0.15\n",
    "    e_inv wing:      0.85\n",
    "    \n",
    "<img src=\"vid/liftdistribution00.gif\" alt=\"Pic here\" style=\"width:800px\">\n",
    "<img src=\"vid/vortices00.gif\" alt=\"Pic here\" style=\"width:800px\">\n",
    "\n",
    "#TALK ABOUT AIRFOIL SELECTION HERE\n",
    "\n",
    "With the airfoil known, the CL max of the wing was calculated using the airfoil max local cl of 1.4.  We increased the system angle of attack and measured the span lift distribution until the local lift distribution exceeded the airfoil max cl.  At this point, we evaluated the system CL.  The stall speed was calculated by evaluating the aircraft at decreasing flight speeds, but at the maximum angle of attack, until the lift generated equaled the weight. A summary of these results can be found below, including a visual of the wing critical section being in the root area:\n",
    "\n",
    "    CL max:          1.3\n",
    "    cl max @ CL max: 1.4\n",
    "    AOA @ CL max:    20.5 deg\n",
    "    Stall speed:     5.4 m/s\n",
    "    \n",
    "<img src=\"img/cldist.png\" alt=\"Pic here\" style=\"width:800px\">\n",
    "\n",
    "We should note that the VLM solves using thin airfoil theory, however the airfoil we have chosen uses camber and has a non-zero zero lift angle of attack.  The zero-lift angle of attack for the Eppler 211 is approximately -5 degrees.  Therefore, when we mount the wing, we will need to decrease the mounting angle by 5 degrees.  The final 3D representation in drawings can be seen below (please note that the fuselage was not included in the inviscid lift and drag calculations for this phase of design):\n",
    "\n",
    "<img src=\"img/Overal Wing Design (Pg1) v7.pdf\" alt=\"Pic here\" style=\"width:700px\">\n",
    "<img src=\"img/Overal Wing Design (Pg2) v7.pdf\" alt=\"Pic here\" style=\"width:700px\">\n",
    "\n",
    "\n",
    "\n",
    "\n",
    "\n",
    "2) Cutting the wing exposed some manufacturing difficulties that we will address in the next phase of design.  Because the method of cutting the wing availaible to us uses a simple hot wire, any taper causes the wire to travel faster on one size than the other.  We found this to generate significant error on the slower end of the wire, which made the interface between the sections on the main wing nearly impossible without significant post processing.  Becuase of this, we will likely only include the root and tip sections in our wing for the future design.  This may yield less optimal results as far as span efficiency is concerned, but will still be adequate for the mission requirements.\n",
    "\n",
    "\n",
    "\n",
    "\n"
   ]
  },
  {
   "cell_type": "code",
   "execution_count": null,
   "metadata": {
    "scrolled": true
   },
   "outputs": [],
   "source": []
  },
  {
   "cell_type": "code",
   "execution_count": null,
   "metadata": {
    "collapsed": true
   },
   "outputs": [],
   "source": []
  }
 ],
 "metadata": {
  "kernelspec": {
   "display_name": "Julia 0.6.0",
   "language": "julia",
   "name": "julia-0.6"
  },
  "language_info": {
   "file_extension": ".jl",
   "mimetype": "application/julia",
   "name": "julia",
   "version": "0.6.0"
  }
 },
 "nbformat": 4,
 "nbformat_minor": 2
}
