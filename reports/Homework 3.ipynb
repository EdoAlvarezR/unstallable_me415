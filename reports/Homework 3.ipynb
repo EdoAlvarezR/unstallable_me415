{
 "cells": [
  {
   "cell_type": "markdown",
   "metadata": {},
   "source": [
    "Initial design:\n",
    "\n",
    "<img src=\"img/unstallable00.png\" alt=\"Pic here\" style=\"width:700px\">\n",
    "\n",
    "after Kevin's optimization:\n",
    "\n",
    "moore54 [9:14 AM] \n",
    "Flying at 11 m/s,  4.72145 degrees root, 6.06702 degrees mid 5.36544 degrees tip 4.24697 degrees on the canard, minimum system induced drag for the system weight, einv of the wing is 0.85, and of the system is 0.84.  Any feedback, it takes about 15 min to get a new optimum if we change a something.\n",
    "\n",
    "\n",
    "moore54 [9:23 AM] \n",
    "CL of the system is about 0.3.  Local cl max on the wing is about 0.15.  If we say that the max local cl before stall is 1.4, then the system CL is 1.3 at 20 degrees AOA.  The VLM uses \"symmetric\" airfoils, i.e. since the NACA 4412 has a 0 lift AOA at -5degrees, we need to subtract 5 degrees off of the twist distribution.\n",
    "\n",
    "\n",
    "[9:25] \n",
    "L/D at the cruise Cl is 16.35\n",
    "\n",
    "moore54 [9:29 AM] \n",
    "At the max AOA of 20 degrees, i.e. the CL max, we can fly at a minimum at 5.4 m/s before we don't produce enough lift to overcome weight.  Stall speed is 5.4m/s\n",
    "\n",
    "\n",
    "<img src=\"img/liftdistribution00.png\" alt=\"Pic here\" style=\"width:800px\">\n",
    "<img src=\"vid/liftdistribution00.gif\" alt=\"Pic here\" style=\"width:800px\">\n",
    "<img src=\"vid/vortices00.gif\" alt=\"Pic here\" style=\"width:800px\">"
   ]
  }
 ],
 "metadata": {
  "kernelspec": {
   "display_name": "Julia 0.5.2",
   "language": "julia",
   "name": "julia-0.5"
  },
  "language_info": {
   "file_extension": ".jl",
   "mimetype": "application/julia",
   "name": "julia",
   "version": "0.5.2"
  }
 },
 "nbformat": 4,
 "nbformat_minor": 2
}
