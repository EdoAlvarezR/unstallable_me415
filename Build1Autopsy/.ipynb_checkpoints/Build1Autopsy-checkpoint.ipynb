{
 "cells": [
  {
   "cell_type": "markdown",
   "metadata": {},
   "source": [
    "Autopsy of first build.\n",
    "\n",
    "Purpose: Find out why it didn't fly (Identifty the problem so we know what to solve for in the next build)"
   ]
  },
  {
   "cell_type": "markdown",
   "metadata": {
    "heading_collapsed": true
   },
   "source": [
    "# Test flight"
   ]
  },
  {
   "cell_type": "markdown",
   "metadata": {
    "hidden": true
   },
   "source": [
    "<img src=\"img/flying00.png\" alt=\"Pic here\" style=\"width:400px\">\n",
    "So the canard is at a negative angle of attack.\n",
    "<img src=\"img/IMG_3100.JPG\" alt=\"Pic here\" style=\"width:400px\">\n",
    "Results: Inherently unstable.\n",
    "<img src=\"img/IMG_3101.JPG\" alt=\"Pic here\" style=\"width:400px\">\n",
    "Results: =D"
   ]
  },
  {
   "cell_type": "markdown",
   "metadata": {
    "hidden": true
   },
   "source": [
    "I believe this only works if the Lift (not CL) slope of the wing is stepper than the canard's."
   ]
  },
  {
   "cell_type": "markdown",
   "metadata": {
    "heading_collapsed": true
   },
   "source": [
    "# Build description"
   ]
  },
  {
   "cell_type": "markdown",
   "metadata": {
    "hidden": true
   },
   "source": [
    "<img src=\"img/IMG_3102.JPG\" alt=\"Pic here\" style=\"width:800px\">\n",
    "<img src=\"img/IMG_3103.JPG\" alt=\"Pic here\" style=\"width:400px\">\n",
    "<img src=\"img/IMG_3104.JPG\" alt=\"Pic here\" style=\"width:400px\">\n",
    "<img src=\"img/IMG_3105.JPG\" alt=\"Pic here\" style=\"width:400px\">\n",
    "<img src=\"img/IMG_3106.JPG\" alt=\"Pic here\" style=\"width:400px\">\n",
    "<img src=\"img/IMG_3107.JPG\" alt=\"Pic here\" style=\"width:800px\">\n",
    "<img src=\"img/IMG_3109.JPG\" alt=\"Pic here\" style=\"width:400px\">\n",
    "<img src=\"img/IMG_3110.JPG\" alt=\"Pic here\" style=\"width:800px\">"
   ]
  },
  {
   "cell_type": "markdown",
   "metadata": {
    "heading_collapsed": true
   },
   "source": [
    "# Thrust test"
   ]
  },
  {
   "cell_type": "markdown",
   "metadata": {
    "hidden": true
   },
   "source": [
    "<img src=\"img/thrust.png\" alt=\"Pic here\" style=\"width:700px\">"
   ]
  },
  {
   "cell_type": "markdown",
   "metadata": {
    "hidden": true
   },
   "source": [
    "I measured the thrust against a scale of battery #1, which is charged at 8.15V (Is this the same one we used for flying yesterday?)"
   ]
  },
  {
   "cell_type": "code",
   "execution_count": 4,
   "metadata": {
    "hidden": true
   },
   "outputs": [
    {
     "name": "stdout",
     "output_type": "stream",
     "text": [
      "0.11 N at quarter throttle\n",
      "1.12 N at half throttle\n",
      "1.96 N at three-quarter throttle\n",
      "2.37 N at full throttle\n"
     ]
    }
   ],
   "source": [
    "g = 9.8\n",
    "zero = 630 # grams\n",
    "read1 = 641 # quarter throttle\n",
    "read2 = 744 # half throttle\n",
    "read3 = 830 # three-quarter throttle\n",
    "read4 = 872 # full throttle\n",
    "\n",
    "label = [\"quarter\", \"half\", \"three-quarter\", \"full\"]\n",
    "for (i,read) in enumerate([read1, read2, read3, read4])\n",
    "    val = (read-zero)/1000*g\n",
    "    println(\"$(round(val,2)) N at $(label[i]) throttle\")\n",
    "end"
   ]
  },
  {
   "cell_type": "markdown",
   "metadata": {
    "hidden": true
   },
   "source": [
    "Here is a second test:"
   ]
  },
  {
   "cell_type": "code",
   "execution_count": 1,
   "metadata": {
    "hidden": true
   },
   "outputs": [
    {
     "name": "stdout",
     "output_type": "stream",
     "text": [
      "0.51 N at quarter throttle\n",
      "1.08 N at half throttle\n",
      "1.57 N at three-quarter throttle\n",
      "2.4 N at full throttle\n"
     ]
    }
   ],
   "source": [
    "g = 9.8\n",
    "zero = 630 # grams\n",
    "read1 = 682 # quarter throttle\n",
    "read2 = 740 # half throttle\n",
    "read3 = 790 # three-quarter throttle\n",
    "read4 = 875 # full throttle\n",
    "\n",
    "label = [\"quarter\", \"half\", \"three-quarter\", \"full\"]\n",
    "for (i,read) in enumerate([read1, read2, read3, read4])\n",
    "    val = (read-zero)/1000*g\n",
    "    println(\"$(round(val,2)) N at $(label[i]) throttle\")\n",
    "end"
   ]
  },
  {
   "cell_type": "markdown",
   "metadata": {
    "hidden": true
   },
   "source": [
    "Next we opened the box on both ends and in an attempt to reduce obstruction\n",
    "<img src=\"img/test02.png\" alt=\"Pic here\" style=\"width:700px\">"
   ]
  },
  {
   "cell_type": "code",
   "execution_count": 2,
   "metadata": {
    "hidden": true
   },
   "outputs": [
    {
     "name": "stdout",
     "output_type": "stream",
     "text": [
      "0.36 N at quarter throttle\n",
      "1.24 N at half throttle\n",
      "1.73 N at three-quarter throttle\n",
      "2.96 N at full throttle\n"
     ]
    }
   ],
   "source": [
    "g = 9.8\n",
    "zero = 268 # grams\n",
    "read1 = 305 # quarter throttle\n",
    "read2 = 395 # half throttle\n",
    "read3 = 445 # three-quarter throttle\n",
    "read4 = 570 # full throttle\n",
    "\n",
    "label = [\"quarter\", \"half\", \"three-quarter\", \"full\"]\n",
    "for (i,read) in enumerate([read1, read2, read3, read4])\n",
    "    val = (read-zero)/1000*g\n",
    "    println(\"$(round(val,2)) N at $(label[i]) throttle\")\n",
    "end"
   ]
  },
  {
   "cell_type": "markdown",
   "metadata": {
    "hidden": true
   },
   "source": [
    "That's an increase of about 0.6 N on full throttle"
   ]
  },
  {
   "cell_type": "markdown",
   "metadata": {
    "hidden": true
   },
   "source": [
    "XFLR5 shows that our CD during take-off is about 0.065, resulting in the following drag:"
   ]
  },
  {
   "cell_type": "code",
   "execution_count": 28,
   "metadata": {
    "hidden": true
   },
   "outputs": [
    {
     "name": "stdout",
     "output_type": "stream",
     "text": [
      "Drag at 8.5 m/s: 0.6 (N)\n"
     ]
    }
   ],
   "source": [
    "CD = 0.065\n",
    "Sref = 0.23329\n",
    "V = 8.5\n",
    "rho = 1.1\n",
    "D = CD*(0.5*rho*V^2*Sref)\n",
    "\n",
    "println(\"Drag at $V m/s: $(round(D,2)) (N)\")"
   ]
  },
  {
   "cell_type": "markdown",
   "metadata": {
    "hidden": true
   },
   "source": [
    "Hence, our motors should be enough to get to climb"
   ]
  },
  {
   "cell_type": "markdown",
   "metadata": {
    "heading_collapsed": true
   },
   "source": [
    "# Structural failure"
   ]
  },
  {
   "cell_type": "markdown",
   "metadata": {
    "hidden": true
   },
   "source": [
    "<img src=\"img/failure00.JPG\" alt=\"Pic here\" style=\"width:700px\">\n",
    "<img src=\"img/failure01.JPG\" alt=\"Pic here\" style=\"width:700px\">\n",
    "<img src=\"img/IMG_3096.JPG\" alt=\"Pic here\" style=\"width:700px\">\n",
    "<img src=\"img/failure02.JPG\" alt=\"Pic here\" style=\"width:700px\">\n",
    "\n",
    "1. **Crack:** This is a good failure, it cracked without falling apart.\n",
    "2. **Critical failure:** Canard's twin boom ripped off the wing.\n",
    "3. **Crack:** All good.\n",
    "4. **Critical failure:** Winglet ripped off tip of wing.\n",
    "5. **Crack:** Tip of wing cracked and turned up. Did we fly like this in the last test?\n",
    "6. **Crack:** Attachment of canard to twin boom ripped of along the the tips of the canard. I think this is better than having the canard breaking in half.\n",
    "\n",
    "**SOLVE FOR**\n",
    "* 2) Find a more structurally-sound way of attaching the twin boom. Would it be better to attach it to the fuselage instead of the wing? Also, the videos show the canard fluttering.\n",
    "* 4) Mount the winglet to the wing's spar instead of just the foam."
   ]
  },
  {
   "cell_type": "markdown",
   "metadata": {},
   "source": [
    "# Predicting for failure"
   ]
  },
  {
   "cell_type": "markdown",
   "metadata": {},
   "source": [
    "Let's go through the design process again with the exact build we fly and see if at any point our analysis should have pointed out that it was going to be unstable.\n",
    "\n",
    "**MODELING MISTAKES**\n",
    "* Wing span: We designed for 0.9 m in our analyses, but the actual build was 1.2 m.\n",
    "* Wing sweep: We designed for 30deg, but the actual build is 20deg.\n",
    "* Wing AOA: We designed for mounting the wing at an angle of attack of -5deg, but I believe we actually mounted at 0deg.\n",
    "* Canard chord: We designed for a chord of 10cm, but the aileron made it an actual chord of 12cm.\n",
    "* Canard twin-boom: We designed for a distance of 43.5cm from LE of main wing to LE of canard, but the actual build was 47cm.\n",
    "* Canard AOA: We designed for mounting the canard at an angle of attack of 0.8deg, but I believe we actually mounted at 0deg, and in actual flight the twin boom deflect to at least -8deg (see pic below).\n",
    "\n",
    "<img src=\"img/flying00.png\" alt=\"Pic here\" style=\"width:400px\">\n",
    "\n",
    "**FLIGHT CONDITIONS**\n",
    "* Since the CG was way back, we put a 68g weight on the canard to move it bring the CG close to the wing's nose. I calculated that our weight during flight ended up being 680g."
   ]
  },
  {
   "cell_type": "markdown",
   "metadata": {},
   "source": [
    "I set up the wing at a negative angle of attack such that in addition to the root's twist the effective AOA of the wing's root is 0.\n",
    "\n",
    "With the canard at no angle of attack I get this:\n",
    "<img src=\"img/c0.png\" alt=\"Pic here\" style=\"width:1000px\">\n",
    "<img src=\"img/c0curves.png\" alt=\"Pic here\" style=\"width:1000px\">\n",
    "looking at the pitching moment, this should have been stable. However, it seems that it would be stable at an AOA of about 10degs. Definitely the plane would stall before that.\n",
    "\n",
    "With the canard at a negative angle of attack of -5deg I get this:\n",
    "<img src=\"img/cneg5.png\" alt=\"Pic here\" style=\"width:1000px\">\n",
    "<img src=\"img/cneg5curves.png\" alt=\"Pic here\" style=\"width:1000px\">\n",
    "which the pitching moment curve ends up being unstable. If we actually flew with the twin boom deflected down, it is possible we flew on this unstable configuration for the last flight."
   ]
  },
  {
   "cell_type": "markdown",
   "metadata": {
    "heading_collapsed": true
   },
   "source": [
    "# Redesign"
   ]
  },
  {
   "cell_type": "markdown",
   "metadata": {
    "heading_collapsed": true,
    "hidden": true
   },
   "source": [
    "## REDESIGN #1"
   ]
  },
  {
   "cell_type": "markdown",
   "metadata": {
    "hidden": true
   },
   "source": [
    "If we shorten the twin boom (move the canard closer to the wing to a distance of 0.37m from LE to LE), the slope of Cm is more negative, and placing the canard at 2degs AOA the pitching moment stabilizes at about 2degs:\n",
    "\n",
    "<img src=\"img/c2shorter.png\" alt=\"Pic here\" style=\"width:1000px\">\n",
    "<img src=\"img/c2shortercurves.png\" alt=\"Pic here\" style=\"width:1000px\">\n",
    "\n",
    "However, at 5m/s at AOA=2degs we only have a CL of 0.54, which gives the following lift:"
   ]
  },
  {
   "cell_type": "code",
   "execution_count": 11,
   "metadata": {
    "hidden": true
   },
   "outputs": [
    {
     "name": "stdout",
     "output_type": "stream",
     "text": [
      "Lift at 5 (m/s): 1.73 (N)\n",
      "Lift needed: 6.61 \t CL needed at 5 (m/s): 2.06\n"
     ]
    }
   ],
   "source": [
    "M = (300 + 306 + 68)/1000\n",
    "W = M*9.8\n",
    "CL = 0.54\n",
    "rho = 1.1\n",
    "V = 5\n",
    "Sref = 0.23329\n",
    "L = CL * (0.5*rho*V^2*Sref)\n",
    "println(\"Lift at $V (m/s): $(round(L,2)) (N)\")\n",
    "println(\"Lift needed: $(round(W, 2)) \\t CL needed at $V (m/s): $(round( W/(0.5*rho*V^2*Sref) , 2 ))\")"
   ]
  },
  {
   "cell_type": "markdown",
   "metadata": {
    "hidden": true
   },
   "source": [
    "Which a CL of 2.06 requires an AOA of about 20... imposible. Lets calculate stall speed then."
   ]
  },
  {
   "cell_type": "code",
   "execution_count": 14,
   "metadata": {
    "hidden": true
   },
   "outputs": [
    {
     "name": "stdout",
     "output_type": "stream",
     "text": [
      "V required for Lift=6.61 (N) : 9.76 (m/s)\n"
     ]
    }
   ],
   "source": [
    "M = (300 + 306 + 68)/1000\n",
    "W = M*9.8\n",
    "rho = 1.1\n",
    "Sref = 0.23329\n",
    "L = W\n",
    "CL = 0.54\n",
    "V = sqrt(L/CL / (0.5*rho*Sref))\n",
    "println(\"V required for Lift=$(round(W,2)) (N) : $(round(V,2)) (m/s)\")"
   ]
  },
  {
   "cell_type": "markdown",
   "metadata": {
    "hidden": true
   },
   "source": [
    "That seems way high."
   ]
  },
  {
   "cell_type": "markdown",
   "metadata": {
    "heading_collapsed": true,
    "hidden": true
   },
   "source": [
    "## REDESIGN #2"
   ]
  },
  {
   "cell_type": "markdown",
   "metadata": {
    "hidden": true
   },
   "source": [
    "I set the canard at AOA=1deg and move it to a 0.42m from the wing\n",
    "\n",
    "<img src=\"img/c2short420.png\" alt=\"Pic here\" style=\"width:1000px\">\n",
    "<img src=\"img/c2short420curves.png\" alt=\"Pic here\" style=\"width:1000px\">\n",
    "\n",
    "However, at 5m/s stabilizes at AOA=5.3 (very close to stall), but a CL of 0.786, requiring the following speed for take off:"
   ]
  },
  {
   "cell_type": "code",
   "execution_count": 16,
   "metadata": {
    "hidden": true
   },
   "outputs": [
    {
     "name": "stdout",
     "output_type": "stream",
     "text": [
      "V required for Lift=6.61 (N) : 8.09 (m/s)\n"
     ]
    }
   ],
   "source": [
    "M = (300 + 306 + 68)/1000\n",
    "W = M*9.8\n",
    "rho = 1.1\n",
    "Sref = 0.23329\n",
    "L = W\n",
    "CL = 0.786\n",
    "V = sqrt(L/CL / (0.5*rho*Sref))\n",
    "println(\"V required for Lift=$(round(W,2)) (N) : $(round(V,2)) (m/s)\")"
   ]
  },
  {
   "cell_type": "markdown",
   "metadata": {
    "heading_collapsed": true,
    "hidden": true
   },
   "source": [
    "## REDESIGN #3"
   ]
  },
  {
   "cell_type": "markdown",
   "metadata": {
    "hidden": true
   },
   "source": [
    "I increased both tip and root chord on the main by 5cm, placed the canard 0.58m from the wing at AOA=1, and I was able to increase CL a tiny little bit:\n",
    "\n",
    "<img src=\"img/bigwing00.png\" alt=\"Pic here\" style=\"width:1000px\">\n",
    "<img src=\"img/bigwing00curves.png\" alt=\"Pic here\" style=\"width:1000px\">\n",
    "\n",
    "Stabilizes at AOA=5.3 with a CL of about 0.9, requiring the following speed for take off:"
   ]
  },
  {
   "cell_type": "code",
   "execution_count": 4,
   "metadata": {
    "hidden": true
   },
   "outputs": [
    {
     "name": "stdout",
     "output_type": "stream",
     "text": [
      "V required for Lift=6.53 (N) : 6.71 (m/s)\n"
     ]
    }
   ],
   "source": [
    "M = (300 + 306+60)/1000\n",
    "W = M*9.8\n",
    "rho = 1.1\n",
    "Sref = 0.29306\n",
    "L = W\n",
    "CL = 0.9\n",
    "V = sqrt(L/CL / (0.5*rho*Sref))\n",
    "println(\"V required for Lift=$(round(W,2)) (N) : $(round(V,2)) (m/s)\")"
   ]
  },
  {
   "cell_type": "markdown",
   "metadata": {
    "heading_collapsed": true,
    "hidden": true
   },
   "source": [
    "## REDESIGN #4"
   ]
  },
  {
   "cell_type": "markdown",
   "metadata": {
    "hidden": true
   },
   "source": [
    "Then increasing the span by 20cms, and placing the canard 0.68m from the wing at AOA=1:\n",
    "\n",
    "<img src=\"img/bigwing01.png\" alt=\"Pic here\" style=\"width:1000px\">\n",
    "<img src=\"img/bigwing01curves.png\" alt=\"Pic here\" style=\"width:1000px\">\n",
    "\n",
    "Stabilizes at AOA=5.9 with a CL of about 1.1, requiring the following speed for take off:"
   ]
  },
  {
   "cell_type": "code",
   "execution_count": 3,
   "metadata": {
    "hidden": true
   },
   "outputs": [
    {
     "name": "stdout",
     "output_type": "stream",
     "text": [
      "V required for Lift=6.53 (N) : 5.68 (m/s)\n"
     ]
    }
   ],
   "source": [
    "M = (300 + 306+60)/1000\n",
    "W = M*9.8\n",
    "rho = 1.1\n",
    "Sref = 0.33391\n",
    "L = W\n",
    "CL = 1.1\n",
    "V = sqrt(L/CL / (0.5*rho*Sref))\n",
    "println(\"V required for Lift=$(round(W,2)) (N) : $(round(V,2)) (m/s)\")"
   ]
  },
  {
   "cell_type": "markdown",
   "metadata": {
    "hidden": true
   },
   "source": [
    "Ok, increasing the wing size we can lower the stall speed, but how much is our weight increasing?"
   ]
  },
  {
   "cell_type": "markdown",
   "metadata": {
    "heading_collapsed": true,
    "hidden": true
   },
   "source": [
    "## REDESIGN #5"
   ]
  },
  {
   "cell_type": "markdown",
   "metadata": {
    "hidden": true
   },
   "source": [
    "Going back to REDESIGN #2 and increasing the chord of the canard by 5cms, locating it at 0.32m from the wing at an AOA of 3.5degs I get the following:\n",
    "\n",
    "<img src=\"img/bigcanard00.png\" alt=\"Pic here\" style=\"width:1000px\">\n",
    "<img src=\"img/bigcanard00curves.png\" alt=\"Pic here\" style=\"width:1000px\">\n",
    "\n",
    "Stabilizes at AOA=5.1 with a CL of about 0.8, requiring the following speed for take off:"
   ]
  },
  {
   "cell_type": "code",
   "execution_count": 1,
   "metadata": {
    "hidden": true
   },
   "outputs": [
    {
     "name": "stdout",
     "output_type": "stream",
     "text": [
      "V required for Lift=6.53 (N) : 7.97 (m/s)\n"
     ]
    }
   ],
   "source": [
    "M = (300 + 306+60)/1000\n",
    "W = M*9.8\n",
    "rho = 1.1\n",
    "Sref = 0.23329\n",
    "L = W\n",
    "CL = 0.8\n",
    "V = sqrt(L/CL / (0.5*rho*Sref))\n",
    "println(\"V required for Lift=$(round(W,2)) (N) : $(round(V,2)) (m/s)\")"
   ]
  },
  {
   "cell_type": "markdown",
   "metadata": {
    "hidden": true
   },
   "source": [
    "Not that much of a difference."
   ]
  },
  {
   "cell_type": "markdown",
   "metadata": {},
   "source": [
    "# Final redesign"
   ]
  },
  {
   "cell_type": "markdown",
   "metadata": {},
   "source": [
    "Ok, we already cut a two-section wing, each section 61cms long on a symmetric NACA0016 26cms-chord airfoil, so lets design around that."
   ]
  },
  {
   "cell_type": "code",
   "execution_count": 14,
   "metadata": {},
   "outputs": [
    {
     "name": "stdout",
     "output_type": "stream",
     "text": [
      "------- WING ---------------------\n",
      "Wing span: 1.155 (m)\n",
      "Wing semi-span: 0.577 (m)\n",
      "Wing tip x-position: 0.155 (m)\n"
     ]
    }
   ],
   "source": [
    "LE_len = 0.6         # (m) length of wing leading edge from root to tip\n",
    "lambda = 15*pi/180   # (rad) wing sweep\n",
    "gamma = 5*pi/180     # (rad) wing dihedral\n",
    "\n",
    "semi_b = LE_len*cos(gamma)*cos(lambda) # (m) resulting semi span\n",
    "tip_x = LE_len*cos(gamma)*sin(lambda)  # (m) x-position of wing tip\n",
    "\n",
    "w_b = 2*semi_b         # (m) wing span\n",
    "\n",
    "\n",
    "println(\"------- WING ---------------------\")\n",
    "println(\"Wing span: $(round(w_b,3)) (m)\")\n",
    "println(\"Wing semi-span: $(round(semi_b,3)) (m)\")\n",
    "println(\"Wing tip x-position: $(round(tip_x,3)) (m)\")\n"
   ]
  },
  {
   "cell_type": "markdown",
   "metadata": {},
   "source": [
    "From the Cl curves for NACA0016 below, it seems that it'll stall about 10 degs in the worst case, so let's design for stay belowing 10deg AOA on the canard.\n",
    "<img src=\"img/NACA0016polars.png\" alt=\"Pic here\" style=\"width:1000px\">"
   ]
  },
  {
   "cell_type": "markdown",
   "metadata": {},
   "source": [
    "With this wing, the lowest take-off speed we can get is by placing the canard 0.3cms from the wing nose (LE to LE), at an angle of attack of 3.5deg:\n",
    "<img src=\"img/finalbuild00.png\" alt=\"Pic here\" style=\"width:1000px\">\n",
    "<img src=\"img/finalbuild00curves.png\" alt=\"Pic here\" style=\"width:1000px\">"
   ]
  },
  {
   "cell_type": "markdown",
   "metadata": {},
   "source": [
    "We end up taking off at 10degs overall AOA (the canard ends up being at 13.5degs), with a CL of 0.6, and this is the take-off speed:"
   ]
  },
  {
   "cell_type": "code",
   "execution_count": 17,
   "metadata": {},
   "outputs": [
    {
     "name": "stdout",
     "output_type": "stream",
     "text": [
      "V required for Lift=6.53 (N) : 7.34 (m/s)\n"
     ]
    }
   ],
   "source": [
    "M = (300 + 306 + 60)/1000\n",
    "W = M*9.8\n",
    "rho = 1.1\n",
    "Sref = 0.3669\n",
    "L = W\n",
    "CL = 0.60\n",
    "V = sqrt(L/CL / (0.5*rho*Sref))\n",
    "println(\"V required for Lift=$(round(W,2)) (N) : $(round(V,2)) (m/s)\")"
   ]
  },
  {
   "cell_type": "markdown",
   "metadata": {},
   "source": [
    "## Adding flaps"
   ]
  },
  {
   "cell_type": "markdown",
   "metadata": {
    "heading_collapsed": true
   },
   "source": [
    "### Canard"
   ]
  },
  {
   "cell_type": "markdown",
   "metadata": {
    "hidden": true
   },
   "source": [
    "For the wing we'll make 8-cms-wide flaps and 2.5cms for the canard. With that, let's place the canard at $3^\\circ$ with all control surfaces in neutral, resulting in a CL of 0.5 and this flying speed:"
   ]
  },
  {
   "cell_type": "code",
   "execution_count": 20,
   "metadata": {
    "hidden": true
   },
   "outputs": [
    {
     "name": "stdout",
     "output_type": "stream",
     "text": [
      "V required for Lift=6.53 (N) : 8.04 (m/s)\n"
     ]
    }
   ],
   "source": [
    "M = (300 + 306 + 60)/1000\n",
    "W = M*9.8\n",
    "rho = 1.1\n",
    "Sref = 0.3669\n",
    "L = W\n",
    "CL = 0.5\n",
    "V = sqrt(L/CL / (0.5*rho*Sref))\n",
    "println(\"V required for Lift=$(round(W,2)) (N) : $(round(V,2)) (m/s)\")"
   ]
  },
  {
   "cell_type": "markdown",
   "metadata": {
    "hidden": true
   },
   "source": [
    "Putting a flap on the canard that is 15%-chord thick I get the following dynamics as we are controlling the flap:\n",
    "<img src=\"img/finalbuild00flappedCm.png\" alt=\"Pic here\" style=\"width:400px\">\n",
    "<img src=\"img/finalbuildflapped00.png\" alt=\"Pic here\" style=\"width:1000px\">\n",
    "<img src=\"img/finalbuildflapped00curves.png\" alt=\"Pic here\" style=\"width:1000px\">"
   ]
  },
  {
   "cell_type": "markdown",
   "metadata": {
    "hidden": true
   },
   "source": [
    "Where the white line shows the neutral position (flap undeflected), showing the stability is VERY sensitive to the position of that control surface. It seems that we can only deflected down to $2^\\circ$ and up to $5^\\circ$. Anything outside that will make the airplane unstable.\n",
    "\n",
    "Deflected down $2^\\circ$ we get a CL of 0.65 and this speed (which could be used for take-off):"
   ]
  },
  {
   "cell_type": "code",
   "execution_count": 21,
   "metadata": {
    "hidden": true,
    "scrolled": true
   },
   "outputs": [
    {
     "name": "stdout",
     "output_type": "stream",
     "text": [
      "V required for Lift=6.53 (N) : 7.05 (m/s)\n"
     ]
    }
   ],
   "source": [
    "M = (300 + 306 + 60)/1000\n",
    "W = M*9.8\n",
    "rho = 1.1\n",
    "Sref = 0.3669\n",
    "L = W\n",
    "CL = 0.65\n",
    "V = sqrt(L/CL / (0.5*rho*Sref))\n",
    "println(\"V required for Lift=$(round(W,2)) (N) : $(round(V,2)) (m/s)\")"
   ]
  },
  {
   "cell_type": "markdown",
   "metadata": {
    "hidden": true
   },
   "source": [
    ", and deflected up $3^\\circ$ we get a CL of 0.2 and this speed (which determines the minimum we could deflect the canard's control surface up without needed a crazy high speed to stay on the air):"
   ]
  },
  {
   "cell_type": "code",
   "execution_count": 22,
   "metadata": {
    "hidden": true,
    "scrolled": true
   },
   "outputs": [
    {
     "name": "stdout",
     "output_type": "stream",
     "text": [
      "V required for Lift=6.53 (N) : 12.72 (m/s)\n"
     ]
    }
   ],
   "source": [
    "M = (300 + 306 + 60)/1000\n",
    "W = M*9.8\n",
    "rho = 1.1\n",
    "Sref = 0.3669\n",
    "L = W\n",
    "CL = 0.2\n",
    "V = sqrt(L/CL / (0.5*rho*Sref))\n",
    "println(\"V required for Lift=$(round(W,2)) (N) : $(round(V,2)) (m/s)\")"
   ]
  },
  {
   "cell_type": "markdown",
   "metadata": {
    "hidden": true
   },
   "source": [
    "* **CONCLUSION:** We can deflect the canard's control surface down no more than $2^\\circ$ (requiring a flight speed of 7 m/s to stay on the air), and up no more than $3^\\circ$ (requiring 13 m/s). At its neutral position it requires a speed of 8 m/s."
   ]
  },
  {
   "cell_type": "markdown",
   "metadata": {},
   "source": [
    "### Wing"
   ]
  },
  {
   "cell_type": "code",
   "execution_count": 27,
   "metadata": {},
   "outputs": [
    {
     "name": "stdout",
     "output_type": "stream",
     "text": [
      "Semi-span (y) position of wing flap: 0.248\n",
      "x-position of wing flap: 0.066\n"
     ]
    }
   ],
   "source": [
    "w_flap_len = 0.32 # (m) Wing flap length\n",
    "w_LEflappos = semi_b - w_flap_len # (m) position at leading edge of flap\n",
    "w_yflappos = w_LEflappos*cos(gamma)*cos(lambda) # (m) y-pos of flap\n",
    "w_xflappos = w_LEflappos*cos(gamma)*sin(lambda)\n",
    "\n",
    "println(\"Semi-span (y) position of wing flap: $(round(w_yflappos,3))\")\n",
    "println(\"x-position of wing flap: $(round(w_xflappos,3))\")\n"
   ]
  },
  {
   "cell_type": "markdown",
   "metadata": {},
   "source": [
    "What if I try to increase lift by using the ailerons as elevators?\n",
    "<img src=\"img/finalbuildelevator00.png\" alt=\"Pic here\" style=\"width:1200px\">\n",
    "<img src=\"img/finalbuildelevator00curves.png\" alt=\"Pic here\" style=\"width:1200px\">"
   ]
  },
  {
   "cell_type": "markdown",
   "metadata": {},
   "source": [
    "Very unstable, bad idea.\n",
    "\n",
    "Well, at least lets make sure using the ailerons for rollin is not unstabilizing the plane:\n",
    "\n",
    "<img src=\"img/finalbuildaileron00.png\" alt=\"Pic here\" style=\"width:1200px\">\n",
    "<img src=\"img/finalbuildaileron00curves.png\" alt=\"Pic here\" style=\"width:1200px\">"
   ]
  },
  {
   "cell_type": "markdown",
   "metadata": {},
   "source": [
    "The freak! This thing is not stable if we use ailerons!"
   ]
  },
  {
   "cell_type": "markdown",
   "metadata": {
    "heading_collapsed": true
   },
   "source": [
    "# TAKE-AWAYS"
   ]
  },
  {
   "cell_type": "markdown",
   "metadata": {
    "hidden": true
   },
   "source": [
    "* It seems that the distance from the canard to the CG is the most sensitive parameter for stability, along with the AOA of the canard. We definitely flew with an unstable configuration (either an AOA for Cm stabilization that stalls the plane, or a unstable Cm curve with the canard deflected down). We need to have a setup of at least REDESIGN #1, but with our current wing the minimum take-off speed we can get is about 8.5 m/s.\n",
    "* By increasing either span or chord of the main wing (REDESIGNS #3 and #4) the take-off speed can go as low as 6.8 m/s, but we still have to include in the calculation the increased weight for the bigger wing.\n",
    "* Rough estimates of drag at 8 m/s are around 0.6 N, and motor static tests show they provide a thrust of 2.37 N  (considering fuselage obstruction). I think we have enough power to climb with ease.\n",
    "* Before every test, make sure all control surface are responding well.\n",
    "* Mount the winglet to the wing's spar instead of just the foam.\n",
    "* Find a more structurally-sound way of attaching the twin boom. Would it be better to attach it to the fuselage instead of the wing? Also, the videos show the canard fluttering."
   ]
  }
 ],
 "metadata": {
  "kernelspec": {
   "display_name": "Julia 0.6.0",
   "language": "julia",
   "name": "julia-0.6"
  },
  "language_info": {
   "file_extension": ".jl",
   "mimetype": "application/julia",
   "name": "julia",
   "version": "0.6.0"
  }
 },
 "nbformat": 4,
 "nbformat_minor": 2
}
