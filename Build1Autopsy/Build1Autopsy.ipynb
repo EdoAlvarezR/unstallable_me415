{
 "cells": [
  {
   "cell_type": "markdown",
   "metadata": {},
   "source": [
    "Autopsy of first build.\n",
    "\n",
    "Purpose: Find out why it didn't fly (Identifty the problem so we know what to solve for in the next build)"
   ]
  },
  {
   "cell_type": "markdown",
   "metadata": {
    "heading_collapsed": true
   },
   "source": [
    "# Test flight"
   ]
  },
  {
   "cell_type": "markdown",
   "metadata": {
    "hidden": true
   },
   "source": [
    "<img src=\"img/flying00.png\" alt=\"Pic here\" style=\"width:400px\">\n",
    "So the canard is at a negative angle of attack.\n",
    "<img src=\"img/IMG_3100.JPG\" alt=\"Pic here\" style=\"width:400px\">\n",
    "Results: Inherently unstable.\n",
    "<img src=\"img/IMG_3101.JPG\" alt=\"Pic here\" style=\"width:400px\">\n",
    "Results: =D"
   ]
  },
  {
   "cell_type": "markdown",
   "metadata": {
    "hidden": true
   },
   "source": [
    "I believe this only works if the Lift (not CL) slope of the wing is stepper than the canard's."
   ]
  },
  {
   "cell_type": "markdown",
   "metadata": {
    "heading_collapsed": true
   },
   "source": [
    "# Build description"
   ]
  },
  {
   "cell_type": "markdown",
   "metadata": {
    "hidden": true
   },
   "source": [
    "<img src=\"img/IMG_3102.JPG\" alt=\"Pic here\" style=\"width:800px\">\n",
    "<img src=\"img/IMG_3103.JPG\" alt=\"Pic here\" style=\"width:400px\">\n",
    "<img src=\"img/IMG_3104.JPG\" alt=\"Pic here\" style=\"width:400px\">\n",
    "<img src=\"img/IMG_3105.JPG\" alt=\"Pic here\" style=\"width:400px\">\n",
    "<img src=\"img/IMG_3106.JPG\" alt=\"Pic here\" style=\"width:400px\">\n",
    "<img src=\"img/IMG_3107.JPG\" alt=\"Pic here\" style=\"width:800px\">\n",
    "<img src=\"img/IMG_3109.JPG\" alt=\"Pic here\" style=\"width:400px\">\n",
    "<img src=\"img/IMG_3110.JPG\" alt=\"Pic here\" style=\"width:800px\">"
   ]
  },
  {
   "cell_type": "markdown",
   "metadata": {},
   "source": [
    "# Thrust test"
   ]
  },
  {
   "cell_type": "markdown",
   "metadata": {},
   "source": [
    "<img src=\"img/thrust.png\" alt=\"Pic here\" style=\"width:700px\">"
   ]
  },
  {
   "cell_type": "markdown",
   "metadata": {},
   "source": [
    "I measured the thrust against a scale of battery #1, which is charged at 8.15V (Is this the same one we used for flying yesterday?)"
   ]
  },
  {
   "cell_type": "code",
   "execution_count": 4,
   "metadata": {},
   "outputs": [
    {
     "name": "stdout",
     "output_type": "stream",
     "text": [
      "0.11 N at quarter throttle\n",
      "1.12 N at half throttle\n",
      "1.96 N at three-quarter throttle\n",
      "2.37 N at full throttle\n"
     ]
    }
   ],
   "source": [
    "g = 9.8\n",
    "zero = 630 # grams\n",
    "read1 = 641 # quarter throttle\n",
    "read2 = 744 # half throttle\n",
    "read3 = 830 # three-quarter throttle\n",
    "read4 = 872 # full throttle\n",
    "\n",
    "label = [\"quarter\", \"half\", \"three-quarter\", \"full\"]\n",
    "for (i,read) in enumerate([read1, read2, read3, read4])\n",
    "    val = (read-zero)/1000*g\n",
    "    println(\"$(round(val,2)) N at $(label[i]) throttle\")\n",
    "end"
   ]
  },
  {
   "cell_type": "markdown",
   "metadata": {},
   "source": [
    "Here is a second test:"
   ]
  },
  {
   "cell_type": "code",
   "execution_count": 1,
   "metadata": {},
   "outputs": [
    {
     "name": "stdout",
     "output_type": "stream",
     "text": [
      "0.51 N at quarter throttle\n",
      "1.08 N at half throttle\n",
      "1.57 N at three-quarter throttle\n",
      "2.4 N at full throttle\n"
     ]
    }
   ],
   "source": [
    "g = 9.8\n",
    "zero = 630 # grams\n",
    "read1 = 682 # quarter throttle\n",
    "read2 = 740 # half throttle\n",
    "read3 = 790 # three-quarter throttle\n",
    "read4 = 875 # full throttle\n",
    "\n",
    "label = [\"quarter\", \"half\", \"three-quarter\", \"full\"]\n",
    "for (i,read) in enumerate([read1, read2, read3, read4])\n",
    "    val = (read-zero)/1000*g\n",
    "    println(\"$(round(val,2)) N at $(label[i]) throttle\")\n",
    "end"
   ]
  },
  {
   "cell_type": "markdown",
   "metadata": {},
   "source": [
    "Next we opened the box on both ends and in an attempt to reduce obstruction\n",
    "<img src=\"img/test02.png\" alt=\"Pic here\" style=\"width:700px\">"
   ]
  },
  {
   "cell_type": "code",
   "execution_count": 2,
   "metadata": {},
   "outputs": [
    {
     "name": "stdout",
     "output_type": "stream",
     "text": [
      "0.36 N at quarter throttle\n",
      "1.24 N at half throttle\n",
      "1.73 N at three-quarter throttle\n",
      "2.96 N at full throttle\n"
     ]
    }
   ],
   "source": [
    "g = 9.8\n",
    "zero = 268 # grams\n",
    "read1 = 305 # quarter throttle\n",
    "read2 = 395 # half throttle\n",
    "read3 = 445 # three-quarter throttle\n",
    "read4 = 570 # full throttle\n",
    "\n",
    "label = [\"quarter\", \"half\", \"three-quarter\", \"full\"]\n",
    "for (i,read) in enumerate([read1, read2, read3, read4])\n",
    "    val = (read-zero)/1000*g\n",
    "    println(\"$(round(val,2)) N at $(label[i]) throttle\")\n",
    "end"
   ]
  },
  {
   "cell_type": "markdown",
   "metadata": {},
   "source": [
    "That's an increase of about 0.6 N on full throttle"
   ]
  },
  {
   "cell_type": "markdown",
   "metadata": {},
   "source": [
    "XFLR5 shows that our CD during take-off is about 0.065, resulting in the following drag:"
   ]
  },
  {
   "cell_type": "code",
   "execution_count": 28,
   "metadata": {},
   "outputs": [
    {
     "name": "stdout",
     "output_type": "stream",
     "text": [
      "Drag at 8.5 m/s: 0.6 (N)\n"
     ]
    }
   ],
   "source": [
    "CD = 0.065\n",
    "Sref = 0.23329\n",
    "V = 8.5\n",
    "rho = 1.1\n",
    "D = CD*(0.5*rho*V^2*Sref)\n",
    "\n",
    "println(\"Drag at $V m/s: $(round(D,2)) (N)\")"
   ]
  },
  {
   "cell_type": "markdown",
   "metadata": {},
   "source": [
    "Hence, our motors should be enough to get to climb"
   ]
  },
  {
   "cell_type": "markdown",
   "metadata": {
    "heading_collapsed": true
   },
   "source": [
    "# Structural failure"
   ]
  },
  {
   "cell_type": "markdown",
   "metadata": {
    "hidden": true
   },
   "source": [
    "<img src=\"img/failure00.JPG\" alt=\"Pic here\" style=\"width:700px\">\n",
    "<img src=\"img/failure01.JPG\" alt=\"Pic here\" style=\"width:700px\">\n",
    "<img src=\"img/IMG_3096.JPG\" alt=\"Pic here\" style=\"width:700px\">\n",
    "<img src=\"img/failure02.JPG\" alt=\"Pic here\" style=\"width:700px\">\n",
    "\n",
    "1. **Crack:** This is a good failure, it cracked without falling apart.\n",
    "2. **Critical failure:** Canard's twin boom ripped off the wing.\n",
    "3. **Crack:** All good.\n",
    "4. **Critical failure:** Winglet ripped off tip of wing.\n",
    "5. **Crack:** Tip of wing cracked and turned up. Did we fly like this in the last test?\n",
    "6. **Crack:** Attachment of canard to twin boom ripped of along the the tips of the canard. I think this is better than having the canard breaking in half.\n",
    "\n",
    "**SOLVE FOR**\n",
    "* 2) Find a more structurally-sound way of attaching the twin boom. Would it be better to attach it to the fuselage instead of the wing? Also, the videos show the canard fluttering.\n",
    "* 4) Mount the winglet to the wing's spar instead of just the foam."
   ]
  },
  {
   "cell_type": "markdown",
   "metadata": {
    "hidden": true
   },
   "source": [
    "## Predicting for failure"
   ]
  },
  {
   "cell_type": "markdown",
   "metadata": {
    "hidden": true
   },
   "source": [
    "Let's go through the design process again with the exact build we fly and see if at any point our analysis should have pointed out that it was going to be unstable.\n",
    "\n",
    "**MODELING MISTAKES**\n",
    "* Wing span: We designed for 0.9 m in our analyses, but the actual build was 1.2 m.\n",
    "* Wing sweep: We designed for 30deg, but the actual build is 20deg.\n",
    "* Wing AOA: We designed for mounting the wing at an angle of attack of -5deg, but I believe we actually mounted at 0deg.\n",
    "* Canard chord: We designed for a chord of 10cm, but the aileron made it an actual chord of 12cm.\n",
    "* Canard twin-boom: We designed for a distance of 43.5cm from LE of main wing to LE of canard, but the actual build was 47cm.\n",
    "* Canard AOA: We designed for mounting the canard at an angle of attack of 0.8deg, but I believe we actually mounted at 0deg, and in actual flight the twin boom deflect to at least -8deg (see pic below).\n",
    "\n",
    "<img src=\"img/flying00.png\" alt=\"Pic here\" style=\"width:400px\">\n",
    "\n",
    "**FLIGHT CONDITIONS**\n",
    "* Since the CG was way back, we put a 68g weight on the canard to move it bring the CG close to the wing's nose. I calculated that our weight during flight ended up being 680g."
   ]
  },
  {
   "cell_type": "markdown",
   "metadata": {
    "hidden": true
   },
   "source": [
    "I set up the wing at a negative angle of attack such that in addition to the root's twist the effective AOA of the wing's root is 0.\n",
    "\n",
    "With the canard at no angle of attack I get this:\n",
    "<img src=\"img/c0.png\" alt=\"Pic here\" style=\"width:1000px\">\n",
    "<img src=\"img/c0curves.png\" alt=\"Pic here\" style=\"width:1000px\">\n",
    "looking at the pitching moment, this should have been stable. However, it seems that it would be stable at an AOA of about 10degs. Definitely the plane would stall before that.\n",
    "\n",
    "With the canard at a negative angle of attack of -5deg I get this:\n",
    "<img src=\"img/cneg5.png\" alt=\"Pic here\" style=\"width:1000px\">\n",
    "<img src=\"img/cneg5curves.png\" alt=\"Pic here\" style=\"width:1000px\">\n",
    "which the pitching moment curve ends up being unstable. If we actually flew with the twin boom deflected down, it is possible we flew on this unstable configuration for the last flight."
   ]
  },
  {
   "cell_type": "markdown",
   "metadata": {
    "hidden": true
   },
   "source": [
    "## Redesign"
   ]
  },
  {
   "cell_type": "markdown",
   "metadata": {
    "heading_collapsed": true,
    "hidden": true
   },
   "source": [
    "### REDESIGN #1"
   ]
  },
  {
   "cell_type": "markdown",
   "metadata": {
    "hidden": true
   },
   "source": [
    "If we shorten the twin boom (move the canard closer to the wing to a distance of 0.37m from LE to LE), the slope of Cm is more negative, and placing the canard at 2degs AOA the pitching moment stabilizes at about 2degs:\n",
    "\n",
    "<img src=\"img/c2shorter.png\" alt=\"Pic here\" style=\"width:1000px\">\n",
    "<img src=\"img/c2shortercurves.png\" alt=\"Pic here\" style=\"width:1000px\">\n",
    "\n",
    "However, at 5m/s at AOA=2degs we only have a CL of 0.54, which gives the following lift:"
   ]
  },
  {
   "cell_type": "code",
   "execution_count": 11,
   "metadata": {
    "hidden": true
   },
   "outputs": [
    {
     "name": "stdout",
     "output_type": "stream",
     "text": [
      "Lift at 5 (m/s): 1.73 (N)\n",
      "Lift needed: 6.61 \t CL needed at 5 (m/s): 2.06\n"
     ]
    }
   ],
   "source": [
    "M = (300 + 306 + 68)/1000\n",
    "W = M*9.8\n",
    "CL = 0.54\n",
    "rho = 1.1\n",
    "V = 5\n",
    "Sref = 0.23329\n",
    "L = CL * (0.5*rho*V^2*Sref)\n",
    "println(\"Lift at $V (m/s): $(round(L,2)) (N)\")\n",
    "println(\"Lift needed: $(round(W, 2)) \\t CL needed at $V (m/s): $(round( W/(0.5*rho*V^2*Sref) , 2 ))\")"
   ]
  },
  {
   "cell_type": "markdown",
   "metadata": {
    "hidden": true
   },
   "source": [
    "Which a CL of 2.06 requires an AOA of about 20... imposible. Lets calculate stall speed then."
   ]
  },
  {
   "cell_type": "code",
   "execution_count": 14,
   "metadata": {
    "hidden": true
   },
   "outputs": [
    {
     "name": "stdout",
     "output_type": "stream",
     "text": [
      "V required for Lift=6.61 (N) : 9.76 (m/s)\n"
     ]
    }
   ],
   "source": [
    "M = (300 + 306 + 68)/1000\n",
    "W = M*9.8\n",
    "rho = 1.1\n",
    "Sref = 0.23329\n",
    "L = W\n",
    "CL = 0.54\n",
    "V = sqrt(L/CL / (0.5*rho*Sref))\n",
    "println(\"V required for Lift=$(round(W,2)) (N) : $(round(V,2)) (m/s)\")"
   ]
  },
  {
   "cell_type": "markdown",
   "metadata": {
    "hidden": true
   },
   "source": [
    "That seems way high."
   ]
  },
  {
   "cell_type": "markdown",
   "metadata": {
    "heading_collapsed": true,
    "hidden": true
   },
   "source": [
    "### REDESIGN #2"
   ]
  },
  {
   "cell_type": "markdown",
   "metadata": {
    "hidden": true
   },
   "source": [
    "I set the canard at AOA=1deg and move it to a 0.42m from the wing\n",
    "\n",
    "<img src=\"img/c2short420.png\" alt=\"Pic here\" style=\"width:1000px\">\n",
    "<img src=\"img/c2short420curves.png\" alt=\"Pic here\" style=\"width:1000px\">\n",
    "\n",
    "However, at 5m/s stabilizes at AOA=5.3 (very close to stall), but a CL of 0.786, requiring the following speed for take off:"
   ]
  },
  {
   "cell_type": "code",
   "execution_count": 16,
   "metadata": {
    "hidden": true
   },
   "outputs": [
    {
     "name": "stdout",
     "output_type": "stream",
     "text": [
      "V required for Lift=6.61 (N) : 8.09 (m/s)\n"
     ]
    }
   ],
   "source": [
    "M = (300 + 306 + 68)/1000\n",
    "W = M*9.8\n",
    "rho = 1.1\n",
    "Sref = 0.23329\n",
    "L = W\n",
    "CL = 0.786\n",
    "V = sqrt(L/CL / (0.5*rho*Sref))\n",
    "println(\"V required for Lift=$(round(W,2)) (N) : $(round(V,2)) (m/s)\")"
   ]
  },
  {
   "cell_type": "markdown",
   "metadata": {
    "heading_collapsed": true,
    "hidden": true
   },
   "source": [
    "### REDESIGN #3"
   ]
  },
  {
   "cell_type": "markdown",
   "metadata": {
    "hidden": true
   },
   "source": [
    "I increased both tip and root chord on the main by 5cm, placed the canard 0.58m from the wing at AOA=1, and I was able to increase CL a tiny little bit:\n",
    "\n",
    "<img src=\"img/bigwing00.png\" alt=\"Pic here\" style=\"width:1000px\">\n",
    "<img src=\"img/bigwing00curves.png\" alt=\"Pic here\" style=\"width:1000px\">\n",
    "\n",
    "Stabilizes at AOA=5.3 with a CL of about 0.9, requiring the following speed for take off:"
   ]
  },
  {
   "cell_type": "code",
   "execution_count": 20,
   "metadata": {
    "hidden": true
   },
   "outputs": [
    {
     "name": "stdout",
     "output_type": "stream",
     "text": [
      "V required for Lift=6.53 (N) : 7.52 (m/s)\n"
     ]
    }
   ],
   "source": [
    "M = (300 + 306+60)/1000\n",
    "W = M*9.8\n",
    "rho = 1.1\n",
    "Sref = 0.23329\n",
    "L = W\n",
    "CL = 0.9\n",
    "V = sqrt(L/CL / (0.5*rho*Sref))\n",
    "println(\"V required for Lift=$(round(W,2)) (N) : $(round(V,2)) (m/s)\")"
   ]
  },
  {
   "cell_type": "markdown",
   "metadata": {
    "heading_collapsed": true,
    "hidden": true
   },
   "source": [
    "### REDESIGN #4"
   ]
  },
  {
   "cell_type": "markdown",
   "metadata": {
    "hidden": true
   },
   "source": [
    "Then increasing the span by 20cms, and placing the canard 0.68m from the wing at AOA=1:\n",
    "\n",
    "<img src=\"img/bigwing01.png\" alt=\"Pic here\" style=\"width:1000px\">\n",
    "<img src=\"img/bigwing01curves.png\" alt=\"Pic here\" style=\"width:1000px\">\n",
    "\n",
    "Stabilizes at AOA=5.9 with a CL of about 1.1, requiring the following speed for take off:"
   ]
  },
  {
   "cell_type": "code",
   "execution_count": 21,
   "metadata": {
    "hidden": true
   },
   "outputs": [
    {
     "name": "stdout",
     "output_type": "stream",
     "text": [
      "V required for Lift=6.53 (N) : 6.8 (m/s)\n"
     ]
    }
   ],
   "source": [
    "M = (300 + 306+60)/1000\n",
    "W = M*9.8\n",
    "rho = 1.1\n",
    "Sref = 0.23329\n",
    "L = W\n",
    "CL = 1.1\n",
    "V = sqrt(L/CL / (0.5*rho*Sref))\n",
    "println(\"V required for Lift=$(round(W,2)) (N) : $(round(V,2)) (m/s)\")"
   ]
  },
  {
   "cell_type": "markdown",
   "metadata": {
    "hidden": true
   },
   "source": [
    "Ok, increasing the wing size we can lower the stall speed, but how much is our weight increasing?"
   ]
  },
  {
   "cell_type": "markdown",
   "metadata": {},
   "source": [
    "# TAKE-AWAYS"
   ]
  },
  {
   "cell_type": "markdown",
   "metadata": {},
   "source": [
    "* It seems that the distance from the canard to the CG is the most sensitive parameter for stability, along with the AOA of the canard. We definitely flew with an unstable configuration (either an AOA for Cm stabilization that stalls the plane, or a unstable Cm curve with the canard deflected down). We need to have a setup of at least REDESIGN #1, but with our current wing the minimum take-off speed we can get is about 8.5 m/s.\n",
    "* By increasing either span or chord of the main wing (REDESIGNS #3 and #4) the take-off speed can go as low as 6.8 m/s, but we still have to include in the calculation the increased weight for the bigger wing.\n",
    "* Rough estimates of drag at 8 m/s are around 0.6 N, and motor static tests show they provide a thrust of 2.37 N  (considering fuselage obstruction). I think we have enough power to climb with ease.\n",
    "* Before every test, make sure all control surface are responding well.\n",
    "* Mount the winglet to the wing's spar instead of just the foam.\n",
    "* Find a more structurally-sound way of attaching the twin boom. Would it be better to attach it to the fuselage instead of the wing? Also, the videos show the canard fluttering."
   ]
  }
 ],
 "metadata": {
  "kernelspec": {
   "display_name": "Julia 0.6.0",
   "language": "julia",
   "name": "julia-0.6"
  },
  "language_info": {
   "file_extension": ".jl",
   "mimetype": "application/julia",
   "name": "julia",
   "version": "0.6.0"
  }
 },
 "nbformat": 4,
 "nbformat_minor": 2
}
