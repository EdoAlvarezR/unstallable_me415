{
 "cells": [
  {
   "cell_type": "markdown",
   "metadata": {},
   "source": [
    "Autopsy of first build.\n",
    "\n",
    "Purpose: Find out why it didn't fly (Identifty the problem so we know what to solve for in the next build)"
   ]
  },
  {
   "cell_type": "markdown",
   "metadata": {},
   "source": [
    "# Test flight"
   ]
  },
  {
   "cell_type": "markdown",
   "metadata": {},
   "source": [
    "<img src=\"img/flying00.png\" alt=\"Pic here\" style=\"width:400px\">\n",
    "So the canard is at a negative angle of attack.\n",
    "<img src=\"img/IMG_3100.JPG\" alt=\"Pic here\" style=\"width:400px\">\n",
    "Results: Inherently unstable.\n",
    "<img src=\"img/IMG_3101.JPG\" alt=\"Pic here\" style=\"width:400px\">\n",
    "Results: =D"
   ]
  },
  {
   "cell_type": "markdown",
   "metadata": {},
   "source": [
    "I believe this only works if the Lift (not CL) slope of the wing is stepper than the canard's."
   ]
  },
  {
   "cell_type": "markdown",
   "metadata": {},
   "source": [
    "# Build description"
   ]
  },
  {
   "cell_type": "markdown",
   "metadata": {},
   "source": [
    "<img src=\"img/IMG_3103.JPG\" alt=\"Pic here\" style=\"width:400px\">\n",
    "<img src=\"img/IMG_3104.JPG\" alt=\"Pic here\" style=\"width:400px\">\n",
    "<img src=\"img/IMG_3105.JPG\" alt=\"Pic here\" style=\"width:400px\">\n",
    "<img src=\"img/IMG_3106.JPG\" alt=\"Pic here\" style=\"width:400px\">\n",
    "<img src=\"img/IMG_3107.JPG\" alt=\"Pic here\" style=\"width:400px\">\n",
    "<img src=\"img/IMG_3109.JPG\" alt=\"Pic here\" style=\"width:400px\">\n",
    "<img src=\"img/IMG_3110.JPG\" alt=\"Pic here\" style=\"width:400px\">"
   ]
  },
  {
   "cell_type": "markdown",
   "metadata": {},
   "source": [
    "# Thrust test"
   ]
  },
  {
   "cell_type": "markdown",
   "metadata": {},
   "source": [
    "<img src=\"img/thrust.png\" alt=\"Pic here\" style=\"width:700px\">"
   ]
  },
  {
   "cell_type": "markdown",
   "metadata": {},
   "source": [
    "I measured the thrust against a scale of battery #1, which is charged at 8.15V (Is this the same one we used for flying yesterday?)"
   ]
  },
  {
   "cell_type": "code",
   "execution_count": 4,
   "metadata": {},
   "outputs": [
    {
     "name": "stdout",
     "output_type": "stream",
     "text": [
      "0.11 N at quarter throttle\n",
      "1.12 N at half throttle\n",
      "1.96 N at three-quarter throttle\n",
      "2.37 N at full throttle\n"
     ]
    }
   ],
   "source": [
    "g = 9.8\n",
    "zero = 630 # grams\n",
    "read1 = 641 # quarter throttle\n",
    "read2 = 744 # half throttle\n",
    "read3 = 830 # three-quarter throttle\n",
    "read4 = 872 # full throttle\n",
    "\n",
    "label = [\"quarter\", \"half\", \"three-quarter\", \"full\"]\n",
    "for (i,read) in enumerate([read1, read2, read3, read4])\n",
    "    val = (read-zero)/1000*g\n",
    "    println(\"$(round(val,2)) N at $(label[i]) throttle\")\n",
    "end"
   ]
  },
  {
   "cell_type": "markdown",
   "metadata": {},
   "source": [
    "# Structural failure"
   ]
  },
  {
   "cell_type": "markdown",
   "metadata": {},
   "source": [
    "<img src=\"img/failure00.JPG\" alt=\"Pic here\" style=\"width:700px\">\n",
    "<img src=\"img/failure01.JPG\" alt=\"Pic here\" style=\"width:700px\">\n",
    "<img src=\"img/IMG_3096.JPG\" alt=\"Pic here\" style=\"width:700px\">\n",
    "<img src=\"img/failure02.JPG\" alt=\"Pic here\" style=\"width:700px\">\n",
    "\n",
    "1. **Crack:** This is a good failure, it cracked without falling apart.\n",
    "2. **Critical failure:** Canard's twin boom ripped off the wing.\n",
    "3. **Crack:** All good.\n",
    "4. **Critical failure:** Winglet ripped off tip of wing.\n",
    "5. **Crack:** Tip of wing cracked and turned up. Did we fly like this in the last test?\n",
    "6. **Crack:** Attachment of canard to twin boom ripped of along the the tips of the canard. I think this is better than having the canard breaking in half.\n",
    "\n",
    "**SOLVE FOR**\n",
    "* 2) Find a more structurally-sound way of attaching the twin boom. Would it be better to attach it to the fuselage instead of the wing? Also, the videos show the canard fluttering.\n",
    "* 4) Mount the winglet to the wing's spar instead of just the foam."
   ]
  },
  {
   "cell_type": "markdown",
   "metadata": {},
   "source": [
    "# TAKE-AWAYS"
   ]
  },
  {
   "cell_type": "markdown",
   "metadata": {},
   "source": [
    "* Before every test, make sure all control surface are responding will.\n",
    "* Mount the winglet to the wing's spar instead of just the foam.\n",
    "* Find a more structurally-sound way of attaching the twin boom. Would it be better to attach it to the fuselage instead of the wing? Also, the videos show the canard fluttering."
   ]
  }
 ],
 "metadata": {
  "kernelspec": {
   "display_name": "Julia 0.6.0",
   "language": "julia",
   "name": "julia-0.6"
  },
  "language_info": {
   "file_extension": ".jl",
   "mimetype": "application/julia",
   "name": "julia",
   "version": "0.6.0"
  }
 },
 "nbformat": 4,
 "nbformat_minor": 2
}
