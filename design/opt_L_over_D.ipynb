{
 "cells": [
  {
   "cell_type": "markdown",
   "metadata": {},
   "source": [
    "# Required Lift and optimum L/D"
   ]
  },
  {
   "cell_type": "markdown",
   "metadata": {},
   "source": [
    "<img src=\"img/unstallable00.png\" alt=\"Pic here\" style=\"width:700px\">"
   ]
  },
  {
   "cell_type": "markdown",
   "metadata": {},
   "source": [
    "## Geometry and total mass"
   ]
  },
  {
   "cell_type": "markdown",
   "metadata": {},
   "source": [
    "The lift required will be equal to the weight of the aircraft, hence, let's parameterized the weight as a function of geometric parameter. \n",
    "\n",
    "First off, we have the following base weights:\n",
    "\n",
    "<strong>Component &nbsp; &nbsp;Estimated Weight (grams/each)</strong><br>ESC (2): &nbsp; &nbsp; &nbsp; &nbsp; &nbsp; &nbsp; &nbsp; &nbsp; 9<br>BEC (1): &nbsp; &nbsp; &nbsp; &nbsp; &nbsp; &nbsp; &nbsp; &nbsp; 16<br>Raspberry Pi 3&nbsp;(1): 47<br>Flip32&nbsp;(1): &nbsp; &nbsp; &nbsp; &nbsp; &nbsp; &nbsp; &nbsp; 14<br>Battery&nbsp;(1): &nbsp; &nbsp; &nbsp; &nbsp; &nbsp; &nbsp; 36<br>Propeller&nbsp;(1): &nbsp; &nbsp; &nbsp; &nbsp; &nbsp;3<br>GPS&nbsp;(1): &nbsp; &nbsp; &nbsp; &nbsp; &nbsp; &nbsp; &nbsp; &nbsp; 32<br>Motor&nbsp;(2): &nbsp; &nbsp; &nbsp; &nbsp; &nbsp; &nbsp; &nbsp; 15<br>Servos (2-4): &nbsp; &nbsp; &nbsp; &nbsp; &nbsp;9<br>Wires, connectors, etc throughout plane: &nbsp;50</p>\n"
   ]
  },
  {
   "cell_type": "markdown",
   "metadata": {},
   "source": [
    "The geometry of the aircraft is then parameterized as follows:\n",
    "\n",
    "<img src=\"img/canard00.png\" alt=\"Pic here\" style=\"width:700px\">\n"
   ]
  },
  {
   "cell_type": "markdown",
   "metadata": {},
   "source": [
    "Hence, the weight of fuselage ($M_f$), wing ($M_w$), canard ($M_c$), and vertical tail ($M_t$) will be calculated as \n",
    "\n",
    "\\begin{align}\n",
    "        \\bullet \\quad & M_f = 4\\rho_c w l\n",
    "    \\\\\n",
    "        \\bullet \\quad & M_w = 2 \\rho_f \\Big[ (\\frac{c_{wt}+c_{wr}}{2}) \\frac{b_w/2}{\\cos\\Lambda_w} (\\frac{c_{wt}+c_{wr}}{2})0.5 t_w^* \\Big]\n",
    "    \\\\ & \\qquad = \\rho_f \\frac{b_w/2}{\\cos\\Lambda_w} (\\frac{c_{wt}+c_{wr}}{2})^2t_w^{*}\n",
    "    \\\\\n",
    "        \\bullet \\quad & M_c = \\rho_f \\frac{b_c/2}{\\cos\\Lambda_c} (\\frac{c_{ct}+c_{cr}}{2})^2t_c^*\n",
    "    \\\\\n",
    "        \\bullet \\quad & M_t = \\rho_f \\frac{l_r+l_t}{2}h t_t\n",
    "\\end{align}\n",
    "\n",
    "with $\\rho_f = 24.8\\text{ kg/m}^3$ volumetric density of foam, and $\\rho_c = 3.6 \\text{ kg/m}^2$ the area density of cardboard. "
   ]
  },
  {
   "cell_type": "code",
   "execution_count": 1,
   "metadata": {
    "scrolled": true
   },
   "outputs": [
    {
     "name": "stdout",
     "output_type": "stream",
     "text": [
      "Total mass: 1.1839256711030754 (kg)\n",
      "Lift required: 11.626150090232201 (N)\n"
     ]
    }
   ],
   "source": [
    "using PyPlot\n",
    "\n",
    "# ------ CONSTANTS\n",
    "g = 9.82          # (m/s^2) gravity\n",
    "rhoinf = 1.225    # (kg/m^3) air density at sea level and 15Cdegs\n",
    "mu = 1.846/10^5   # (kg/m*s) air dynamic viscosity\n",
    "\n",
    "# ------ MATERIALS\n",
    "rho_c = 3.6       # (kg/m^2) Cloroplast area density\n",
    "rho_f = 24.8        # (kg/m^3) HD EPS foam density\n",
    "\n",
    "# ------ GEOMETRIC PARAMETERS\n",
    "# Fuselage\n",
    "w = 8/100         # (m) width\n",
    "l = 0.75          # (m) length\n",
    "# Wing\n",
    "b_w = 0.95        # (m) span\n",
    "lambda_w = 30*pi/180        # (rad) sweep\n",
    "c_wtip = 0.10     # (m) tip chord\n",
    "c_wroot = 0.20    # (m) root chord\n",
    "t_w = 0.1         # (ratio) ave max thickness/chord\n",
    "barc_w = (c_wtip+c_wroot)/2\n",
    "AR_w = b_w/c_wtip # Aspect ratio\n",
    "tr_w = c_wtip/c_wroot      # Taper ratio\n",
    "twist_wtip = 0*pi/180      # Tip twist\n",
    "twist_wroot = 4.0*pi/180   # Root twist\n",
    "gamma_w = 0*pi/180# Dihedral\n",
    "# canard\n",
    "b_c = 0.5*b_w     # (m) span\n",
    "lambda_c = 0*pi/180        # (rad) sweep\n",
    "c_ctip = 0.10     # (m) tip chord\n",
    "c_croot = 0.10    # (m) root chord\n",
    "t_c = 0.15        # (ratio) ave max thickness/chord\n",
    "barc_c = (c_ctip+c_croot)/2\n",
    "AR_c = b_c/c_ctip   # Aspect ratio\n",
    "tr_c = c_ctip/c_croot      # Taper ratio\n",
    "twist_ctip = 5*pi/180      # Tip twist\n",
    "twist_croot = 5*pi/180   # Root twist\n",
    "gamma_c = 0*pi/180# Dihedral\n",
    "# vertical tail\n",
    "h_t = 0.17        # (m) height\n",
    "l_troot = 0.20    # (m) root length\n",
    "l_ttip = l_troot/3# (m) tip length\n",
    "t_t = 0.04        # (m) thickness\n",
    "barc_t = (l_ttip+l_troot)/2\n",
    "\n",
    "Sref = 2*b_w*barc_w      # Reference area\n",
    "\n",
    "# ------ AIRPLANE ASSEMBLY\n",
    "x_w, y_w, z_w = l*2/4, 0, w/4     # Wing's position in fuselage\n",
    "x_c, y_c, z_c = l*1/16, 0, 0.0     # Canard's position in fuselage\n",
    "x_t, y_t, z_t = l-l_troot, 0, 0.0  # Tail's position in fuselage\n",
    "\n",
    "# ------ USEFUL FUNCTIONS\n",
    "calc_Re(Vinf, l) = rhoinf*Vinf*l/mu\n",
    "calc_qinf(Vinf) = 1/2*rhoinf*Vinf.^2\n",
    "Vinfmin, Vinfmax = 3, 20 # (m/s)\n",
    "\n",
    "\n",
    "# ------ ASSUMPTIONS\n",
    "CLratio = 0.1    # Canard-wing distribution of lift\n",
    "                 #   CLratio = CLcanard/CLtot\n",
    "\n",
    "# Mass of electronic components\n",
    "M_base = (9 + 16 + 47 + 14 + 36 + 3 + 32 + 15 + 9*4 + 50)/1000\n",
    "# Mass of structural components\n",
    "M_f = rho_c * 4*w*l\n",
    "M_w = rho_f * b_w/2/cos(lambda_w) * barc_w^2 * t_w\n",
    "M_c = rho_f * b_c/2/cos(lambda_c) * barc_c^2 * t_c\n",
    "M_t = rho_f * barc_t * h_t*t_t\n",
    "# Total mass\n",
    "Mtot = sum([M_base, M_f, M_w, M_c, M_t])\n",
    "# Required lift in cruise\n",
    "L = Mtot*g\n",
    "println(\"Total mass: $Mtot (kg)\")\n",
    "println(\"Lift required: $L (N)\")\n",
    "\n"
   ]
  },
  {
   "cell_type": "markdown",
   "metadata": {},
   "source": [
    "## Drag calculation"
   ]
  },
  {
   "cell_type": "markdown",
   "metadata": {},
   "source": [
    "The drag will be broken down into parasitic drag ($D_p$) and lifting drag ($D_i$) with components as follow:\n",
    "\n",
    "\\begin{align}\n",
    "    \\bullet \\quad & D_p = (D_p)_f + (D_p)_w + (D_p)_c + (D_p)_t\n",
    "    \\\\\n",
    "    \\bullet \\quad & D_i = (D_i)_w + (D_i)_c + (D_i)_t\n",
    "\\end{align}\n",
    "\n",
    "with subindices $f,w,c,t$ indicating fuselage, wing, canard, and tail, respectively.\n",
    "\n"
   ]
  },
  {
   "cell_type": "markdown",
   "metadata": {},
   "source": [
    "### Parasitic drag"
   ]
  },
  {
   "cell_type": "markdown",
   "metadata": {},
   "source": [
    "For a flat plate:\n",
    "<img src=\"img/friction00.png\" alt=\"Pic here\" style=\"width:400px\">\n",
    "\n",
    "For an airfoil, take the flate plate $(C_{f})_{airfoil} = k(C_{f})_{flatplate}$, with $k$ the form factor\n",
    "\n",
    "<img src=\"img/friction01.png\" alt=\"Pic here\" style=\"width:300px\">\n",
    "\n",
    "Is $\\Lambda$ the sweep of the wing or the angle of attack at this section? It is sweep. Look at this graph from Prof. Alonso's notes (`etc/JJAlonso_drag.pdf`):\n",
    "\n",
    "<img src=\"img/friction02.png\" alt=\"Pic here\" style=\"width:300px\">\n",
    "\n",
    "For a body-of-revolution fuselage we have the following form factor:\n",
    "\n",
    "<img src=\"img/friction03.png\" alt=\"Pic here\" style=\"width:300px\">\n",
    "\n",
    "which can be used to calculate a boxed fuselage:\n",
    "\n",
    "<img src=\"img/friction04.png\" alt=\"Pic here\" style=\"width:300px\">"
   ]
  },
  {
   "cell_type": "markdown",
   "metadata": {},
   "source": [
    "Verifying the Cf function with a discontinuous step between laminar and turbulent:"
   ]
  },
  {
   "cell_type": "code",
   "execution_count": null,
   "metadata": {
    "collapsed": true
   },
   "outputs": [],
   "source": [
    "# Coefficient of friction, Cf = tau / qinf\n",
    "Cf_lam(Re) = 1.328/sqrt(Re)              # Average coeff laminar flow over flat plate\n",
    "Cf_tur(Re) = 0.455/(log10(Re))^(2.58)    # Average coeff turbulent flow over flat plate\n",
    "Cf(Re) = Re<5*10^5 ? Cf_lam(Re) : Cf_tur(Re)\n",
    "# Form factors\n",
    "k_lift(t_over_c, sweep) = 1 + 2*cos(sweep)*t_over_c + 100*(t_over_c)^4        # Lifting surface\n",
    "k_revbody(l_over_d) = l_over_d<15 ? 1.675-0.09*l_over_d+0.003*l_over_d^2 : 1  # Body of revolution\n",
    "\n",
    "fig = figure(\"Cf_Re\", figsize=(7*2,5*1))\n",
    "\n",
    "subplot(121)\n",
    "x = [xi for xi in 1000:10^6/100:10^6]\n",
    "y = [Cf(xi) for xi in x]\n",
    "plot(x,y, \"k\"\"\")\n",
    "grid(true, color=\"0.8\", linestyle=\"--\")\n",
    "xlabel(\"Reynolds number\")\n",
    "ylabel(L\"C_f\")\n",
    "title(\"Coefficient of friction\")\n",
    "\n",
    "subplot(122)\n",
    "x = [Vinf for Vinf in Vinfmin:0.5:Vinfmax]\n",
    "for (label, lref) in [(\"Wing\", barc_w), (\"Canard\", barc_c)]\n",
    "    y = [calc_Re(Vinf, lref) for Vinf in x]\n",
    "    plot(x,y, label=label)\n",
    "end\n",
    "grid(true, color=\"0.8\", linestyle=\"--\")\n",
    "xlabel(L\"V_\\infty \\quad (m/s)\")\n",
    "ylabel(\"Reynolds Number\")\n",
    "title(\"Operating Re range\")\n",
    "legend(loc=\"best\")"
   ]
  },
  {
   "cell_type": "markdown",
   "metadata": {},
   "source": [
    "From the plot on the right we see that we are flying way below the turbulent limit ($<10^5$), so let's assume laminar flow in our calculations."
   ]
  },
  {
   "cell_type": "markdown",
   "metadata": {},
   "source": [
    "From $C_f$ of each component, the parasitic drag is calculated as:\n",
    "\n",
    "<img src=\"img/friction06.png\" alt=\"Pic here\" style=\"width:300px\">\n",
    "<img src=\"img/friction05.png\" alt=\"Pic here\" style=\"width:300px\">"
   ]
  },
  {
   "cell_type": "code",
   "execution_count": null,
   "metadata": {
    "collapsed": true,
    "scrolled": true
   },
   "outputs": [],
   "source": [
    "function calc_CDp(Vinf; Cftype=\"transition\")\n",
    "    \n",
    "    if Cftype==\"laminar\"\n",
    "        _Cf = Cf_lam\n",
    "    elseif Cftype==\"turbulent\"\n",
    "        _Cf = Cf_tur\n",
    "    else\n",
    "        _Cf = Cf\n",
    "    end\n",
    "    \n",
    "    qinf = calc_qinf(Vinf)\n",
    "    \n",
    "    # Fuselage\n",
    "    deff = sqrt(4*w^2/pi)\n",
    "    CDp_f = k_revbody(l/deff) * _Cf(calc_Re(Vinf, l)) * (4*w*l)/Sref\n",
    "    # Wing\n",
    "    Sexp_w = 2*( (b_w/2 - w/2 )*barc_w )\n",
    "    CDp_w = k_lift(t_w, lambda_w) * _Cf(calc_Re(Vinf, barc_w)) * (\n",
    "                            2*(1+0.2*t_w)*Sexp_w)/Sref\n",
    "    # Canard\n",
    "    Sexp_c = 2*( (b_c/2 - w/2 )*barc_c )\n",
    "    CDp_c = k_lift(t_c, lambda_c) * _Cf(calc_Re(Vinf, barc_c)) * (\n",
    "                            2*(1+0.2*t_c)*Sexp_c)/Sref\n",
    "    # Horizontal tail\n",
    "    tail_t_over_c = t_t/barc_t\n",
    "    lambda_tail = atan2(l_troot-l_ttip, h_t)\n",
    "    Sexp_t = h_t*barc_t\n",
    "    CDp_t = k_lift(tail_t_over_c, lambda_tail) * _Cf(\n",
    "                            calc_Re(Vinf, barc_t)) * (\n",
    "                            2*(1+0.2*tail_t_over_c)*Sexp_t)/Sref\n",
    "    \n",
    "    return [CDp_f, CDp_w, CDp_c, CDp_t]\n",
    "end\n",
    "\n"
   ]
  },
  {
   "cell_type": "markdown",
   "metadata": {},
   "source": [
    "### Induced drag"
   ]
  },
  {
   "cell_type": "markdown",
   "metadata": {},
   "source": [
    "\n",
    "<img src=\"img/induced02.png\" alt=\"Pic here\" style=\"width:500px\">\n",
    "<img src=\"img/induced00.png\" alt=\"Pic here\" style=\"width:300px\">\n",
    "<img src=\"img/induced01.png\" alt=\"Pic here\" style=\"width:300px\">"
   ]
  },
  {
   "cell_type": "markdown",
   "metadata": {},
   "source": [
    "Hence, after calculating $C_{Dp}$ as explained above, the induced drag will be calculated as a function of $C_L$ as:\n",
    "\n",
    "\\begin{align}\n",
    "    C_{Di} = \\frac{C_L^2}{\\pi AR e_{inv}} + KC_{Dp}C_L^2\n",
    "\\end{align}\n",
    "\n",
    "(no need for calculating the Oswald efficiency factor $e$)"
   ]
  },
  {
   "cell_type": "markdown",
   "metadata": {},
   "source": [
    "### Total drag"
   ]
  },
  {
   "cell_type": "markdown",
   "metadata": {},
   "source": [
    "The total drag of each component will then be calculated as \n",
    "\n",
    "$$ \n",
    "C_{Dtot} = C_{Di} + C_{Dp}\n",
    "$$"
   ]
  },
  {
   "cell_type": "code",
   "execution_count": null,
   "metadata": {
    "collapsed": true,
    "scrolled": true
   },
   "outputs": [],
   "source": [
    "function calc_CDtot(Vinf; Cftype=\"transition\")\n",
    "    qinf = calc_qinf(Vinf)\n",
    "    K = 0.38\n",
    "    \n",
    "    # Distributing the lift between lifting bodies\n",
    "    CL = L / (qinf*Sref)         # Total CL (full airplane)\n",
    "    CL_t = 0                     # CL on tail\n",
    "    CL_c = CL*CLratio            # CL on canard\n",
    "    CL_w = CL - (CL_t+CL_c)      # CL on wing\n",
    "    \n",
    "    # Parasitic drag\n",
    "    CDp = calc_CDp(Vinf; Cftype=Cftype)\n",
    "    CDp_f, CDp_w, CDp_c, CDp_t = CDp     # Each component's\n",
    "    \n",
    "    # Induced drag\n",
    "    ## Wing\n",
    "    einv = 0.99*(1-2*(w/b_w)^2)\n",
    "    AR = b_w / barc_w\n",
    "    CDiv_w = K*CDp_w*CL_w^2\n",
    "    CDi_w = CL_w^2/(pi*AR*einv) + CDiv_w\n",
    "    ## Canard\n",
    "    einv = 0.99*(1-2*(w/b_c)^2)\n",
    "    AR = b_c / barc_c\n",
    "    CDiv_c = K*CDp_c*CL_c^2\n",
    "    CDi_c = CL_c^2/(pi*AR*einv) + CDiv_c\n",
    "    ## Vertical tail\n",
    "    einv = 0.99\n",
    "    AR = h_t / barc_t\n",
    "    CDiv_t = K*CDp_t*CL_t^2\n",
    "    CDi_t = CL_t^2/(pi*AR*einv) + CDiv_t\n",
    "    \n",
    "    return [0.0, CDi_w, CDi_c, CDi_t] + CDp\n",
    "end\n"
   ]
  },
  {
   "cell_type": "markdown",
   "metadata": {},
   "source": [
    "And this is what the drag looks like:"
   ]
  },
  {
   "cell_type": "code",
   "execution_count": null,
   "metadata": {
    "collapsed": true
   },
   "outputs": [],
   "source": [
    "using PyPlot\n",
    "\n",
    "fig = figure(\"CDs\", figsize=(7*2,5*1))\n",
    "x = [Vinf for Vinf in Vinfmin:0.5:Vinfmax]\n",
    "labels = [\"Fuselage\", \"Wing\", \"Canard\", \"Tail\"]\n",
    "\n",
    "subplot(121)\n",
    "ys = [[], [], [], []]\n",
    "for (i,Vinf) in enumerate(x)\n",
    "    CDps = calc_CDp(Vinf; Cftype=\"transition\")\n",
    "    for (j,CDp) in enumerate(CDps)\n",
    "        push!(ys[j], CDp)\n",
    "    end\n",
    "end\n",
    "for (i,label) in enumerate(labels)\n",
    "    plot(x,ys[i], label=label)\n",
    "end\n",
    "grid(true, color=\"0.8\", linestyle=\"--\")\n",
    "xlabel(L\"V_\\infty \\quad (m/s)\")\n",
    "ylabel(L\"C_{Dp}\")\n",
    "title(\"Parasitic drag coeff per component\")\n",
    "legend(loc=\"best\")\n",
    "\n",
    "subplot(122)\n",
    "ys = [[], [], [], []]\n",
    "for (i,Vinf) in enumerate(x)\n",
    "    CDs = calc_CDtot(Vinf; Cftype=\"transition\")\n",
    "    for (j,CD) in enumerate(CDs)\n",
    "        push!(ys[j], CD)\n",
    "    end\n",
    "end\n",
    "for (i,label) in enumerate(labels)\n",
    "    plot(x,ys[i], label=label)\n",
    "end\n",
    "y = [sum([ys[j][i] for j in 1:4]) for i in 1:size(x)[1]]\n",
    "plot(x,y, \"k\", label=\"Full airplane\")\n",
    "grid(true, color=\"0.8\", linestyle=\"--\")\n",
    "xlabel(L\"V_\\infty \\quad (m/s)\")\n",
    "ylabel(L\"C_{Dtot}\")\n",
    "title(\"Total drag coeff per component\")\n",
    "legend(loc=\"best\")\n",
    "\n",
    "\n",
    "fig = figure(\"D\", figsize=(7*1,5*1))\n",
    "for (i,label) in enumerate(labels)\n",
    "    plot(x,ys[i].*calc_qinf(x)*Sref, label=label)\n",
    "end\n",
    "plot(x,y.*calc_qinf(x)*Sref, \"k\", label=\"Full airplane\")\n",
    "grid(true, color=\"0.8\", linestyle=\"--\")\n",
    "xlabel(L\"V_\\infty \\quad (m/s)\")\n",
    "ylabel(L\"$D_{tot} $  (N)\")\n",
    "title(\"Total drag per component\")\n",
    "legend(loc=\"best\")\n"
   ]
  },
  {
   "cell_type": "markdown",
   "metadata": {},
   "source": [
    "## Performance Analysis"
   ]
  },
  {
   "cell_type": "markdown",
   "metadata": {},
   "source": [
    "Assuming a jump between laminar and turbulent at $Re=10^5$, lets plot $L/D$ vs $V\\infty$:"
   ]
  },
  {
   "cell_type": "code",
   "execution_count": null,
   "metadata": {
    "collapsed": true
   },
   "outputs": [],
   "source": [
    "ys = [[], [], [], []]\n",
    "for (i,Vinf) in enumerate(x)\n",
    "    CDs = calc_CDtot(Vinf; Cftype=\"transition\")\n",
    "    for (j,CD) in enumerate(CDs)\n",
    "        push!(ys[j], CD)\n",
    "    end\n",
    "end\n",
    "\n",
    "x = [Vinf for Vinf in Vinfmin:0.5:Vinfmax]\n",
    "y = [sum([ys[j][i] for j in 1:4]) for i in 1:size(x)[1]]\n",
    "plot(x,L./(y.*calc_qinf(x)*Sref), \"k\", label=\"Full airplane\")\n",
    "grid(true, color=\"0.8\", linestyle=\"--\")\n",
    "xlabel(L\"V_\\infty \\quad (m/s)\")\n",
    "ylabel(L\"L/D\")\n",
    "title(\"Performance vs flight speed\")\n",
    "legend(loc=\"best\")"
   ]
  },
  {
   "cell_type": "markdown",
   "metadata": {},
   "source": [
    "And here it is assuming turbulent flow all the way:"
   ]
  },
  {
   "cell_type": "code",
   "execution_count": null,
   "metadata": {
    "collapsed": true
   },
   "outputs": [],
   "source": [
    "ys = [[], [], [], []]\n",
    "for (i,Vinf) in enumerate(x)\n",
    "    CDs = calc_CDtot(Vinf; Cftype=\"turbulent\")\n",
    "    for (j,CD) in enumerate(CDs)\n",
    "        push!(ys[j], CD)\n",
    "    end\n",
    "end\n",
    "\n",
    "x = [Vinf for Vinf in Vinfmin:0.5:Vinfmax]\n",
    "y = [sum([ys[j][i] for j in 1:4]) for i in 1:size(x)[1]]\n",
    "plot(x,L./(y.*calc_qinf(x)*Sref), \"k\", label=\"Full airplane\")\n",
    "grid(true, color=\"0.8\", linestyle=\"--\")\n",
    "xlabel(L\"V_\\infty \\quad (m/s)\")\n",
    "ylabel(L\"L/D\")\n",
    "title(\"Performance vs flight speed\")\n",
    "legend(loc=\"best\")"
   ]
  },
  {
   "cell_type": "markdown",
   "metadata": {},
   "source": [
    "Hence, the optimum flight speed for this configuration is about 11.0 m/s, with the following performance at that such speed:"
   ]
  },
  {
   "cell_type": "code",
   "execution_count": null,
   "metadata": {
    "collapsed": true
   },
   "outputs": [],
   "source": [
    "Vinfopt = 11.0 \n",
    "CLopt = L/(calc_qinf(Vinfopt)*Sref)\n",
    "\n",
    "println(\"Optimum flight speed: \\t\\t$Vinfopt (m/s)\")\n",
    "println(\"Reynolds number for main wing: \\t$(Int64(round(calc_Re(Vinfopt, barc_w),0)))\")\n",
    "println(\"Lift coefficient (CL): \\t\\t$(round(CLopt,2))\")\n",
    "println(\"Max L/D (laminar-turbulent): \\t$(round(CLopt/sum(calc_CDtot(Vinfopt; Cftype=\"transition\")),1))\")\n",
    "println(\"Max L/D (fully turbulent): \\t$(round(CLopt/sum(calc_CDtot(Vinfopt; Cftype=\"turbulent\")),1))\")"
   ]
  },
  {
   "cell_type": "markdown",
   "metadata": {},
   "source": [
    "Such values are for the full airplane, so let's split it up between components:"
   ]
  },
  {
   "cell_type": "code",
   "execution_count": null,
   "metadata": {
    "collapsed": true
   },
   "outputs": [],
   "source": [
    "println(\"WING\")\n",
    "CL_wing = CLopt*(1-CLratio)\n",
    "CDtran_wing = calc_CDtot(Vinfopt; Cftype=\"transition\")[2]\n",
    "CDturb_wing = calc_CDtot(Vinfopt; Cftype=\"turbulent\")[2]\n",
    "println(\"\\tLift coefficient (CL): \\t\\t$(round(CL_wing,2))\")\n",
    "println(\"\\tMax L/D (laminar-turbulent): \\t$(\n",
    "                round(CL_wing/CDtran_wing,1))\")\n",
    "println(\"\\tMax L/D (fully turbulent): \\t$(\n",
    "                round(CL_wing/CDturb_wing,1))\")\n",
    "\n",
    "println(\"CANARD\")\n",
    "CL_can = CLopt*CLratio\n",
    "CDtran_can = calc_CDtot(Vinfopt; Cftype=\"transition\")[3]\n",
    "CDturb_can = calc_CDtot(Vinfopt; Cftype=\"turbulent\")[3]\n",
    "println(\"\\tLift coefficient (CL): \\t\\t$(round(CL_can,2))\")\n",
    "println(\"\\tMax L/D (laminar-turbulent): \\t$(\n",
    "                round(CL_can/CDtran_can,1))\")\n",
    "println(\"\\tMax L/D (fully turbulent): \\t$(\n",
    "                round(CL_can/CDturb_can,1))\")"
   ]
  },
  {
   "cell_type": "markdown",
   "metadata": {},
   "source": [
    "## Good looking visuals"
   ]
  },
  {
   "cell_type": "markdown",
   "metadata": {},
   "source": [
    "(for this section Paraview is needed: `>sudo apt-get install paraview` )\n",
    "\n",
    "The geometry defined above can be visualized running the following command:\n"
   ]
  },
  {
   "cell_type": "code",
   "execution_count": null,
   "metadata": {
    "collapsed": true
   },
   "outputs": [],
   "source": [
    "# VLM\n",
    "include(\"../code/FLOWVLM20170929/src/FLOWVLM.jl\")\n",
    "vlm = FLOWVLM\n",
    "\n",
    "save_path = \"temp00/\"\n",
    "run_name = \"unstallable\"\n",
    "\n",
    "run(`mkdir $save_path`)\n",
    "\n",
    "# Number of lattices\n",
    "n = 1\n",
    "n_w = 20*n\n",
    "n_c = 10*n\n",
    "n_t = 5*n\n",
    "n_f = 2*n\n",
    "# Lattices expansions\n",
    "r_w = 5.0\n",
    "r_c = 5.0\n",
    "r_t = 1.0\n",
    "r_f = 1.0\n",
    "\n",
    "\n",
    "# Creates components\n",
    "wing = vlm.simpleWing(b_w, AR_w, tr_w, twist_wroot*180/pi,\n",
    "                  lambda_w*180/pi, gamma_w*180/pi;\n",
    "                  twist_tip=twist_wtip*180/pi, n=n_w, r=r_w)\n",
    "canard = vlm.simpleWing(b_c, AR_c, tr_c, twist_croot*180/pi,\n",
    "                  lambda_c*180/pi, gamma_c*180/pi;\n",
    "                  twist_tip=twist_ctip*180/pi, n=n_c, r=r_c)\n",
    "\n",
    "fuselage = vlm.Wing(0.0, -w/2, w/2, l, 0.0)\n",
    "vlm.addchord(fuselage, 0.0, w/2, w/2, l, 0.0, n_f; r=r_f)\n",
    "vlm.addchord(fuselage, 0.0, w/2, -w/2, l, 0.0, n_f; r=r_f)\n",
    "vlm.addchord(fuselage, 0.0, -w/2, -w/2, l, 0.0, n_f; r=r_f)\n",
    "vlm.addchord(fuselage, 0.0, -w/2, w/2, l, 0.0, n_f; r=r_f)\n",
    "\n",
    "tail = vlm.Wing(0.0, 0, 0, l_troot, 0.0)\n",
    "vlm.addchord(tail, l_troot-l_ttip, h_t, 0.0, l_ttip, 0.0, n_t; r=r_t)\n",
    "\n",
    "# Assembly\n",
    "system = vlm.WingSystem()\n",
    "vlm.addwing(system, \"Fuselage\", fuselage)\n",
    "vlm.addwing(system, \"Wing\", wing)\n",
    "vlm.addwing(system, \"Canard\", canard)\n",
    "vlm.addwing(system, \"VTail\", tail)\n",
    "vlm.setcoordsystem(system, [x_w,y_w,z_w], [1.0 0 0; 0 1 0; 0 0 1] ;wings=[\"Wing\"])\n",
    "vlm.setcoordsystem(system, [x_c,y_c,z_c], [1.0 0 0; 0 1 0; 0 0 1] ;wings=[\"Canard\"])\n",
    "vlm.setcoordsystem(system, [x_t,y_t,z_t], [1.0 0 0; 0 0 1; 0 -1 0] ;wings=[\"VTail\"])\n",
    "\n",
    "Uinf(X,t) = [1.0, 0, 0]\n",
    "vlm.setVinf(system, Uinf)\n",
    "vlm.save(system, run_name; save_horseshoes=true, path=save_path)\n",
    "\n",
    "strng = save_path\n",
    "for aux1 in [\"Fuselage\", \"Wing\", \"VTail\", \"Canard\"]\n",
    "  strng = strng * run_name * \"_\"*aux1*\"_vlm.vtk;\"\n",
    "end\n",
    "run(`paraview --data=$(strng)`)\n",
    "run(`rm -rf $save_path`)\n"
   ]
  },
  {
   "cell_type": "markdown",
   "metadata": {},
   "source": [
    "It will pop up paraview displaying something like this:\n",
    "\n",
    "<img src=\"img/unstallable01.png\" alt=\"Pic here\" style=\"width:700px\">"
   ]
  },
  {
   "cell_type": "markdown",
   "metadata": {},
   "source": [
    "## Etc"
   ]
  },
  {
   "cell_type": "markdown",
   "metadata": {},
   "source": [
    "If useful at all, here is the analytical calculation:\n",
    "\n",
    "<img src=\"img/IMG_2980.JPG\" alt=\"Pic here\" style=\"width:400px\">"
   ]
  },
  {
   "cell_type": "code",
   "execution_count": null,
   "metadata": {
    "collapsed": true
   },
   "outputs": [],
   "source": [
    "Vinfopt = 12.5 \n",
    "AR = b_w / barc_w \n",
    "_, CDp_w, _, _ = calc_CDp(Vinfopt)\n",
    "e = 1 / (1/0.98 + 0.38*CDp_w*pi*AR)\n",
    "CLstar = sqrt(pi*AR*e*CDp_w) \n",
    "CLnum = L/(calc_qinf(Vinfopt)*Sref)*(1-CLratio)\n",
    "\n",
    "L_over_D_star = 1/2*sqrt(pi*AR*e/CDp_w)\n",
    "\n",
    "println(\"Analytical optimum CL_{wing}: \\t$CLstar\")\n",
    "println(\"Numerical optimum CL_{wing}: \\t$(CLnum)\")\n",
    "println(\"\")\n",
    "println(\"Analytical max (L/D)_{wing}: \\t$(round(L_over_D_star,1))\")\n",
    "println(\"Numerical max (L/D)_{wing}: \\t$(\n",
    "            round(CLnum/calc_CDtot(Vinfopt; Cftype=\"turbulent\")[2],1))\")"
   ]
  },
  {
   "cell_type": "markdown",
   "metadata": {},
   "source": [
    "From there we notice that the analytical optimum CL differs from the numerical in about 100%, however, we must remember that the numerical calculation were carried on assuming that not all the lift is generated by the wing, it is rather distributed between the wing and the canard. "
   ]
  },
  {
   "cell_type": "markdown",
   "metadata": {},
   "source": [
    "# After Kevin's optimization:"
   ]
  },
  {
   "cell_type": "markdown",
   "metadata": {},
   "source": [
    "moore54 [9:14 AM] \n",
    "Flying at 11 m/s,  4.72145 degrees root, 6.06702 degrees mid 5.36544 degrees tip 4.24697 degrees on the canard, minimum system induced drag for the system weight, einv of the wing is 0.85, and of the system is 0.84.  Any feedback, it takes about 15 min to get a new optimum if we change a something.\n",
    "\n",
    "\n",
    "moore54 [9:23 AM] \n",
    "CL of the system is about 0.3.  Local cl max on the wing is about 0.15.  If we say that the max local cl before stall is 1.4, then the system CL is 1.3 at 20 degrees AOA.  The VLM uses \"symmetric\" airfoils, i.e. since the NACA 4412 has a 0 lift AOA at -5degrees, we need to subtract 5 degrees off of the twist distribution.\n",
    "\n",
    "\n",
    "[9:25] \n",
    "L/D at the cruise Cl is 16.35\n",
    "\n",
    "moore54 [9:29 AM] \n",
    "At the max AOA of 20 degrees, i.e. the CL max, we can fly at a minimum at 5.4 m/s before we don't produce enough lift to overcome weight.  Stall speed is 5.4m/s\n",
    "\n",
    "\n",
    "<img src=\"img/liftdistribution00.png\" alt=\"Pic here\" style=\"width:800px\">\n",
    "<img src=\"vid/liftdistribution00.gif\" alt=\"Pic here\" style=\"width:800px\">\n",
    "<img src=\"vid/vortices00.gif\" alt=\"Pic here\" style=\"width:800px\">"
   ]
  }
 ],
 "metadata": {
  "kernelspec": {
   "display_name": "Julia 0.5.2",
   "language": "julia",
   "name": "julia-0.5"
  },
  "language_info": {
   "file_extension": ".jl",
   "mimetype": "application/julia",
   "name": "julia",
   "version": "0.5.2"
  }
 },
 "nbformat": 4,
 "nbformat_minor": 2
}
