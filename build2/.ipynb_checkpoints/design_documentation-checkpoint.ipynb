{
 "cells": [
  {
   "cell_type": "markdown",
   "metadata": {},
   "source": [
    "# Design documentation"
   ]
  },
  {
   "cell_type": "markdown",
   "metadata": {},
   "source": [
    "## 20171127"
   ]
  },
  {
   "cell_type": "markdown",
   "metadata": {},
   "source": [
    "This is the current design: \n",
    "<img src=\"img/pic00.png\" alt=\"Pic here\" style=\"width:600px\">\n",
    "<img src=\"img/piccurve00.png\" alt=\"Pic here\" style=\"width:600px\">"
   ]
  },
  {
   "cell_type": "markdown",
   "metadata": {},
   "source": [
    "The canard in that design is center at the fuselage, but it looks like we will end up mounting it to the wing as we did on the first build. Let's include that into the design.\n",
    "\n",
    "<img src=\"img/pic01.png\" alt=\"Pic here\" style=\"width:600px\">\n",
    "<img src=\"img/piccurve01.png\" alt=\"Pic here\" style=\"width:600px\">"
   ]
  },
  {
   "cell_type": "code",
   "execution_count": 5,
   "metadata": {},
   "outputs": [
    {
     "name": "stdout",
     "output_type": "stream",
     "text": [
      "V required for Lift=6.53 (N) : 7.9 (m/s)\n"
     ]
    }
   ],
   "source": [
    "M = (300 + 306 + 60)/1000\n",
    "W = M*9.8\n",
    "rho = 1.1\n",
    "Sref = 0.3669\n",
    "L = W\n",
    "CL = 0.518\n",
    "V = sqrt(L/CL / (0.5*rho*Sref))\n",
    "println(\"V required for Lift=$(round(W,2)) (N) : $(round(V,2)) (m/s)\")"
   ]
  },
  {
   "cell_type": "markdown",
   "metadata": {},
   "source": [
    "## 20171130 - Preflight analysis"
   ]
  },
  {
   "cell_type": "markdown",
   "metadata": {},
   "source": [
    "### Thrust test"
   ]
  },
  {
   "cell_type": "markdown",
   "metadata": {},
   "source": [
    "Tested both motors on the three-cells battery charged at 12.17 V.\n",
    "\n",
    "\n",
    "<img src=\"img/thrust00.png\" alt=\"Pic here\" style=\"width:600px\">"
   ]
  },
  {
   "cell_type": "code",
   "execution_count": 2,
   "metadata": {},
   "outputs": [
    {
     "name": "stdout",
     "output_type": "stream",
     "text": [
      "0.78 N at quarter throttle\n",
      "2.65 N at half throttle\n",
      "3.82 N at three-quarter throttle\n",
      "4.36 N at full throttle\n"
     ]
    }
   ],
   "source": [
    "g = 9.8\n",
    "zero = 950 # grams\n",
    "read1 = 1030 # quarter throttle\n",
    "read2 = 1220 # half throttle\n",
    "read3 = 1340 # three-quarter throttle\n",
    "read4 = 1395 # full throttle\n",
    "\n",
    "label = [\"quarter\", \"half\", \"three-quarter\", \"full\"]\n",
    "for (i,read) in enumerate([read1, read2, read3, read4])\n",
    "    val = (read-zero)/1000*g\n",
    "    println(\"$(round(val,2)) N at $(label[i]) throttle\")\n",
    "end"
   ]
  },
  {
   "cell_type": "markdown",
   "metadata": {},
   "source": [
    "Previously with the two-cells battery an the propellers behind the fuselage we were getting between 2.4 and 2.9 N, so now we have about 70% more thrust, but, how much thrust do we actually need?\n",
    "\n",
    "Let's see what is our drag. These are the curves modeling the canard in the same plane of the wing as we built:\n",
    "\n",
    "<img src=\"img/pic02.png\" alt=\"Pic here\" style=\"width:600px\">\n",
    "<img src=\"img/piccurves02.png\" alt=\"Pic here\" style=\"width:600px\">\n",
    "\n",
    "It shows the airplane will want to fly at around 10 degs with CL = 0.72 and CD = 0.065"
   ]
  },
  {
   "cell_type": "code",
   "execution_count": 6,
   "metadata": {},
   "outputs": [
    {
     "name": "stdout",
     "output_type": "stream",
     "text": [
      "V required for Lift=6.53 (N) : 7.43 (m/s)\n",
      "Drag at V=7.43 m/s: 0.59 (N)\n"
     ]
    }
   ],
   "source": [
    "M = (300 + 306 + 60)/1000\n",
    "W = M*9.8\n",
    "rho = 1.1\n",
    "Sref = 0.2989\n",
    "L = W\n",
    "CL = 0.72\n",
    "CD = 0.065\n",
    "V = sqrt(L/CL / (0.5*rho*Sref))\n",
    "D = CD * (0.5*rho*V^2*Sref)\n",
    "println(\"V required for Lift=$(round(W,2)) (N) : $(round(V,2)) (m/s)\")\n",
    "println(\"Drag at V=$(round(V,2)) m/s: $(round(D,2)) (N)\")"
   ]
  },
  {
   "cell_type": "markdown",
   "metadata": {},
   "source": [
    "**No pod masses**\n",
    "* Mass without fuselage: 600g\n",
    "* Mass with fuselage and battery: 850g\n",
    "* Mass with fuselage, battery, and landing gear: 974g\n",
    "\n",
    "**Pod masses**\n",
    "* Mass with fuselage, battery, and pod: 1020g\n",
    "* Mass with fuselage, battery, pod, and landing gear: 1140g"
   ]
  },
  {
   "cell_type": "markdown",
   "metadata": {},
   "source": [
    "Today we will fly without the pod, but the question is, do we fly with landing gear for a smoother take off, or without it??"
   ]
  },
  {
   "cell_type": "code",
   "execution_count": 8,
   "metadata": {},
   "outputs": [
    {
     "name": "stdout",
     "output_type": "stream",
     "text": [
      "NO LANDING GEAR\n",
      "\tV required for Lift=8.33 (N) : 8.39 (m/s)\n",
      "\tDrag at V=8.39 m/s: 0.75 (N)\n",
      "LANDING GEAR\n",
      "\tV required for Lift=9.55 (N) : 8.98 (m/s)\n",
      "\tDrag at V=8.98 m/s: 0.86 (N)\n"
     ]
    }
   ],
   "source": [
    "\n",
    "rho = 1.1\n",
    "Sref = 0.2989\n",
    "CL = 0.72\n",
    "CD = 0.065\n",
    "\n",
    "M = (850)/1000\n",
    "W = M*9.8\n",
    "L = W\n",
    "V = sqrt(L/CL / (0.5*rho*Sref))\n",
    "D = CD * (0.5*rho*V^2*Sref)\n",
    "println(\"NO LANDING GEAR\")\n",
    "println(\"\\tV required for Lift=$(round(W,2)) (N) : $(round(V,2)) (m/s)\")\n",
    "println(\"\\tDrag at V=$(round(V,2)) m/s: $(round(D,2)) (N)\")\n",
    "\n",
    "M = (974)/1000\n",
    "W = M*9.8\n",
    "L = W\n",
    "V = sqrt(L/CL / (0.5*rho*Sref))\n",
    "D = CD * (0.5*rho*V^2*Sref)\n",
    "println(\"LANDING GEAR\")\n",
    "println(\"\\tV required for Lift=$(round(W,2)) (N) : $(round(V,2)) (m/s)\")\n",
    "println(\"\\tDrag at V=$(round(V,2)) m/s: $(round(D,2)) (N)\")"
   ]
  },
  {
   "cell_type": "markdown",
   "metadata": {},
   "source": [
    "Worse case scenario, let's calculate how long would it take to accelerate from rest to 9 m/s:"
   ]
  },
  {
   "cell_type": "code",
   "execution_count": 13,
   "metadata": {},
   "outputs": [
    {
     "name": "stdout",
     "output_type": "stream",
     "text": [
      "Acceleration: 3.3 (m/s^2)\n",
      "Ramp up time for take off with Vini=0.0m/s: 2.73 (s)\n",
      "Ramp up time for take off with Vini=2.2m/s: 2.05 (s)\n"
     ]
    }
   ],
   "source": [
    "D = 1           # (N) Drag\n",
    "T = 4.3         # (N) Thrust at full throttle\n",
    "M = 1           # (kg) Mass\n",
    "V = 9.0         # (m/s) Take-off speed\n",
    "Vi = 0.0        # (m/s) Initial speed\n",
    "\n",
    "a = (T-D)/(M)\n",
    "println(\"Acceleration: $(round(a,2)) (m/s^2)\")\n",
    "t = (V-Vi)/a\n",
    "println(\"Ramp up time for take off with Vini=$(round(Vi,1))m/s: $(round(t,2)) (s)\")\n",
    "\n",
    "Vi = 5*0.44704  # (m/s) Initial speed\n",
    "t = (V-Vi)/a\n",
    "println(\"Ramp up time for take off with Vini=$(round(Vi,1))m/s: $(round(t,2)) (s)\")\n"
   ]
  },
  {
   "cell_type": "markdown",
   "metadata": {},
   "source": [
    "## 20171202 - Preflight"
   ]
  },
  {
   "cell_type": "markdown",
   "metadata": {},
   "source": [
    "### Thrust test"
   ]
  },
  {
   "cell_type": "markdown",
   "metadata": {},
   "source": [
    "Battery at 11.18 V, mass = 1250g"
   ]
  }
 ],
 "metadata": {
  "kernelspec": {
   "display_name": "Julia 0.6.0",
   "language": "julia",
   "name": "julia-0.6"
  },
  "language_info": {
   "file_extension": ".jl",
   "mimetype": "application/julia",
   "name": "julia",
   "version": "0.6.0"
  }
 },
 "nbformat": 4,
 "nbformat_minor": 2
}
