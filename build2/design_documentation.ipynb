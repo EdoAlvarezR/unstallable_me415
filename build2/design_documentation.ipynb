{
 "cells": [
  {
   "cell_type": "markdown",
   "metadata": {},
   "source": [
    "# Design documentation"
   ]
  },
  {
   "cell_type": "markdown",
   "metadata": {
    "heading_collapsed": true
   },
   "source": [
    "## 20171127"
   ]
  },
  {
   "cell_type": "markdown",
   "metadata": {
    "hidden": true
   },
   "source": [
    "This is the current design: \n",
    "<img src=\"img/pic00.png\" alt=\"Pic here\" style=\"width:600px\">\n",
    "<img src=\"img/piccurve00.png\" alt=\"Pic here\" style=\"width:600px\">"
   ]
  },
  {
   "cell_type": "markdown",
   "metadata": {
    "hidden": true
   },
   "source": [
    "The canard in that design is center at the fuselage, but it looks like we will end up mounting it to the wing as we did on the first build. Let's include that into the design.\n",
    "\n",
    "<img src=\"img/pic01.png\" alt=\"Pic here\" style=\"width:600px\">\n",
    "<img src=\"img/piccurve01.png\" alt=\"Pic here\" style=\"width:600px\">"
   ]
  },
  {
   "cell_type": "code",
   "execution_count": 5,
   "metadata": {
    "hidden": true
   },
   "outputs": [
    {
     "name": "stdout",
     "output_type": "stream",
     "text": [
      "V required for Lift=6.53 (N) : 7.9 (m/s)\n"
     ]
    }
   ],
   "source": [
    "M = (300 + 306 + 60)/1000\n",
    "W = M*9.8\n",
    "rho = 1.1\n",
    "Sref = 0.3669\n",
    "L = W\n",
    "CL = 0.518\n",
    "V = sqrt(L/CL / (0.5*rho*Sref))\n",
    "println(\"V required for Lift=$(round(W,2)) (N) : $(round(V,2)) (m/s)\")"
   ]
  },
  {
   "cell_type": "markdown",
   "metadata": {
    "heading_collapsed": true
   },
   "source": [
    "## 20171130 - Preflight analysis"
   ]
  },
  {
   "cell_type": "markdown",
   "metadata": {
    "heading_collapsed": true,
    "hidden": true
   },
   "source": [
    "### Thrust test"
   ]
  },
  {
   "cell_type": "markdown",
   "metadata": {
    "hidden": true
   },
   "source": [
    "Tested both motors on the three-cells battery charged at 12.17 V.\n",
    "\n",
    "\n",
    "<img src=\"img/thrust00.png\" alt=\"Pic here\" style=\"width:600px\">"
   ]
  },
  {
   "cell_type": "code",
   "execution_count": 2,
   "metadata": {
    "hidden": true
   },
   "outputs": [
    {
     "name": "stdout",
     "output_type": "stream",
     "text": [
      "0.78 N at quarter throttle\n",
      "2.65 N at half throttle\n",
      "3.82 N at three-quarter throttle\n",
      "4.36 N at full throttle\n"
     ]
    }
   ],
   "source": [
    "g = 9.8\n",
    "zero = 950 # grams\n",
    "read1 = 1030 # quarter throttle\n",
    "read2 = 1220 # half throttle\n",
    "read3 = 1340 # three-quarter throttle\n",
    "read4 = 1395 # full throttle\n",
    "\n",
    "label = [\"quarter\", \"half\", \"three-quarter\", \"full\"]\n",
    "for (i,read) in enumerate([read1, read2, read3, read4])\n",
    "    val = (read-zero)/1000*g\n",
    "    println(\"$(round(val,2)) N at $(label[i]) throttle\")\n",
    "end"
   ]
  },
  {
   "cell_type": "markdown",
   "metadata": {
    "hidden": true
   },
   "source": [
    "Previously with the two-cells battery an the propellers behind the fuselage we were getting between 2.4 and 2.9 N, so now we have about 70% more thrust, but, how much thrust do we actually need?"
   ]
  },
  {
   "cell_type": "markdown",
   "metadata": {
    "heading_collapsed": true,
    "hidden": true
   },
   "source": [
    "### Take-off prediction"
   ]
  },
  {
   "cell_type": "markdown",
   "metadata": {
    "hidden": true
   },
   "source": [
    "Let's see what is our drag. These are the curves modeling the canard in the same plane of the wing as we built:\n",
    "\n",
    "<img src=\"img/pic02.png\" alt=\"Pic here\" style=\"width:600px\">\n",
    "<img src=\"img/piccurves02.png\" alt=\"Pic here\" style=\"width:600px\">\n",
    "\n",
    "It shows the airplane will want to fly at around 10 degs with CL = 0.72 and CD = 0.065"
   ]
  },
  {
   "cell_type": "code",
   "execution_count": 6,
   "metadata": {
    "hidden": true
   },
   "outputs": [
    {
     "name": "stdout",
     "output_type": "stream",
     "text": [
      "V required for Lift=6.53 (N) : 7.43 (m/s)\n",
      "Drag at V=7.43 m/s: 0.59 (N)\n"
     ]
    }
   ],
   "source": [
    "M = (300 + 306 + 60)/1000\n",
    "W = M*9.8\n",
    "rho = 1.1\n",
    "Sref = 0.2989\n",
    "L = W\n",
    "CL = 0.72\n",
    "CD = 0.065\n",
    "V = sqrt(L/CL / (0.5*rho*Sref))\n",
    "D = CD * (0.5*rho*V^2*Sref)\n",
    "println(\"V required for Lift=$(round(W,2)) (N) : $(round(V,2)) (m/s)\")\n",
    "println(\"Drag at V=$(round(V,2)) m/s: $(round(D,2)) (N)\")"
   ]
  },
  {
   "cell_type": "markdown",
   "metadata": {
    "hidden": true
   },
   "source": [
    "**No pod masses**\n",
    "* Mass without fuselage: 600g\n",
    "* Mass with fuselage and battery: 850g\n",
    "* Mass with fuselage, battery, and landing gear: 974g\n",
    "\n",
    "**Pod masses**\n",
    "* Mass with fuselage, battery, and pod: 1020g\n",
    "* Mass with fuselage, battery, pod, and landing gear: 1140g"
   ]
  },
  {
   "cell_type": "markdown",
   "metadata": {
    "hidden": true
   },
   "source": [
    "Today we will fly without the pod, but the question is, do we fly with landing gear for a smoother take off, or without it??"
   ]
  },
  {
   "cell_type": "code",
   "execution_count": 8,
   "metadata": {
    "hidden": true
   },
   "outputs": [
    {
     "name": "stdout",
     "output_type": "stream",
     "text": [
      "NO LANDING GEAR\n",
      "\tV required for Lift=8.33 (N) : 8.39 (m/s)\n",
      "\tDrag at V=8.39 m/s: 0.75 (N)\n",
      "LANDING GEAR\n",
      "\tV required for Lift=9.55 (N) : 8.98 (m/s)\n",
      "\tDrag at V=8.98 m/s: 0.86 (N)\n"
     ]
    }
   ],
   "source": [
    "\n",
    "rho = 1.1\n",
    "Sref = 0.2989\n",
    "CL = 0.72\n",
    "CD = 0.065\n",
    "\n",
    "M = (850)/1000\n",
    "W = M*9.8\n",
    "L = W\n",
    "V = sqrt(L/CL / (0.5*rho*Sref))\n",
    "D = CD * (0.5*rho*V^2*Sref)\n",
    "println(\"NO LANDING GEAR\")\n",
    "println(\"\\tV required for Lift=$(round(W,2)) (N) : $(round(V,2)) (m/s)\")\n",
    "println(\"\\tDrag at V=$(round(V,2)) m/s: $(round(D,2)) (N)\")\n",
    "\n",
    "M = (974)/1000\n",
    "W = M*9.8\n",
    "L = W\n",
    "V = sqrt(L/CL / (0.5*rho*Sref))\n",
    "D = CD * (0.5*rho*V^2*Sref)\n",
    "println(\"LANDING GEAR\")\n",
    "println(\"\\tV required for Lift=$(round(W,2)) (N) : $(round(V,2)) (m/s)\")\n",
    "println(\"\\tDrag at V=$(round(V,2)) m/s: $(round(D,2)) (N)\")"
   ]
  },
  {
   "cell_type": "markdown",
   "metadata": {
    "hidden": true
   },
   "source": [
    "Worse case scenario, let's calculate how long would it take to accelerate from rest to 9 m/s:"
   ]
  },
  {
   "cell_type": "code",
   "execution_count": 13,
   "metadata": {
    "hidden": true
   },
   "outputs": [
    {
     "name": "stdout",
     "output_type": "stream",
     "text": [
      "Acceleration: 3.3 (m/s^2)\n",
      "Ramp up time for take off with Vini=0.0m/s: 2.73 (s)\n",
      "Ramp up time for take off with Vini=2.2m/s: 2.05 (s)\n"
     ]
    }
   ],
   "source": [
    "D = 1           # (N) Drag\n",
    "T = 4.3         # (N) Thrust at full throttle\n",
    "M = 1           # (kg) Mass\n",
    "V = 9.0         # (m/s) Take-off speed\n",
    "Vi = 0.0        # (m/s) Initial speed\n",
    "\n",
    "a = (T-D)/(M)\n",
    "println(\"Acceleration: $(round(a,2)) (m/s^2)\")\n",
    "t = (V-Vi)/a\n",
    "println(\"Ramp up time for take off with Vini=$(round(Vi,1))m/s: $(round(t,2)) (s)\")\n",
    "\n",
    "Vi = 5*0.44704  # (m/s) Initial speed\n",
    "t = (V-Vi)/a\n",
    "println(\"Ramp up time for take off with Vini=$(round(Vi,1))m/s: $(round(t,2)) (s)\")\n"
   ]
  },
  {
   "cell_type": "markdown",
   "metadata": {
    "heading_collapsed": true
   },
   "source": [
    "## 20171202 - Preflight analysis"
   ]
  },
  {
   "cell_type": "markdown",
   "metadata": {
    "hidden": true
   },
   "source": [
    "Added the fuselage and GPS pod. For this flight we switch to a three-cell battery (11.1V) with bigger capacity for a longer fly, used bigger motors (one speed controler of 30A and another of 40A), and 5-in-diameter props. This should give us more thrust to counter act the drag of the fuselage (and hopefully a shorter take off), and greater endurance."
   ]
  },
  {
   "cell_type": "markdown",
   "metadata": {
    "hidden": true
   },
   "source": [
    "### Thrust test"
   ]
  },
  {
   "cell_type": "markdown",
   "metadata": {
    "hidden": true
   },
   "source": [
    "\n",
    "Battery at 11.18 V, full airplane mass = 1250g\n",
    "\n",
    "<img src=\"img/thrust01.png\" alt=\"Pic here\" style=\"width:600px\">"
   ]
  },
  {
   "cell_type": "code",
   "execution_count": 4,
   "metadata": {
    "hidden": true
   },
   "outputs": [
    {
     "name": "stdout",
     "output_type": "stream",
     "text": [
      "1.76 N at quarter throttle\n",
      "3.72 N at half throttle\n",
      "3.72 N at three-quarter throttle\n",
      "4.9 N at full throttle\n"
     ]
    }
   ],
   "source": [
    "g = 9.8\n",
    "zero = 1020 # grams\n",
    "read1 = 1200 # quarter throttle\n",
    "read2 = 1400 # half throttle\n",
    "read3 = 1400 # three-quarter throttle\n",
    "read4 = 1520 # full throttle\n",
    "\n",
    "label = [\"quarter\", \"half\", \"three-quarter\", \"full\"]\n",
    "for (i,read) in enumerate([read1, read2, read3, read4])\n",
    "    val = (read-zero)/1000*g\n",
    "    println(\"$(round(val,2)) N at $(label[i]) throttle\")\n",
    "end"
   ]
  },
  {
   "cell_type": "markdown",
   "metadata": {
    "hidden": true
   },
   "source": [
    "Hence, we increased from 4.3 N from the previous flight to 4.9 N in this flight with bigger motors and props."
   ]
  },
  {
   "cell_type": "markdown",
   "metadata": {
    "heading_collapsed": true,
    "hidden": true
   },
   "source": [
    "### Take-off prediction"
   ]
  },
  {
   "cell_type": "code",
   "execution_count": 1,
   "metadata": {
    "hidden": true
   },
   "outputs": [
    {
     "name": "stdout",
     "output_type": "stream",
     "text": [
      "\tV required for Lift=12.25 (N) : 10.17 (m/s)\n",
      "\tDrag at V=10.17 m/s: 1.11 (N)\n"
     ]
    }
   ],
   "source": [
    "\n",
    "rho = 1.1\n",
    "Sref = 0.2989\n",
    "CL = 0.72\n",
    "CD = 0.065\n",
    "\n",
    "M = (1250)/1000\n",
    "W = M*9.8\n",
    "L = W\n",
    "V = sqrt(L/CL / (0.5*rho*Sref))\n",
    "D = CD * (0.5*rho*V^2*Sref)\n",
    "println(\"\\tV required for Lift=$(round(W,2)) (N) : $(round(V,2)) (m/s)\")\n",
    "println(\"\\tDrag at V=$(round(V,2)) m/s: $(round(D,2)) (N)\")\n"
   ]
  },
  {
   "cell_type": "code",
   "execution_count": 5,
   "metadata": {
    "hidden": true
   },
   "outputs": [
    {
     "name": "stdout",
     "output_type": "stream",
     "text": [
      "Acceleration: 3.03 (m/s^2)\n",
      "Ramp up time for take off with Vini=0.0m/s: 3.36 (s)\n",
      "Ramp up time for take off with Vini=2.2m/s: 2.63 (s)\n"
     ]
    }
   ],
   "source": [
    "D = 1.11           # (N) Drag\n",
    "T = 4.9         # (N) Thrust at full throttle\n",
    "M = 1.25           # (kg) Mass\n",
    "V = 10.2         # (m/s) Take-off speed\n",
    "Vi = 0.0        # (m/s) Initial speed\n",
    "\n",
    "a = (T-D)/(M)\n",
    "println(\"Acceleration: $(round(a,2)) (m/s^2)\")\n",
    "t = (V-Vi)/a\n",
    "println(\"Ramp up time for take off with Vini=$(round(Vi,1))m/s: $(round(t,2)) (s)\")\n",
    "\n",
    "Vi = 5*0.44704  # (m/s) Initial speed\n",
    "t = (V-Vi)/a\n",
    "println(\"Ramp up time for take off with Vini=$(round(Vi,1))m/s: $(round(t,2)) (s)\")\n"
   ]
  },
  {
   "cell_type": "markdown",
   "metadata": {
    "hidden": true
   },
   "source": [
    "Hence, even though we increased the thrust, the higher mass ends up increasing the ramp-up time to take-off speed, so taking off will be trickier."
   ]
  },
  {
   "cell_type": "markdown",
   "metadata": {
    "heading_collapsed": true
   },
   "source": [
    "## 20171202 - Flight"
   ]
  },
  {
   "cell_type": "markdown",
   "metadata": {
    "hidden": true
   },
   "source": [
    "<img src=\"img/IMG_3156.JPG\" alt=\"Pic here\" style=\"width:600px\">\n",
    "<img src=\"img/IMG_3157.JPG\" alt=\"Pic here\" style=\"width:600px\">"
   ]
  },
  {
   "cell_type": "markdown",
   "metadata": {
    "heading_collapsed": true,
    "hidden": true
   },
   "source": [
    "### Flight 1"
   ]
  },
  {
   "cell_type": "markdown",
   "metadata": {
    "hidden": true
   },
   "source": [
    "<img src=\"img/day2flight101.png\" alt=\"Pic here\" style=\"width:600px\">\n",
    "* Thrown at a negative AOA (see pic above).\n",
    "* It dives due to the negative AOA for the first sec, and attempts to pitch up after that, but it is too late.\n",
    "* In crashed on the ground after 1.5 secs.\n"
   ]
  },
  {
   "cell_type": "markdown",
   "metadata": {
    "heading_collapsed": true,
    "hidden": true
   },
   "source": [
    "### Flight 2"
   ]
  },
  {
   "cell_type": "markdown",
   "metadata": {
    "hidden": true
   },
   "source": [
    "<img src=\"img/day2flight201.png\" alt=\"Pic here\" style=\"width:600px\">\n",
    "* Thrown at a high AOA (see pic above).\n",
    "* It dives and pitches down immediately after launch (is it possible it stalls due to the high AOA?), and attempts to pitch up right before hiting the ground.\n",
    "* In crashed on the ground after 1.0 sec.\n"
   ]
  },
  {
   "cell_type": "markdown",
   "metadata": {
    "heading_collapsed": true,
    "hidden": true
   },
   "source": [
    "### Flight 3"
   ]
  },
  {
   "cell_type": "markdown",
   "metadata": {
    "hidden": true
   },
   "source": [
    "Kevin mentioned they had trimmed the canard to what it looked a leveled angle that morning. Surely enough, it was level, bringing the canard to an effective angle of 0 relative to the wing; for this flight we trimmed the canard to the right $3^\\circ$ angle we designed for and took off perfectly without diving like the previous attempts.\n",
    "\n",
    "<img src=\"img/day2flight301.png\" alt=\"Pic here\" style=\"width:600px\">\n",
    "* Thrown at a high AOA (see pic above), but immediately levels itself out after reaching full throttle making a perfect take off. Also Austin tossed it before let it go, giving it a higher initial speed.\n",
    "* Loses altitude for about 1.5 secs after tossing (but without pitching down), and starts climbing immediately after that.\n",
    "* Total flight time before running out of battery: 2mins and 10secs"
   ]
  },
  {
   "cell_type": "markdown",
   "metadata": {
    "heading_collapsed": true,
    "hidden": true
   },
   "source": [
    "### Flight 4"
   ]
  },
  {
   "cell_type": "markdown",
   "metadata": {
    "hidden": true
   },
   "source": [
    "My phone run out of memory, hence the video didn't get stored. Just for the records, it was a succesfull flight but shorted, since we used the smaller backup battery."
   ]
  }
 ],
 "metadata": {
  "kernelspec": {
   "display_name": "Julia 0.6.0",
   "language": "julia",
   "name": "julia-0.6"
  },
  "language_info": {
   "file_extension": ".jl",
   "mimetype": "application/julia",
   "name": "julia",
   "version": "0.6.0"
  }
 },
 "nbformat": 4,
 "nbformat_minor": 2
}
