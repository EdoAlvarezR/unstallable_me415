{
 "cells": [
  {
   "cell_type": "markdown",
   "metadata": {},
   "source": [
    "# Design documentation"
   ]
  },
  {
   "cell_type": "markdown",
   "metadata": {},
   "source": [
    "## 20171127"
   ]
  },
  {
   "cell_type": "markdown",
   "metadata": {},
   "source": [
    "This is the current design: \n",
    "<img src=\"img/pic00.png\" alt=\"Pic here\" style=\"width:600px\">\n",
    "<img src=\"img/piccurve00.png\" alt=\"Pic here\" style=\"width:600px\">"
   ]
  },
  {
   "cell_type": "markdown",
   "metadata": {},
   "source": [
    "The canard in that design is center at the fuselage, but it looks like we will end up mounting it to the wing as we did on the first build. Let's include that into the design.\n",
    "\n",
    "<img src=\"img/pic01.png\" alt=\"Pic here\" style=\"width:600px\">\n",
    "<img src=\"img/piccurve01.png\" alt=\"Pic here\" style=\"width:600px\">"
   ]
  },
  {
   "cell_type": "code",
   "execution_count": 5,
   "metadata": {},
   "outputs": [
    {
     "name": "stdout",
     "output_type": "stream",
     "text": [
      "V required for Lift=6.53 (N) : 7.9 (m/s)\n"
     ]
    }
   ],
   "source": [
    "M = (300 + 306 + 60)/1000\n",
    "W = M*9.8\n",
    "rho = 1.1\n",
    "Sref = 0.3669\n",
    "L = W\n",
    "CL = 0.518\n",
    "V = sqrt(L/CL / (0.5*rho*Sref))\n",
    "println(\"V required for Lift=$(round(W,2)) (N) : $(round(V,2)) (m/s)\")"
   ]
  }
 ],
 "metadata": {
  "kernelspec": {
   "display_name": "Julia 0.6.0",
   "language": "julia",
   "name": "julia-0.6"
  },
  "language_info": {
   "file_extension": ".jl",
   "mimetype": "application/julia",
   "name": "julia",
   "version": "0.6.0"
  }
 },
 "nbformat": 4,
 "nbformat_minor": 2
}
